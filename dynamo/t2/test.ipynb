{
 "cells": [
  {
   "cell_type": "code",
   "execution_count": 1,
   "metadata": {},
   "outputs": [
    {
     "data": {
      "image/png": "[encoded data removed]",
      "text/plain": [
       "<Figure size 640x480 with 1 Axes>"
      ]
     },
     "metadata": {},
     "output_type": "display_data"
    }
   ],
   "source": [
    "import matplotlib.image as mpimg\n",
    "import numpy as np\n",
    "import scipy.stats as stats\n",
    "import matplotlib.pyplot as pl\n",
    "\n",
    "image = mpimg.imread(\"clouds.png\")\n",
    "\n",
    "npix = image.shape[0]\n",
    "\n",
    "fourier_image = np.fft.fftn(image)\n",
    "fourier_amplitudes = np.abs(fourier_image)**2\n",
    "\n",
    "kfreq = np.fft.fftfreq(npix) * npix\n",
    "kfreq2D = np.meshgrid(kfreq, kfreq)\n",
    "knrm = np.sqrt(kfreq2D[0]**2 + kfreq2D[1]**2)\n",
    "\n",
    "knrm = knrm.flatten()\n",
    "fourier_amplitudes = fourier_amplitudes.flatten()\n",
    "\n",
    "kbins = np.arange(0.5, npix//2+1, 1.)\n",
    "kvals = 0.5 * (kbins[1:] + kbins[:-1])\n",
    "Abins, _, _ = stats.binned_statistic(knrm, fourier_amplitudes,\n",
    "                                     statistic = \"mean\",\n",
    "                                     bins = kbins)\n",
    "Abins *= np.pi * (kbins[1:]**2 - kbins[:-1]**2)\n",
    "\n",
    "pl.loglog(kvals, Abins)\n",
    "pl.xlabel(\"$k$\")\n",
    "pl.ylabel(\"$P(k)$\")\n",
    "pl.tight_layout()\n",
    "pl.savefig(\"cloud_power_spectrum.png\", dpi = 300, bbox_inches = \"tight\")\n",
    "# pl.show()"
   ]
  },
  {
   "cell_type": "code",
   "execution_count": 4,
   "metadata": {},
   "outputs": [
    {
     "data": {
      "text/plain": [
       "array([0.        , 1.        , 2.        , ..., 3.16227766, 2.23606798,\n",
       "       1.41421356])"
      ]
     },
     "execution_count": 4,
     "metadata": {},
     "output_type": "execute_result"
    }
   ],
   "source": [
    "knrm"
   ]
  },
  {
   "cell_type": "code",
   "execution_count": 6,
   "metadata": {},
   "outputs": [
    {
     "data": {
      "text/plain": [
       "array([   0.,    1.,    2.,    3.,    4.,    5.,    6.,    7.,    8.,\n",
       "          9.,   10.,   11.,   12.,   13.,   14.,   15.,   16.,   17.,\n",
       "         18.,   19.,   20.,   21.,   22.,   23.,   24.,   25.,   26.,\n",
       "         27.,   28.,   29.,   30.,   31.,   32.,   33.,   34.,   35.,\n",
       "         36.,   37.,   38.,   39.,   40.,   41.,   42.,   43.,   44.,\n",
       "         45.,   46.,   47.,   48.,   49.,   50.,   51.,   52.,   53.,\n",
       "         54.,   55.,   56.,   57.,   58.,   59.,   60.,   61.,   62.,\n",
       "         63.,   64.,   65.,   66.,   67.,   68.,   69.,   70.,   71.,\n",
       "         72.,   73.,   74.,   75.,   76.,   77.,   78.,   79.,   80.,\n",
       "         81.,   82.,   83.,   84.,   85.,   86.,   87.,   88.,   89.,\n",
       "         90.,   91.,   92.,   93.,   94.,   95.,   96.,   97.,   98.,\n",
       "         99.,  100.,  101.,  102.,  103.,  104.,  105.,  106.,  107.,\n",
       "        108.,  109.,  110.,  111.,  112.,  113.,  114.,  115.,  116.,\n",
       "        117.,  118.,  119.,  120.,  121.,  122.,  123.,  124.,  125.,\n",
       "        126.,  127.,  128.,  129.,  130.,  131.,  132.,  133.,  134.,\n",
       "        135.,  136.,  137.,  138.,  139.,  140.,  141.,  142.,  143.,\n",
       "        144.,  145.,  146.,  147.,  148.,  149.,  150.,  151.,  152.,\n",
       "        153.,  154.,  155.,  156.,  157.,  158.,  159.,  160.,  161.,\n",
       "        162.,  163.,  164.,  165.,  166.,  167.,  168.,  169.,  170.,\n",
       "        171.,  172.,  173.,  174.,  175.,  176.,  177.,  178.,  179.,\n",
       "        180.,  181.,  182.,  183.,  184.,  185.,  186.,  187.,  188.,\n",
       "        189.,  190.,  191.,  192.,  193.,  194.,  195.,  196.,  197.,\n",
       "        198.,  199.,  200.,  201.,  202.,  203.,  204.,  205.,  206.,\n",
       "        207.,  208.,  209.,  210.,  211.,  212.,  213.,  214.,  215.,\n",
       "        216.,  217.,  218.,  219.,  220.,  221.,  222.,  223.,  224.,\n",
       "        225.,  226.,  227.,  228.,  229.,  230.,  231.,  232.,  233.,\n",
       "        234.,  235.,  236.,  237.,  238.,  239.,  240.,  241.,  242.,\n",
       "        243.,  244.,  245.,  246.,  247.,  248.,  249.,  250.,  251.,\n",
       "        252.,  253.,  254.,  255.,  256.,  257.,  258.,  259.,  260.,\n",
       "        261.,  262.,  263.,  264.,  265.,  266.,  267.,  268.,  269.,\n",
       "        270.,  271.,  272.,  273.,  274.,  275.,  276.,  277.,  278.,\n",
       "        279.,  280.,  281.,  282.,  283.,  284.,  285.,  286.,  287.,\n",
       "        288.,  289.,  290.,  291.,  292.,  293.,  294.,  295.,  296.,\n",
       "        297.,  298.,  299.,  300.,  301.,  302.,  303.,  304.,  305.,\n",
       "        306.,  307.,  308.,  309.,  310.,  311.,  312.,  313.,  314.,\n",
       "        315.,  316.,  317.,  318.,  319.,  320.,  321.,  322.,  323.,\n",
       "        324.,  325.,  326.,  327.,  328.,  329.,  330.,  331.,  332.,\n",
       "        333.,  334.,  335.,  336.,  337.,  338.,  339.,  340.,  341.,\n",
       "        342.,  343.,  344.,  345.,  346.,  347.,  348.,  349.,  350.,\n",
       "        351.,  352.,  353.,  354.,  355.,  356.,  357.,  358.,  359.,\n",
       "        360.,  361.,  362.,  363.,  364.,  365.,  366.,  367.,  368.,\n",
       "        369.,  370.,  371.,  372.,  373.,  374.,  375.,  376.,  377.,\n",
       "        378.,  379.,  380.,  381.,  382.,  383.,  384.,  385.,  386.,\n",
       "        387.,  388.,  389.,  390.,  391.,  392.,  393.,  394.,  395.,\n",
       "        396.,  397.,  398.,  399.,  400.,  401.,  402.,  403.,  404.,\n",
       "        405.,  406.,  407.,  408.,  409.,  410.,  411.,  412.,  413.,\n",
       "        414.,  415.,  416.,  417.,  418.,  419.,  420.,  421.,  422.,\n",
       "        423.,  424.,  425.,  426.,  427.,  428.,  429.,  430.,  431.,\n",
       "        432.,  433.,  434.,  435.,  436.,  437.,  438.,  439.,  440.,\n",
       "        441.,  442.,  443.,  444.,  445.,  446.,  447.,  448.,  449.,\n",
       "        450.,  451.,  452.,  453.,  454.,  455.,  456.,  457.,  458.,\n",
       "        459.,  460.,  461.,  462.,  463.,  464.,  465.,  466.,  467.,\n",
       "        468.,  469.,  470.,  471.,  472.,  473.,  474.,  475.,  476.,\n",
       "        477.,  478.,  479.,  480.,  481.,  482.,  483.,  484.,  485.,\n",
       "        486.,  487.,  488.,  489.,  490.,  491.,  492.,  493.,  494.,\n",
       "        495.,  496.,  497.,  498.,  499., -500., -499., -498., -497.,\n",
       "       -496., -495., -494., -493., -492., -491., -490., -489., -488.,\n",
       "       -487., -486., -485., -484., -483., -482., -481., -480., -479.,\n",
       "       -478., -477., -476., -475., -474., -473., -472., -471., -470.,\n",
       "       -469., -468., -467., -466., -465., -464., -463., -462., -461.,\n",
       "       -460., -459., -458., -457., -456., -455., -454., -453., -452.,\n",
       "       -451., -450., -449., -448., -447., -446., -445., -444., -443.,\n",
       "       -442., -441., -440., -439., -438., -437., -436., -435., -434.,\n",
       "       -433., -432., -431., -430., -429., -428., -427., -426., -425.,\n",
       "       -424., -423., -422., -421., -420., -419., -418., -417., -416.,\n",
       "       -415., -414., -413., -412., -411., -410., -409., -408., -407.,\n",
       "       -406., -405., -404., -403., -402., -401., -400., -399., -398.,\n",
       "       -397., -396., -395., -394., -393., -392., -391., -390., -389.,\n",
       "       -388., -387., -386., -385., -384., -383., -382., -381., -380.,\n",
       "       -379., -378., -377., -376., -375., -374., -373., -372., -371.,\n",
       "       -370., -369., -368., -367., -366., -365., -364., -363., -362.,\n",
       "       -361., -360., -359., -358., -357., -356., -355., -354., -353.,\n",
       "       -352., -351., -350., -349., -348., -347., -346., -345., -344.,\n",
       "       -343., -342., -341., -340., -339., -338., -337., -336., -335.,\n",
       "       -334., -333., -332., -331., -330., -329., -328., -327., -326.,\n",
       "       -325., -324., -323., -322., -321., -320., -319., -318., -317.,\n",
       "       -316., -315., -314., -313., -312., -311., -310., -309., -308.,\n",
       "       -307., -306., -305., -304., -303., -302., -301., -300., -299.,\n",
       "       -298., -297., -296., -295., -294., -293., -292., -291., -290.,\n",
       "       -289., -288., -287., -286., -285., -284., -283., -282., -281.,\n",
       "       -280., -279., -278., -277., -276., -275., -274., -273., -272.,\n",
       "       -271., -270., -269., -268., -267., -266., -265., -264., -263.,\n",
       "       -262., -261., -260., -259., -258., -257., -256., -255., -254.,\n",
       "       -253., -252., -251., -250., -249., -248., -247., -246., -245.,\n",
       "       -244., -243., -242., -241., -240., -239., -238., -237., -236.,\n",
       "       -235., -234., -233., -232., -231., -230., -229., -228., -227.,\n",
       "       -226., -225., -224., -223., -222., -221., -220., -219., -218.,\n",
       "       -217., -216., -215., -214., -213., -212., -211., -210., -209.,\n",
       "       -208., -207., -206., -205., -204., -203., -202., -201., -200.,\n",
       "       -199., -198., -197., -196., -195., -194., -193., -192., -191.,\n",
       "       -190., -189., -188., -187., -186., -185., -184., -183., -182.,\n",
       "       -181., -180., -179., -178., -177., -176., -175., -174., -173.,\n",
       "       -172., -171., -170., -169., -168., -167., -166., -165., -164.,\n",
       "       -163., -162., -161., -160., -159., -158., -157., -156., -155.,\n",
       "       -154., -153., -152., -151., -150., -149., -148., -147., -146.,\n",
       "       -145., -144., -143., -142., -141., -140., -139., -138., -137.,\n",
       "       -136., -135., -134., -133., -132., -131., -130., -129., -128.,\n",
       "       -127., -126., -125., -124., -123., -122., -121., -120., -119.,\n",
       "       -118., -117., -116., -115., -114., -113., -112., -111., -110.,\n",
       "       -109., -108., -107., -106., -105., -104., -103., -102., -101.,\n",
       "       -100.,  -99.,  -98.,  -97.,  -96.,  -95.,  -94.,  -93.,  -92.,\n",
       "        -91.,  -90.,  -89.,  -88.,  -87.,  -86.,  -85.,  -84.,  -83.,\n",
       "        -82.,  -81.,  -80.,  -79.,  -78.,  -77.,  -76.,  -75.,  -74.,\n",
       "        -73.,  -72.,  -71.,  -70.,  -69.,  -68.,  -67.,  -66.,  -65.,\n",
       "        -64.,  -63.,  -62.,  -61.,  -60.,  -59.,  -58.,  -57.,  -56.,\n",
       "        -55.,  -54.,  -53.,  -52.,  -51.,  -50.,  -49.,  -48.,  -47.,\n",
       "        -46.,  -45.,  -44.,  -43.,  -42.,  -41.,  -40.,  -39.,  -38.,\n",
       "        -37.,  -36.,  -35.,  -34.,  -33.,  -32.,  -31.,  -30.,  -29.,\n",
       "        -28.,  -27.,  -26.,  -25.,  -24.,  -23.,  -22.,  -21.,  -20.,\n",
       "        -19.,  -18.,  -17.,  -16.,  -15.,  -14.,  -13.,  -12.,  -11.,\n",
       "        -10.,   -9.,   -8.,   -7.,   -6.,   -5.,   -4.,   -3.,   -2.,\n",
       "         -1.])"
      ]
     },
     "execution_count": 6,
     "metadata": {},
     "output_type": "execute_result"
    }
   ],
   "source": [
    "kfreq"
   ]
  },
  {
   "cell_type": "code",
   "execution_count": 2,
   "metadata": {},
   "outputs": [
    {
     "data": {
      "text/plain": [
       "array([[ 0.,  1.,  2., ..., -3., -2., -1.],\n",
       "       [ 0.,  1.,  2., ..., -3., -2., -1.],\n",
       "       [ 0.,  1.,  2., ..., -3., -2., -1.],\n",
       "       ...,\n",
       "       [ 0.,  1.,  2., ..., -3., -2., -1.],\n",
       "       [ 0.,  1.,  2., ..., -3., -2., -1.],\n",
       "       [ 0.,  1.,  2., ..., -3., -2., -1.]])"
      ]
     },
     "execution_count": 2,
     "metadata": {},
     "output_type": "execute_result"
    }
   ],
   "source": [
    "kfreq2D[0]"
   ]
  },
  {
   "cell_type": "code",
   "execution_count": 3,
   "metadata": {},
   "outputs": [
    {
     "data": {
      "text/plain": [
       "array([[ 0.,  0.,  0., ...,  0.,  0.,  0.],\n",
       "       [ 1.,  1.,  1., ...,  1.,  1.,  1.],\n",
       "       [ 2.,  2.,  2., ...,  2.,  2.,  2.],\n",
       "       ...,\n",
       "       [-3., -3., -3., ..., -3., -3., -3.],\n",
       "       [-2., -2., -2., ..., -2., -2., -2.],\n",
       "       [-1., -1., -1., ..., -1., -1., -1.]])"
      ]
     },
     "execution_count": 3,
     "metadata": {},
     "output_type": "execute_result"
    }
   ],
   "source": [
    "kfreq2D[1]"
   ]
  },
  {
   "cell_type": "code",
   "execution_count": 21,
   "metadata": {},
   "outputs": [
    {
     "data": {
      "text/plain": [
       "556194994247.5422"
      ]
     },
     "execution_count": 21,
     "metadata": {},
     "output_type": "execute_result"
    }
   ],
   "source": [
    "fourier_amplitudes.max()"
   ]
  },
  {
   "cell_type": "code",
   "execution_count": 55,
   "metadata": {},
   "outputs": [
    {
     "name": "stdout",
     "output_type": "stream",
     "text": [
      "\n",
      "arr : \n",
      " [20, 3, 2, 50, 7, 1, 34]\n",
      "edges [ 1.          9.16666667 17.33333333 25.5        33.66666667 41.83333333\n",
      " 50.        ]\n",
      "\n",
      "binned_statistic for count : \n",
      " [4. 0. 1. 0. 1. 1.]\n",
      "\n",
      "binned_statistic for sum with [4,1,1,1,1,0,1] : \n",
      " [3. 0. 4. 0. 1. 1.]\n",
      "\n",
      "binned_statistic for mean with [4,1,1,1,1,0,1] : \n",
      " [0.75  nan 4.    nan 1.   1.  ]\n"
     ]
    }
   ],
   "source": [
    "arr = [20, 3, 2, 50, 7, 1, 34]\n",
    "print(\"\\narr : \\n\", arr)  \n",
    "  \n",
    "  \n",
    "# median   \n",
    "Ab, edges,_ = stats.binned_statistic(arr, [1,1,1,1,1,1,1], statistic ='count', bins = 6)\n",
    "print(\"edges\", edges)\n",
    "print(\"\\nbinned_statistic for count : \\n\", Ab)  \n",
    "Ab, edges,_ = stats.binned_statistic(arr, [4,1,1,1,1,0,1], statistic ='sum', bins = 6)\n",
    "print(\"\\nbinned_statistic for sum with [4,1,1,1,1,0,1] : \\n\", Ab)  \n",
    "\n",
    "Ab, edges,_ = stats.binned_statistic(arr, [4,1,1,1,1,0,1], statistic ='mean', bins = 6)\n",
    "print(\"\\nbinned_statistic for mean with [4,1,1,1,1,0,1] : \\n\", Ab)  \n",
    "# print(edges)\n",
    "\n",
    "# pl.loglog(arr, Ab)\n",
    "# pl.scatter(arr, Ab)\n",
    "# pl.xlabel(\"$k$\")\n",
    "# pl.ylabel(\"$P(k)$\")\n",
    "# pl.tight_layout()\n",
    "# pl.show()\n",
    "# pl.savefig(\"cloud_power_spectrum.png\", dpi = 300, bbox_inches = \"tight\")"
   ]
  },
  {
   "cell_type": "code",
   "execution_count": 48,
   "metadata": {},
   "outputs": [
    {
     "data": {
      "text/plain": [
       "0.6666666666666666"
      ]
     },
     "execution_count": 48,
     "metadata": {},
     "output_type": "execute_result"
    }
   ],
   "source": [
    "2/3"
   ]
  },
  {
   "cell_type": "code",
   "execution_count": 12,
   "metadata": {},
   "outputs": [
    {
     "name": "stdout",
     "output_type": "stream",
     "text": [
      "\n",
      "arr : \n",
      " [20, 2, 7, 1, 34]\n",
      "\n",
      "binned_statistic for count : \n",
      " [1. 1. 1. 1. 1.]\n",
      "[0.  0.8 1.6 2.4 3.2 4. ]\n"
     ]
    },
    {
     "data": {
      "image/png": "[encoded data removed]",
      "text/plain": [
       "<Figure size 640x480 with 1 Axes>"
      ]
     },
     "metadata": {},
     "output_type": "display_data"
    }
   ],
   "source": [
    "arr = [20, 2, 7, 1, 34]\n",
    "print(\"\\narr : \\n\", arr)  \n",
    "  \n",
    "  \n",
    "# median   \n",
    "Ab, edges,_ = stats.binned_statistic(np.arange(5), arr, statistic ='count', bins = 5)\n",
    "print(\"\\nbinned_statistic for count : \\n\", Ab)  \n",
    "print(edges)\n",
    "\n",
    "# pl.loglog(arr, Ab)\n",
    "pl.scatter(np.arange(5), Ab)\n",
    "pl.xlabel(\"$k$\")\n",
    "pl.ylabel(\"$P(k)$\")\n",
    "pl.tight_layout()\n",
    "pl.show()\n",
    "# pl.savefig(\"cloud_power_spectrum.png\", dpi = 300, bbox_inches = \"tight\")"
   ]
  },
  {
   "cell_type": "code",
   "execution_count": 31,
   "metadata": {},
   "outputs": [
    {
     "data": {
      "text/plain": [
       "array([0, 1, 2, 3, 4])"
      ]
     },
     "execution_count": 31,
     "metadata": {},
     "output_type": "execute_result"
    }
   ],
   "source": [
    "np.arange(5)"
   ]
  },
  {
   "cell_type": "code",
   "execution_count": 8,
   "metadata": {},
   "outputs": [
    {
     "name": "stdout",
     "output_type": "stream",
     "text": [
      "Mean values per bin: [1. 1. 1. 0. 2. 1. 4. 0. 2. 1. 2. 1. 0. 1. 1. 2. 1. 1. 0. 0. 1. 1. 1. 0.\n",
      " 2. 2. 4. 0. 0. 1. 2. 2. 1. 1. 1. 0. 0. 0. 0. 1. 2. 0. 0. 1. 2. 1. 2. 1.\n",
      " 1. 1. 1. 0. 1. 3. 1. 3. 0. 0. 0. 0. 0. 3. 1. 0. 0. 0. 1. 0. 0. 0. 0. 1.\n",
      " 0. 0. 1. 0. 1. 0. 1. 2. 1. 3. 2. 1. 0. 1. 0. 0. 1. 0. 1. 2. 3. 1. 1. 4.\n",
      " 2. 1. 1. 2.]\n",
      "Bin edges: [0.0137819  0.02353413 0.03328635 0.04303857 0.0527908  0.06254302\n",
      " 0.07229525 0.08204747 0.09179969 0.10155192 0.11130414 0.12105637\n",
      " 0.13080859 0.14056081 0.15031304 0.16006526 0.16981748 0.17956971\n",
      " 0.18932193 0.19907416 0.20882638 0.2185786  0.22833083 0.23808305\n",
      " 0.24783528 0.2575875  0.26733972 0.27709195 0.28684417 0.29659639\n",
      " 0.30634862 0.31610084 0.32585307 0.33560529 0.34535751 0.35510974\n",
      " 0.36486196 0.37461419 0.38436641 0.39411863 0.40387086 0.41362308\n",
      " 0.4233753  0.43312753 0.44287975 0.45263198 0.4623842  0.47213642\n",
      " 0.48188865 0.49164087 0.5013931  0.51114532 0.52089754 0.53064977\n",
      " 0.54040199 0.55015421 0.55990644 0.56965866 0.57941089 0.58916311\n",
      " 0.59891533 0.60866756 0.61841978 0.62817201 0.63792423 0.64767645\n",
      " 0.65742868 0.6671809  0.67693312 0.68668535 0.69643757 0.7061898\n",
      " 0.71594202 0.72569424 0.73544647 0.74519869 0.75495092 0.76470314\n",
      " 0.77445536 0.78420759 0.79395981 0.80371204 0.81346426 0.82321648\n",
      " 0.83296871 0.84272093 0.85247315 0.86222538 0.8719776  0.88172983\n",
      " 0.89148205 0.90123427 0.9109865  0.92073872 0.93049095 0.94024317\n",
      " 0.94999539 0.95974762 0.96949984 0.97925206 0.98900429]\n",
      "Bin numbers for each element in x: [  5 100   9  96  56  91  34  81  54  77  17  26  41  67   3  16  54  27\n",
      "  96  16  95  82  79  30  41  62  94  33  12  54  56  26  99  10  45   5\n",
      "  53  47  27  50  47   7  25  80  14  15  96  92  32  98  93  44  86  45\n",
      "  96   7   1  35  82  89   9  51   7  27 100  92  49  83  11  18  48  56\n",
      "  93  97  32  97  25  55  23  40  84  21  83  62  63  82  31  46   7  31\n",
      "  93   6   2  75  22  62  80  27  72  11]\n"
     ]
    },
    {
     "data": {
      "text/plain": [
       "<matplotlib.collections.PathCollection at 0x155415864ad0>"
      ]
     },
     "execution_count": 8,
     "metadata": {},
     "output_type": "execute_result"
    },
    {
     "data": {
      "image/png": "[encoded data removed]",
      "text/plain": [
       "<Figure size 640x480 with 1 Axes>"
      ]
     },
     "metadata": {},
     "output_type": "display_data"
    }
   ],
   "source": [
    "import numpy as np\n",
    "from scipy.stats import binned_statistic\n",
    "\n",
    "# Data\n",
    "x = np.random.rand(100)  # 100 random numbers between 0 and 1\n",
    "values = np.sin(2 * np.pi * x)  # sine of 2*pi*x\n",
    "\n",
    "# Compute the mean statistic for each bin\n",
    "statistic, bin_edges, binnumber = binned_statistic(x, values, statistic='count', bins=100)\n",
    "\n",
    "print(\"Mean values per bin:\", statistic)\n",
    "print(\"Bin edges:\", bin_edges)\n",
    "print(\"Bin numbers for each element in x:\", binnumber)\n",
    "pl.scatter(x, statistic)\n"
   ]
  },
  {
   "cell_type": "code",
   "execution_count": 8,
   "metadata": {},
   "outputs": [],
   "source": [
    "import numpy as np\n",
    "nx, ny = (3, 2)\n",
    "x = np.linspace(0, 1, nx)\n",
    "y = np.linspace(0, 1, ny)\n",
    "xv, yv = np.meshgrid(x, y)"
   ]
  },
  {
   "cell_type": "code",
   "execution_count": 9,
   "metadata": {},
   "outputs": [
    {
     "data": {
      "text/plain": [
       "array([[0. , 0.5, 1. ],\n",
       "       [0. , 0.5, 1. ]])"
      ]
     },
     "execution_count": 9,
     "metadata": {},
     "output_type": "execute_result"
    }
   ],
   "source": [
    "xv"
   ]
  },
  {
   "cell_type": "code",
   "execution_count": 10,
   "metadata": {},
   "outputs": [
    {
     "data": {
      "text/plain": [
       "array([[0., 0., 0.],\n",
       "       [1., 1., 1.]])"
      ]
     },
     "execution_count": 10,
     "metadata": {},
     "output_type": "execute_result"
    }
   ],
   "source": [
    "yv"
   ]
  }
 ],
 "metadata": {
  "kernelspec": {
   "display_name": "env_pencil",
   "language": "python",
   "name": "python3"
  },
  "language_info": {
   "codemirror_mode": {
    "name": "ipython",
    "version": 3
   },
   "file_extension": ".py",
   "mimetype": "text/x-python",
   "name": "python",
   "nbconvert_exporter": "python",
   "pygments_lexer": "ipython3",
   "version": "3.11.8"
  }
 },
 "nbformat": 4,
 "nbformat_minor": 2
}
