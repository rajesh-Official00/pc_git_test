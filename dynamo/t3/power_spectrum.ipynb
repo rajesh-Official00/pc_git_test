{
 "cells": [
  {
   "cell_type": "code",
   "execution_count": 1,
   "metadata": {},
   "outputs": [
    {
     "name": "stdout",
     "output_type": "stream",
     "text": [
      "Warning: pencilnew has moved to pencil.\n",
      "         pencil has moved to pencil_old.\n",
      "To change your scripts accordingly:\n",
      "import pencilnew as pc -> import pencil as pc\n",
      "import pencil as pc -> import pencil_old as pc\n"
     ]
    }
   ],
   "source": [
    "import pencil as pc\n",
    "import matplotlib.pyplot as plt\n",
    "import numpy as np\n",
    "import scipy.stats as stats\n",
    "from scipy.optimize import curve_fit"
   ]
  },
  {
   "cell_type": "code",
   "execution_count": 2,
   "metadata": {},
   "outputs": [],
   "source": [
    "plt.rcParams['text.usetex'] = True\n",
    "plt.rcParams.update({'font.size': 11})"
   ]
  },
  {
   "cell_type": "code",
   "execution_count": 3,
   "metadata": {},
   "outputs": [],
   "source": [
    "param = pc.read.param()"
   ]
  },
  {
   "cell_type": "code",
   "execution_count": 4,
   "metadata": {},
   "outputs": [],
   "source": [
    "grid = pc.read.grid(trim=True, quiet=True)"
   ]
  },
  {
   "cell_type": "code",
   "execution_count": 5,
   "metadata": {},
   "outputs": [],
   "source": [
    "z = grid.z\n",
    "x = grid.x\n",
    "y = grid.y"
   ]
  },
  {
   "cell_type": "code",
   "execution_count": 6,
   "metadata": {},
   "outputs": [],
   "source": [
    "sim = pc.get_sim()"
   ]
  },
  {
   "cell_type": "code",
   "execution_count": 7,
   "metadata": {},
   "outputs": [
    {
     "data": {
      "text/plain": [
       "['VAR0',\n",
       " 'VAR1',\n",
       " 'VAR2',\n",
       " 'VAR3',\n",
       " 'VAR4',\n",
       " 'VAR5',\n",
       " 'VAR6',\n",
       " 'VAR7',\n",
       " 'VAR8',\n",
       " 'VAR9',\n",
       " 'VAR10',\n",
       " 'VAR11',\n",
       " 'VAR12',\n",
       " 'VAR13',\n",
       " 'VAR14',\n",
       " 'VAR15',\n",
       " 'VAR16',\n",
       " 'VAR17',\n",
       " 'VAR18',\n",
       " 'VAR19',\n",
       " 'VAR20',\n",
       " 'VAR21',\n",
       " 'VAR22',\n",
       " 'VAR23',\n",
       " 'VAR24',\n",
       " 'VAR25',\n",
       " 'VAR26',\n",
       " 'VAR27',\n",
       " 'VAR28',\n",
       " 'VAR29',\n",
       " 'VAR30',\n",
       " 'VAR31',\n",
       " 'VAR32',\n",
       " 'VAR33',\n",
       " 'VAR34',\n",
       " 'VAR35',\n",
       " 'VAR36',\n",
       " 'VAR37',\n",
       " 'VAR38',\n",
       " 'VAR39',\n",
       " 'VAR40',\n",
       " 'VAR41',\n",
       " 'VAR42',\n",
       " 'VAR43',\n",
       " 'VAR44',\n",
       " 'VAR45',\n",
       " 'VAR46',\n",
       " 'VAR47',\n",
       " 'VAR48',\n",
       " 'VAR49',\n",
       " 'VAR50',\n",
       " 'VAR51',\n",
       " 'VAR52',\n",
       " 'VAR53',\n",
       " 'VAR54',\n",
       " 'VAR55',\n",
       " 'VAR56',\n",
       " 'VAR57',\n",
       " 'VAR58',\n",
       " 'VAR59',\n",
       " 'VAR60',\n",
       " 'VAR61',\n",
       " 'VAR62',\n",
       " 'VAR63',\n",
       " 'VAR64',\n",
       " 'VAR65',\n",
       " 'VAR66',\n",
       " 'VAR67',\n",
       " 'VAR68',\n",
       " 'VAR69',\n",
       " 'VAR70',\n",
       " 'VAR71',\n",
       " 'VAR72',\n",
       " 'VAR73',\n",
       " 'VAR74',\n",
       " 'VAR75',\n",
       " 'VAR76',\n",
       " 'VAR77',\n",
       " 'VAR78',\n",
       " 'VAR79',\n",
       " 'VAR80',\n",
       " 'VAR81',\n",
       " 'VAR82',\n",
       " 'VAR83',\n",
       " 'VAR84',\n",
       " 'VAR85',\n",
       " 'VAR86',\n",
       " 'VAR87',\n",
       " 'VAR88',\n",
       " 'VAR89',\n",
       " 'VAR90',\n",
       " 'VAR91',\n",
       " 'VAR92',\n",
       " 'VAR93',\n",
       " 'VAR94',\n",
       " 'VAR95',\n",
       " 'VAR96',\n",
       " 'VAR97',\n",
       " 'VAR98',\n",
       " 'VAR99',\n",
       " 'VAR100',\n",
       " 'VAR101',\n",
       " 'VAR102',\n",
       " 'VAR103',\n",
       " 'VAR104',\n",
       " 'VAR105',\n",
       " 'VAR106',\n",
       " 'VAR107',\n",
       " 'VAR108',\n",
       " 'VAR109',\n",
       " 'VAR110',\n",
       " 'VAR111',\n",
       " 'VAR112',\n",
       " 'VAR113',\n",
       " 'VAR114',\n",
       " 'VAR115',\n",
       " 'VAR116',\n",
       " 'VAR117',\n",
       " 'VAR118',\n",
       " 'VAR119',\n",
       " 'VAR120',\n",
       " 'VAR121',\n",
       " 'VAR122',\n",
       " 'VAR123',\n",
       " 'VAR124',\n",
       " 'VAR125',\n",
       " 'VAR126',\n",
       " 'VAR127',\n",
       " 'VAR128',\n",
       " 'VAR129',\n",
       " 'VAR130',\n",
       " 'VAR131',\n",
       " 'VAR132',\n",
       " 'VAR133',\n",
       " 'VAR134',\n",
       " 'VAR135',\n",
       " 'VAR136',\n",
       " 'VAR137',\n",
       " 'VAR138',\n",
       " 'VAR139',\n",
       " 'VAR140',\n",
       " 'VAR141',\n",
       " 'VAR142',\n",
       " 'VAR143',\n",
       " 'VAR144',\n",
       " 'VAR145',\n",
       " 'VAR146',\n",
       " 'VAR147',\n",
       " 'VAR148',\n",
       " 'VAR149',\n",
       " 'VAR150',\n",
       " 'VAR151',\n",
       " 'VAR152',\n",
       " 'VAR153',\n",
       " 'VAR154',\n",
       " 'VAR155',\n",
       " 'VAR156']"
      ]
     },
     "execution_count": 7,
     "metadata": {},
     "output_type": "execute_result"
    }
   ],
   "source": [
    "sim.get_varlist()"
   ]
  },
  {
   "cell_type": "code",
   "execution_count": 8,
   "metadata": {},
   "outputs": [
    {
     "data": {
      "text/plain": [
       "350.00197"
      ]
     },
     "execution_count": 8,
     "metadata": {},
     "output_type": "execute_result"
    }
   ],
   "source": [
    "sim.get_var_time('VAR7')"
   ]
  },
  {
   "cell_type": "code",
   "execution_count": 9,
   "metadata": {},
   "outputs": [],
   "source": [
    "# vars = np.zeros()\n",
    "# var = pc.read.var(var_file='VAR147', magic=['bb'], trimall=True)\n",
    "var = pc.read.var(var_file='VAR7', magic=['bb'], trimall=True)"
   ]
  },
  {
   "cell_type": "code",
   "execution_count": 10,
   "metadata": {},
   "outputs": [
    {
     "name": "stdout",
     "output_type": "stream",
     "text": [
      "t\n",
      "dx\n",
      "dy\n",
      "dz\n",
      "x\n",
      "y\n",
      "z\n",
      "f\n",
      "l1\n",
      "l2\n",
      "m1\n",
      "m2\n",
      "n1\n",
      "n2\n",
      "magic\n",
      "bb\n",
      "uu\n",
      "ux\n",
      "uy\n",
      "uz\n",
      "lnrho\n",
      "aa\n",
      "ax\n",
      "ay\n",
      "az\n"
     ]
    }
   ],
   "source": [
    "var.keys()"
   ]
  },
  {
   "cell_type": "code",
   "execution_count": 11,
   "metadata": {},
   "outputs": [
    {
     "data": {
      "text/plain": [
       "350.0019668417268"
      ]
     },
     "execution_count": 11,
     "metadata": {},
     "output_type": "execute_result"
    }
   ],
   "source": [
    "var.t"
   ]
  },
  {
   "cell_type": "code",
   "execution_count": 12,
   "metadata": {},
   "outputs": [
    {
     "data": {
      "text/plain": [
       "(3, 128, 128, 128)"
      ]
     },
     "execution_count": 12,
     "metadata": {},
     "output_type": "execute_result"
    }
   ],
   "source": [
    "var.bb.shape"
   ]
  },
  {
   "cell_type": "code",
   "execution_count": 73,
   "metadata": {},
   "outputs": [],
   "source": [
    "uz = var.uz[np.argmin(np.abs(z-0)),:,:]\n",
    "# uz = var.bb[2,np.argmin(np.abs(z-0)),:,:]"
   ]
  },
  {
   "cell_type": "code",
   "execution_count": 74,
   "metadata": {},
   "outputs": [
    {
     "data": {
      "text/plain": [
       "array([[0.17451967, 0.17491797, 0.17031569, ..., 0.14429233, 0.15896171,\n",
       "        0.16913939],\n",
       "       [0.16716975, 0.16608827, 0.16010112, ..., 0.14187024, 0.15480898,\n",
       "        0.16334791],\n",
       "       [0.15929148, 0.15670683, 0.14931613, ..., 0.13898489, 0.15017216,\n",
       "        0.15705138],\n",
       "       ...,\n",
       "       [0.18961728, 0.19395527, 0.19303277, ..., 0.14604722, 0.16542366,\n",
       "        0.18004791],\n",
       "       [0.18623093, 0.1893664 , 0.18732256, ..., 0.14676563, 0.16469287,\n",
       "        0.17794714],\n",
       "       [0.1810179 , 0.18283245, 0.1795552 , ..., 0.14603459, 0.16237912,\n",
       "        0.17413973]])"
      ]
     },
     "execution_count": 74,
     "metadata": {},
     "output_type": "execute_result"
    }
   ],
   "source": [
    "uz_ave = np.average(uz)\n",
    "uz_p = uz - uz_ave\n",
    "uz_p"
   ]
  },
  {
   "cell_type": "code",
   "execution_count": 75,
   "metadata": {},
   "outputs": [
    {
     "data": {
      "image/png": "[encoded data removed]",
      "text/plain": [
       "<Figure size 500x400 with 2 Axes>"
      ]
     },
     "metadata": {},
     "output_type": "display_data"
    }
   ],
   "source": [
    "X, Y = np.meshgrid(x, y)\n",
    "fig = plt.figure(figsize=(5,4.0))\n",
    "plt.contourf(X, Y, uz_p , cmap='plasma')\n",
    "plt.colorbar()\n",
    "plt.xlabel(r'$x$')\n",
    "plt.ylabel(r'$y$')\n",
    "plt.show()"
   ]
  },
  {
   "cell_type": "code",
   "execution_count": 76,
   "metadata": {},
   "outputs": [],
   "source": [
    "uz_f = np.fft.fftshift(np.fft.fft2(uz_p, norm='forward'))"
   ]
  },
  {
   "cell_type": "code",
   "execution_count": 77,
   "metadata": {},
   "outputs": [],
   "source": [
    "power_2d = np.abs(uz_f)**2"
   ]
  },
  {
   "cell_type": "code",
   "execution_count": 78,
   "metadata": {},
   "outputs": [],
   "source": [
    "kx = 2*np.pi*np.fft.fftshift(np.fft.fftfreq(len(x), d=(x[1]-x[0])))\n",
    "ky = 2*np.pi*np.fft.fftshift(np.fft.fftfreq(len(y), d=(y[1]-y[0])))"
   ]
  },
  {
   "cell_type": "code",
   "execution_count": 79,
   "metadata": {},
   "outputs": [
    {
     "data": {
      "text/plain": [
       "1.007873239077751"
      ]
     },
     "execution_count": 79,
     "metadata": {},
     "output_type": "execute_result"
    }
   ],
   "source": [
    "(x[-1]-x[0])/128\n",
    "x_min = (x[1]-x[0])\n",
    "x_min\n",
    "kx_max = 2*np.pi/x_min\n",
    "kx_max\n",
    "x_max = x[-1]-x[0]\n",
    "x_max\n",
    "kx_min = 2*np.pi/x_max\n",
    "kx_min\n"
   ]
  },
  {
   "cell_type": "code",
   "execution_count": 80,
   "metadata": {},
   "outputs": [],
   "source": [
    "# size = np.shape(uz)\n",
    "# lxyz = param.lxyz   #shape of the box\n",
    "# #size\n",
    "# nx = size[1]\n",
    "# lx = lxyz[0]\n",
    "# dkx = 2*np.pi/lx    #unit step along kx direction"
   ]
  },
  {
   "cell_type": "code",
   "execution_count": 81,
   "metadata": {},
   "outputs": [],
   "source": [
    "# if nx%2 == 0:\n",
    "#     fnx = np.arange(0, nx/2)\n",
    "#     rnx = -np.flip(np.arange(1, nx/2+1))\n",
    "#     kx = np.concatenate((fnx, rnx))*dkx\n",
    "# else:\n",
    "#     fnx = np.arange(0, nx/2)\n",
    "#     rnx = -np.flip(np.arange(1, nx/2))\n",
    "#     kx = np.concatenate((fnx, rnx))*dkx\n",
    "# kx = np.fft.fftshift(kx)"
   ]
  },
  {
   "cell_type": "code",
   "execution_count": 82,
   "metadata": {},
   "outputs": [],
   "source": [
    "# kx = 2*np.pi*np.fft.fftshift(np.fft.fftfreq(len(x), d=(x[1]-x[0])))\n",
    "# ky = 2*np.pi*np.fft.fftshift(np.fft.fftfreq(len(y), d=(y[1]-y[0])))"
   ]
  },
  {
   "cell_type": "code",
   "execution_count": 83,
   "metadata": {},
   "outputs": [
    {
     "data": {
      "image/png": "[encoded data removed]",
      "text/plain": [
       "<Figure size 500x400 with 2 Axes>"
      ]
     },
     "metadata": {},
     "output_type": "display_data"
    }
   ],
   "source": [
    "full = False\n",
    "X, Y = np.meshgrid(kx, ky)\n",
    "fig = plt.figure(figsize=(5,4.0))\n",
    "plt.contourf(X, Y, power_2d, 100 , cmap='plasma')\n",
    "plt.colorbar()\n",
    "if full==True:\n",
    "    llim = -10\n",
    "else:\n",
    "    llim = 0\n",
    "plt.xlim(llim,10)\n",
    "plt.ylim(llim,10)\n",
    "plt.xlabel(r'$k_x$')\n",
    "plt.ylabel(r'$k_y$')\n",
    "plt.savefig('uz.png')\n",
    "plt.show()"
   ]
  },
  {
   "cell_type": "code",
   "execution_count": 84,
   "metadata": {},
   "outputs": [],
   "source": [
    "def power_spectra(uz, plot=False):\n",
    "    uz_ave = np.average(uz)\n",
    "    uz_p = uz - uz_ave\n",
    "    uz_f = np.fft.fftshift(np.fft.fft2(uz_p, norm='ortho'))\n",
    "    power_2d = np.abs(uz_f)**2\n",
    "    x = grid.x\n",
    "    y = grid.y\n",
    "    kx = 2*np.pi*np.fft.fftshift(np.fft.fftfreq(len(x), d=(x[1]-x[0])))\n",
    "    ky = 2*np.pi*np.fft.fftshift(np.fft.fftfreq(len(y), d=(y[1]-y[0])))\n",
    "    kfreq2D = np.meshgrid(kx, ky)\n",
    "    knrm = np.sqrt(kfreq2D[0]**2 + kfreq2D[1]**2)\n",
    "    knrm = knrm.flatten()\n",
    "    fourier_amplitudes = power_2d.flatten()\n",
    "    npix = power_2d.shape[0]\n",
    "    kbins = np.arange(0.5, npix//2+1, 1.)\n",
    "    kvals = 0.5 * (kbins[1:] + kbins[:-1])\n",
    "\n",
    "    Abins, _, _ = stats.binned_statistic(knrm, fourier_amplitudes,\n",
    "                                     statistic = \"mean\",\n",
    "                                     bins = kbins)\n",
    "    Abins *= np.pi * (kbins[1:]**2 - kbins[:-1]**2)\n",
    "\n",
    "    if plot==True:\n",
    "        plt.figure(figsize=(5,4))\n",
    "        plt.loglog(kvals, Abins, label=fr'$t={np.round(var.t,2)}$')\n",
    "        plt.xlabel(r\"$k$\")\n",
    "        plt.ylabel(r\"$P(k)$\")\n",
    "        plt.tight_layout()\n",
    "        plt.savefig(f'plots/power_spectra.png', dpi = 300, bbox_inches = \"tight\")\n",
    "    return [kvals, Abins]"
   ]
  },
  {
   "cell_type": "code",
   "execution_count": 85,
   "metadata": {},
   "outputs": [
    {
     "data": {
      "image/png": "[encoded data removed]",
      "text/plain": [
       "<Figure size 640x480 with 1 Axes>"
      ]
     },
     "metadata": {},
     "output_type": "display_data"
    }
   ],
   "source": [
    "kv, Ab = power_spectra(uz, plot=True)"
   ]
  },
  {
   "cell_type": "code",
   "execution_count": 86,
   "metadata": {},
   "outputs": [],
   "source": [
    "kfreq2D = np.meshgrid(kx, ky)"
   ]
  },
  {
   "cell_type": "code",
   "execution_count": 87,
   "metadata": {},
   "outputs": [],
   "source": [
    "# kfreq2D.shape"
   ]
  },
  {
   "cell_type": "code",
   "execution_count": 88,
   "metadata": {},
   "outputs": [],
   "source": [
    "knrm = np.sqrt(kfreq2D[0]**2 + kfreq2D[1]**2)"
   ]
  },
  {
   "cell_type": "code",
   "execution_count": 89,
   "metadata": {},
   "outputs": [
    {
     "data": {
      "text/plain": [
       "(128, 128)"
      ]
     },
     "execution_count": 89,
     "metadata": {},
     "output_type": "execute_result"
    }
   ],
   "source": [
    "kfreq2D[0].shape"
   ]
  },
  {
   "cell_type": "code",
   "execution_count": 90,
   "metadata": {},
   "outputs": [
    {
     "data": {
      "text/plain": [
       "array([[90.50941133, 89.80509038, 89.10642495, ..., 88.41354911,\n",
       "        89.10642495, 89.80509038],\n",
       "       [89.80509038, 89.09520177, 88.39092537, ..., 87.6923964 ,\n",
       "        88.39092537, 89.09520177],\n",
       "       [89.10642495, 88.39092537, 87.68099222, ..., 86.97676181,\n",
       "        87.68099222, 88.39092537],\n",
       "       ...,\n",
       "       [88.41354911, 87.6923964 , 86.97676181, ..., 86.26678267,\n",
       "        86.97676181, 87.6923964 ],\n",
       "       [89.10642495, 88.39092537, 87.68099222, ..., 86.97676181,\n",
       "        87.68099222, 88.39092537],\n",
       "       [89.80509038, 89.09520177, 88.39092537, ..., 87.6923964 ,\n",
       "        88.39092537, 89.09520177]])"
      ]
     },
     "execution_count": 90,
     "metadata": {},
     "output_type": "execute_result"
    }
   ],
   "source": [
    "knrm"
   ]
  },
  {
   "cell_type": "code",
   "execution_count": 91,
   "metadata": {},
   "outputs": [],
   "source": [
    "knrm = knrm.flatten()\n",
    "fourier_amplitudes = power_2d.flatten()"
   ]
  },
  {
   "cell_type": "code",
   "execution_count": 92,
   "metadata": {},
   "outputs": [
    {
     "data": {
      "text/plain": [
       "(16384,)"
      ]
     },
     "execution_count": 92,
     "metadata": {},
     "output_type": "execute_result"
    }
   ],
   "source": [
    "knrm.shape"
   ]
  },
  {
   "cell_type": "code",
   "execution_count": 93,
   "metadata": {},
   "outputs": [
    {
     "data": {
      "text/plain": [
       "(16384,)"
      ]
     },
     "execution_count": 93,
     "metadata": {},
     "output_type": "execute_result"
    }
   ],
   "source": [
    "fourier_amplitudes.shape"
   ]
  },
  {
   "cell_type": "code",
   "execution_count": 94,
   "metadata": {},
   "outputs": [],
   "source": [
    "npix = power_2d.shape[0]"
   ]
  },
  {
   "cell_type": "code",
   "execution_count": 95,
   "metadata": {},
   "outputs": [
    {
     "data": {
      "text/plain": [
       "128"
      ]
     },
     "execution_count": 95,
     "metadata": {},
     "output_type": "execute_result"
    }
   ],
   "source": [
    "npix"
   ]
  },
  {
   "cell_type": "code",
   "execution_count": 96,
   "metadata": {},
   "outputs": [
    {
     "data": {
      "text/plain": [
       "array([ 0.5,  1.5,  2.5,  3.5,  4.5,  5.5,  6.5,  7.5,  8.5,  9.5, 10.5,\n",
       "       11.5, 12.5, 13.5, 14.5, 15.5, 16.5, 17.5, 18.5, 19.5, 20.5, 21.5,\n",
       "       22.5, 23.5, 24.5, 25.5, 26.5, 27.5, 28.5, 29.5, 30.5, 31.5, 32.5,\n",
       "       33.5, 34.5, 35.5, 36.5, 37.5, 38.5, 39.5, 40.5, 41.5, 42.5, 43.5,\n",
       "       44.5, 45.5, 46.5, 47.5, 48.5, 49.5, 50.5, 51.5, 52.5, 53.5, 54.5,\n",
       "       55.5, 56.5, 57.5, 58.5, 59.5, 60.5, 61.5, 62.5, 63.5, 64.5])"
      ]
     },
     "execution_count": 96,
     "metadata": {},
     "output_type": "execute_result"
    }
   ],
   "source": [
    "kbins = np.arange(0.5, npix//2+1, 1.)\n",
    "kbins"
   ]
  },
  {
   "cell_type": "code",
   "execution_count": 97,
   "metadata": {},
   "outputs": [
    {
     "data": {
      "text/plain": [
       "array([ 1.,  2.,  3.,  4.,  5.,  6.,  7.,  8.,  9., 10., 11., 12., 13.,\n",
       "       14., 15., 16., 17., 18., 19., 20., 21., 22., 23., 24., 25., 26.,\n",
       "       27., 28., 29., 30., 31., 32., 33., 34., 35., 36., 37., 38., 39.,\n",
       "       40., 41., 42., 43., 44., 45., 46., 47., 48., 49., 50., 51., 52.,\n",
       "       53., 54., 55., 56., 57., 58., 59., 60., 61., 62., 63., 64.])"
      ]
     },
     "execution_count": 97,
     "metadata": {},
     "output_type": "execute_result"
    }
   ],
   "source": [
    "kvals = 0.5 * (kbins[1:] + kbins[:-1])\n",
    "kvals"
   ]
  },
  {
   "cell_type": "code",
   "execution_count": 98,
   "metadata": {},
   "outputs": [
    {
     "data": {
      "text/plain": [
       "(16384,)"
      ]
     },
     "execution_count": 98,
     "metadata": {},
     "output_type": "execute_result"
    }
   ],
   "source": [
    "fourier_amplitudes.shape"
   ]
  },
  {
   "cell_type": "code",
   "execution_count": 99,
   "metadata": {},
   "outputs": [
    {
     "data": {
      "text/plain": [
       "(16384,)"
      ]
     },
     "execution_count": 99,
     "metadata": {},
     "output_type": "execute_result"
    }
   ],
   "source": [
    "knrm.shape"
   ]
  },
  {
   "cell_type": "code",
   "execution_count": 100,
   "metadata": {},
   "outputs": [],
   "source": [
    "# import scipy.stats as stats\n",
    "\n",
    "Abins, _, _ = stats.binned_statistic(knrm, fourier_amplitudes,\n",
    "                                     statistic = \"mean\",\n",
    "                                     bins = kbins)"
   ]
  },
  {
   "cell_type": "code",
   "execution_count": 101,
   "metadata": {},
   "outputs": [],
   "source": [
    "Abins *= np.pi * (kbins[1:]**2 - kbins[:-1]**2)"
   ]
  },
  {
   "cell_type": "code",
   "execution_count": 102,
   "metadata": {},
   "outputs": [
    {
     "data": {
      "text/plain": [
       "(64,)"
      ]
     },
     "execution_count": 102,
     "metadata": {},
     "output_type": "execute_result"
    }
   ],
   "source": [
    "Abins.shape"
   ]
  },
  {
   "cell_type": "code",
   "execution_count": 103,
   "metadata": {},
   "outputs": [],
   "source": [
    "def func(x, a, b):\n",
    "    return a*x**b"
   ]
  },
  {
   "cell_type": "code",
   "execution_count": 104,
   "metadata": {},
   "outputs": [],
   "source": [
    "kk = kvals[np.argmin(np.abs(kvals-7)):np.argmin(np.abs(kvals-20))]\n",
    "ppss = Abins[np.argmin(np.abs(kvals-7)):np.argmin(np.abs(kvals-20))]"
   ]
  },
  {
   "cell_type": "code",
   "execution_count": 105,
   "metadata": {},
   "outputs": [],
   "source": [
    "para, _ = curve_fit(func, kk, ppss)\n",
    "ps_fit = func(kk, *para)"
   ]
  },
  {
   "cell_type": "code",
   "execution_count": 106,
   "metadata": {},
   "outputs": [
    {
     "data": {
      "text/plain": [
       "-6.562883719065541"
      ]
     },
     "execution_count": 106,
     "metadata": {},
     "output_type": "execute_result"
    }
   ],
   "source": [
    "para[1]"
   ]
  },
  {
   "cell_type": "code",
   "execution_count": 107,
   "metadata": {},
   "outputs": [
    {
     "data": {
      "image/png": "[encoded data removed]",
      "text/plain": [
       "<Figure size 640x480 with 1 Axes>"
      ]
     },
     "metadata": {},
     "output_type": "display_data"
    }
   ],
   "source": [
    "plt.loglog(kvals, Abins, label=np.round(var.t))\n",
    "# plt.plot(kvals, Abins)\n",
    "plt.plot(kk, ppss)\n",
    "plt.plot(kk, ps_fit)\n",
    "plt.axvline(x=7)\n",
    "plt.axvline(x=4.472)\n",
    "plt.axvline(x=40)\n",
    "# plt.xscale('log')\n",
    "# plt.yscale('log')\n",
    "plt.xlabel(\"$k$\")\n",
    "plt.ylabel(\"$P(k)$\")\n",
    "plt.legend()\n",
    "plt.tight_layout()\n",
    "plt.savefig(\"power_spectrum.png\", dpi = 300, bbox_inches = \"tight\")"
   ]
  },
  {
   "cell_type": "code",
   "execution_count": 108,
   "metadata": {},
   "outputs": [
    {
     "name": "stdout",
     "output_type": "stream",
     "text": [
      "power_krms.dat\n",
      "power_mag.dat\n",
      "powerhel_kin.dat\n",
      "power_kin.dat\n",
      "powerhel_mag.dat\n",
      "poweruz_xy.dat\n"
     ]
    }
   ],
   "source": [
    "power = pc.read.power()"
   ]
  },
  {
   "cell_type": "code",
   "execution_count": 109,
   "metadata": {},
   "outputs": [
    {
     "name": "stdout",
     "output_type": "stream",
     "text": [
      "t\n",
      "krms\n",
      "mag\n",
      "hel_kin\n",
      "kin\n",
      "hel_mag\n",
      "kx\n",
      "ky\n",
      "zpos\n",
      "nzpos\n",
      "uz_xy\n"
     ]
    }
   ],
   "source": [
    "power.keys()"
   ]
  },
  {
   "cell_type": "code",
   "execution_count": 110,
   "metadata": {},
   "outputs": [
    {
     "data": {
      "text/plain": [
       "array([5.0154748e+00, 1.0017271e+01, 1.5017151e+01, ..., 7.8250171e+03,\n",
       "       7.8300215e+03, 7.8350137e+03], dtype=float32)"
      ]
     },
     "execution_count": 110,
     "metadata": {},
     "output_type": "execute_result"
    }
   ],
   "source": [
    "power.t"
   ]
  },
  {
   "cell_type": "code",
   "execution_count": 111,
   "metadata": {},
   "outputs": [
    {
     "data": {
      "text/plain": [
       "array([-0.0247])"
      ]
     },
     "execution_count": 111,
     "metadata": {},
     "output_type": "execute_result"
    }
   ],
   "source": [
    "power.zpos"
   ]
  },
  {
   "cell_type": "code",
   "execution_count": 112,
   "metadata": {},
   "outputs": [
    {
     "data": {
      "text/plain": [
       "array([-3.14159   , -3.092116  , -3.042642  , -2.993168  , -2.9436944 ,\n",
       "       -2.8942204 , -2.8447464 , -2.7952724 , -2.7457986 , -2.6963246 ,\n",
       "       -2.6468506 , -2.5973766 , -2.5479028 , -2.4984288 , -2.4489548 ,\n",
       "       -2.399481  , -2.350007  , -2.300533  , -2.251059  , -2.2015853 ,\n",
       "       -2.1521113 , -2.1026373 , -2.0531633 , -2.0036895 , -1.9542155 ,\n",
       "       -1.9047415 , -1.8552676 , -1.8057936 , -1.7563198 , -1.7068459 ,\n",
       "       -1.6573719 , -1.607898  , -1.558424  , -1.5089501 , -1.4594761 ,\n",
       "       -1.4100022 , -1.3605282 , -1.3110543 , -1.2615803 , -1.2121065 ,\n",
       "       -1.1626325 , -1.1131586 , -1.0636847 , -1.0142107 , -0.96473676,\n",
       "       -0.9152628 , -0.8657889 , -0.81631494, -0.766841  , -0.7173671 ,\n",
       "       -0.6678932 , -0.61841923, -0.5689453 , -0.51947135, -0.4699974 ,\n",
       "       -0.42052346, -0.37104952, -0.32157558, -0.27210164, -0.22262771,\n",
       "       -0.17315377, -0.12367984, -0.07420591, -0.02473197,  0.02474197,\n",
       "        0.0742159 ,  0.12368985,  0.17316379,  0.22263771,  0.27211165,\n",
       "        0.3215856 ,  0.37105954,  0.42053348,  0.4700074 ,  0.51948136,\n",
       "        0.5689553 ,  0.6184292 ,  0.6679031 ,  0.71737707,  0.766851  ,\n",
       "        0.81632495,  0.8657989 ,  0.91527283,  0.9647468 ,  1.0142207 ,\n",
       "        1.0636946 ,  1.1131686 ,  1.1626425 ,  1.2121165 ,  1.2615904 ,\n",
       "        1.3110644 ,  1.3605382 ,  1.4100122 ,  1.4594861 ,  1.5089601 ,\n",
       "        1.558434  ,  1.607908  ,  1.6573819 ,  1.7068558 ,  1.7563298 ,\n",
       "        1.8058037 ,  1.8552777 ,  1.9047515 ,  1.9542255 ,  2.0036995 ,\n",
       "        2.0531733 ,  2.1026473 ,  2.1521213 ,  2.2015953 ,  2.251069  ,\n",
       "        2.300543  ,  2.350017  ,  2.3994908 ,  2.4489648 ,  2.4984388 ,\n",
       "        2.5479128 ,  2.5973866 ,  2.6468606 ,  2.6963346 ,  2.7458086 ,\n",
       "        2.7952824 ,  2.8447564 ,  2.8942304 ,  2.9437044 ,  2.9931781 ,\n",
       "        3.0426521 ,  3.0921261 ,  3.1416    ], dtype=float32)"
      ]
     },
     "execution_count": 112,
     "metadata": {},
     "output_type": "execute_result"
    }
   ],
   "source": [
    "z"
   ]
  },
  {
   "cell_type": "code",
   "execution_count": 113,
   "metadata": {},
   "outputs": [
    {
     "data": {
      "text/plain": [
       "array([ 0.,  1.,  2.,  3.,  4.,  5.,  6.,  7.,  8.,  9., 10., 11., 12.,\n",
       "       13., 14., 15., 16., 17., 18., 19., 20., 21., 22., 23., 24., 25.,\n",
       "       26., 27., 28., 29., 30., 31., 32., 33., 34., 35., 36., 37., 38.,\n",
       "       39., 40., 41., 42., 43., 44., 45., 46., 47., 48., 49., 50., 51.,\n",
       "       52., 53., 54., 55., 56., 57., 58., 59., 60., 61., 62., 63.])"
      ]
     },
     "execution_count": 113,
     "metadata": {},
     "output_type": "execute_result"
    }
   ],
   "source": [
    "power.kx"
   ]
  },
  {
   "cell_type": "code",
   "execution_count": 114,
   "metadata": {},
   "outputs": [
    {
     "data": {
      "text/plain": [
       "350.0019668417268"
      ]
     },
     "execution_count": 114,
     "metadata": {},
     "output_type": "execute_result"
    }
   ],
   "source": [
    "var.t"
   ]
  },
  {
   "cell_type": "code",
   "execution_count": 115,
   "metadata": {},
   "outputs": [
    {
     "data": {
      "text/plain": [
       "350.01312"
      ]
     },
     "execution_count": 115,
     "metadata": {},
     "output_type": "execute_result"
    }
   ],
   "source": [
    "power.t[np.argmin(np.abs(power.t-var.t))]"
   ]
  },
  {
   "cell_type": "code",
   "execution_count": 116,
   "metadata": {},
   "outputs": [
    {
     "data": {
      "text/plain": [
       "(1567, 1, 64, 64)"
      ]
     },
     "execution_count": 116,
     "metadata": {},
     "output_type": "execute_result"
    }
   ],
   "source": [
    "power.uz_xy.shape"
   ]
  },
  {
   "cell_type": "code",
   "execution_count": 117,
   "metadata": {},
   "outputs": [
    {
     "data": {
      "text/plain": [
       "array([-0.0247])"
      ]
     },
     "execution_count": 117,
     "metadata": {},
     "output_type": "execute_result"
    }
   ],
   "source": [
    "power.zpos"
   ]
  },
  {
   "cell_type": "code",
   "execution_count": 118,
   "metadata": {},
   "outputs": [],
   "source": [
    "# uz_xy = power.uz_xy[np.argmin(np.abs(power.t-var.t)),0,:,:]\n",
    "uz_xy = power.uz_xy[np.argmin(np.abs(power.t-350)),0,:,:]"
   ]
  },
  {
   "cell_type": "code",
   "execution_count": 119,
   "metadata": {},
   "outputs": [
    {
     "data": {
      "text/plain": [
       "(0.0202+0.00782j)"
      ]
     },
     "execution_count": 119,
     "metadata": {},
     "output_type": "execute_result"
    }
   ],
   "source": [
    "np.max(power.uz_xy)"
   ]
  },
  {
   "cell_type": "code",
   "execution_count": 120,
   "metadata": {},
   "outputs": [
    {
     "data": {
      "text/plain": [
       "array([ 0.        ,  0.99999716,  1.99999433,  2.99999149,  3.99998866,\n",
       "        4.99998582,  5.99998299,  6.99998015,  7.99997731,  8.99997448,\n",
       "        9.99997164, 10.99996881, 11.99996597, 12.99996313, 13.9999603 ,\n",
       "       14.99995746, 15.99995463, 16.99995179, 17.99994896, 18.99994612,\n",
       "       19.99994328, 20.99994045, 21.99993761, 22.99993478, 23.99993194,\n",
       "       24.99992911, 25.99992627, 26.99992343, 27.9999206 , 28.99991776,\n",
       "       29.99991493, 30.99991209, 31.99990925, 32.99990642, 33.99990358,\n",
       "       34.99990075, 35.99989791, 36.99989508, 37.99989224, 38.9998894 ,\n",
       "       39.99988657, 40.99988373, 41.9998809 , 42.99987806, 43.99987523,\n",
       "       44.99987239, 45.99986955, 46.99986672, 47.99986388, 48.99986105,\n",
       "       49.99985821, 50.99985537, 51.99985254, 52.9998497 , 53.99984687,\n",
       "       54.99984403, 55.9998412 , 56.99983836, 57.99983552, 58.99983269,\n",
       "       59.99982985, 60.99982702, 61.99982418, 62.99982135])"
      ]
     },
     "execution_count": 120,
     "metadata": {},
     "output_type": "execute_result"
    }
   ],
   "source": [
    "kx[64:]"
   ]
  },
  {
   "cell_type": "code",
   "execution_count": 121,
   "metadata": {},
   "outputs": [
    {
     "data": {
      "text/plain": [
       "(0.0, 10.0)"
      ]
     },
     "execution_count": 121,
     "metadata": {},
     "output_type": "execute_result"
    },
    {
     "data": {
      "image/png": "[encoded data removed]",
      "text/plain": [
       "<Figure size 640x480 with 2 Axes>"
      ]
     },
     "metadata": {},
     "output_type": "display_data"
    }
   ],
   "source": [
    "X, Y = np.meshgrid(kx[64:], ky[64:])\n",
    "plt.contourf(X, Y, np.abs(uz_xy)**2)\n",
    "# plt.plot(power.mag[np.argmin(np.abs(power.t-10)),:])\n",
    "plt.colorbar()\n",
    "plt.xlim(0,10)\n",
    "plt.ylim(0,10)"
   ]
  },
  {
   "cell_type": "code",
   "execution_count": 122,
   "metadata": {},
   "outputs": [
    {
     "data": {
      "text/plain": [
       "(64, 64)"
      ]
     },
     "execution_count": 122,
     "metadata": {},
     "output_type": "execute_result"
    }
   ],
   "source": [
    "(np.abs(uz_xy)**2).shape"
   ]
  },
  {
   "cell_type": "code",
   "execution_count": 123,
   "metadata": {},
   "outputs": [
    {
     "data": {
      "text/plain": [
       "(128, 128)"
      ]
     },
     "execution_count": 123,
     "metadata": {},
     "output_type": "execute_result"
    }
   ],
   "source": [
    "uz.shape"
   ]
  },
  {
   "cell_type": "code",
   "execution_count": 124,
   "metadata": {},
   "outputs": [],
   "source": [
    "def power_spectra(uz, plot=False):\n",
    "    uz_ave = np.average(uz)\n",
    "    uz_p = uz - uz_ave\n",
    "    uz_f = np.fft.fftshift(np.fft.fft2(uz_p, norm='ortho'))\n",
    "    power_2d = np.abs(uz_f)**2\n",
    "    x = grid.x[64:]\n",
    "    y = grid.y[64:]\n",
    "    kx = 2*np.pi*np.fft.fftshift(np.fft.fftfreq(len(x), d=(x[1]-x[0])))\n",
    "    ky = 2*np.pi*np.fft.fftshift(np.fft.fftfreq(len(y), d=(y[1]-y[0])))\n",
    "    kfreq2D = np.meshgrid(kx, ky)\n",
    "    knrm = np.sqrt(kfreq2D[0]**2 + kfreq2D[1]**2)\n",
    "    knrm = knrm.flatten()\n",
    "    fourier_amplitudes = power_2d.flatten()\n",
    "    npix = power_2d.shape[0]\n",
    "    kbins = np.arange(0.5, npix//2+1, 1.)\n",
    "    kvals = 0.5 * (kbins[1:] + kbins[:-1])\n",
    "\n",
    "    Abins, _, _ = stats.binned_statistic(knrm, fourier_amplitudes,\n",
    "                                     statistic = \"mean\",\n",
    "                                     bins = kbins)\n",
    "    Abins *= np.pi * (kbins[1:]**2 - kbins[:-1]**2)\n",
    "\n",
    "    if plot==True:\n",
    "        plt.loglog(kvals, Abins)\n",
    "        plt.xlabel(r\"$k$\")\n",
    "        plt.ylabel(r\"$P(k)$\")\n",
    "        plt.tight_layout()\n",
    "        plt.savefig(f'plots/power_spectra.png', dpi = 300, bbox_inches = \"tight\")\n",
    "    return [kvals, Abins]"
   ]
  },
  {
   "cell_type": "code",
   "execution_count": 125,
   "metadata": {},
   "outputs": [
    {
     "data": {
      "text/plain": [
       "(64, 64)"
      ]
     },
     "execution_count": 125,
     "metadata": {},
     "output_type": "execute_result"
    }
   ],
   "source": [
    "power_2d[64:,64:].shape"
   ]
  },
  {
   "cell_type": "code",
   "execution_count": 126,
   "metadata": {},
   "outputs": [
    {
     "data": {
      "text/plain": [
       "(0, 64)"
      ]
     },
     "execution_count": 126,
     "metadata": {},
     "output_type": "execute_result"
    }
   ],
   "source": [
    "X[64:].shape"
   ]
  },
  {
   "cell_type": "code",
   "execution_count": 127,
   "metadata": {},
   "outputs": [
    {
     "data": {
      "text/plain": [
       "<matplotlib.colorbar.Colorbar at 0x1552f4174e10>"
      ]
     },
     "execution_count": 127,
     "metadata": {},
     "output_type": "execute_result"
    },
    {
     "data": {
      "image/png": "[encoded data removed]",
      "text/plain": [
       "<Figure size 640x480 with 2 Axes>"
      ]
     },
     "metadata": {},
     "output_type": "display_data"
    }
   ],
   "source": [
    "X, Y = np.meshgrid(kx[64:], ky[64:])\n",
    "plt.contourf(X[:,:], Y[:,:], power_2d[64:,64:]-np.abs(uz_xy)**2, 100 , cmap='plasma')\n",
    "plt.colorbar()"
   ]
  },
  {
   "cell_type": "code",
   "execution_count": 128,
   "metadata": {},
   "outputs": [
    {
     "data": {
      "image/png": "[encoded data removed]",
      "text/plain": [
       "<Figure size 640x480 with 1 Axes>"
      ]
     },
     "metadata": {},
     "output_type": "display_data"
    }
   ],
   "source": [
    "kv, Ab = power_spectra(np.abs(uz_xy)**2, plot=True)"
   ]
  },
  {
   "cell_type": "code",
   "execution_count": null,
   "metadata": {},
   "outputs": [],
   "source": []
  }
 ],
 "metadata": {
  "kernelspec": {
   "display_name": "env_pencil",
   "language": "python",
   "name": "python3"
  },
  "language_info": {
   "codemirror_mode": {
    "name": "ipython",
    "version": 3
   },
   "file_extension": ".py",
   "mimetype": "text/x-python",
   "name": "python",
   "nbconvert_exporter": "python",
   "pygments_lexer": "ipython3",
   "version": "3.11.8"
  }
 },
 "nbformat": 4,
 "nbformat_minor": 2
}
