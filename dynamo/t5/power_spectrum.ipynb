{
 "cells": [
  {
   "cell_type": "code",
   "execution_count": 1,
   "metadata": {},
   "outputs": [
    {
     "name": "stdout",
     "output_type": "stream",
     "text": [
      "Warning: pencilnew has moved to pencil.\n",
      "         pencil has moved to pencil_old.\n",
      "To change your scripts accordingly:\n",
      "import pencilnew as pc -> import pencil as pc\n",
      "import pencil as pc -> import pencil_old as pc\n"
     ]
    }
   ],
   "source": [
    "import pencil as pc\n",
    "import matplotlib.pyplot as plt\n",
    "import numpy as np\n",
    "import scipy.stats as stats\n",
    "from scipy.optimize import curve_fit"
   ]
  },
  {
   "cell_type": "code",
   "execution_count": 2,
   "metadata": {},
   "outputs": [],
   "source": [
    "plt.rcParams['text.usetex'] = True\n",
    "plt.rcParams.update({'font.size': 11})"
   ]
  },
  {
   "cell_type": "code",
   "execution_count": 3,
   "metadata": {},
   "outputs": [],
   "source": [
    "param = pc.read.param()"
   ]
  },
  {
   "cell_type": "code",
   "execution_count": 4,
   "metadata": {},
   "outputs": [],
   "source": [
    "grid = pc.read.grid(trim=True, quiet=True)"
   ]
  },
  {
   "cell_type": "code",
   "execution_count": 5,
   "metadata": {},
   "outputs": [],
   "source": [
    "z = grid.z\n",
    "x = grid.x\n",
    "y = grid.y"
   ]
  },
  {
   "cell_type": "code",
   "execution_count": 6,
   "metadata": {},
   "outputs": [],
   "source": [
    "sim = pc.get_sim()"
   ]
  },
  {
   "cell_type": "code",
   "execution_count": 7,
   "metadata": {},
   "outputs": [
    {
     "data": {
      "text/plain": [
       "['VAR0',\n",
       " 'VAR1',\n",
       " 'VAR2',\n",
       " 'VAR3',\n",
       " 'VAR4',\n",
       " 'VAR5',\n",
       " 'VAR6',\n",
       " 'VAR7',\n",
       " 'VAR8',\n",
       " 'VAR9',\n",
       " 'VAR10',\n",
       " 'VAR11',\n",
       " 'VAR12',\n",
       " 'VAR13',\n",
       " 'VAR14',\n",
       " 'VAR15',\n",
       " 'VAR16',\n",
       " 'VAR17',\n",
       " 'VAR18',\n",
       " 'VAR19',\n",
       " 'VAR20',\n",
       " 'VAR21',\n",
       " 'VAR22',\n",
       " 'VAR23',\n",
       " 'VAR24',\n",
       " 'VAR25',\n",
       " 'VAR26',\n",
       " 'VAR27',\n",
       " 'VAR28',\n",
       " 'VAR29',\n",
       " 'VAR30',\n",
       " 'VAR31',\n",
       " 'VAR32',\n",
       " 'VAR33',\n",
       " 'VAR34',\n",
       " 'VAR35',\n",
       " 'VAR36',\n",
       " 'VAR37',\n",
       " 'VAR38',\n",
       " 'VAR39',\n",
       " 'VAR40',\n",
       " 'VAR41',\n",
       " 'VAR42',\n",
       " 'VAR43',\n",
       " 'VAR44',\n",
       " 'VAR45',\n",
       " 'VAR46',\n",
       " 'VAR47',\n",
       " 'VAR48',\n",
       " 'VAR49',\n",
       " 'VAR50',\n",
       " 'VAR51',\n",
       " 'VAR52',\n",
       " 'VAR53',\n",
       " 'VAR54',\n",
       " 'VAR55',\n",
       " 'VAR56',\n",
       " 'VAR57',\n",
       " 'VAR58',\n",
       " 'VAR59',\n",
       " 'VAR60',\n",
       " 'VAR61',\n",
       " 'VAR62',\n",
       " 'VAR63',\n",
       " 'VAR64',\n",
       " 'VAR65',\n",
       " 'VAR66',\n",
       " 'VAR67',\n",
       " 'VAR68',\n",
       " 'VAR69',\n",
       " 'VAR70',\n",
       " 'VAR71',\n",
       " 'VAR72',\n",
       " 'VAR73',\n",
       " 'VAR74',\n",
       " 'VAR75',\n",
       " 'VAR76',\n",
       " 'VAR77',\n",
       " 'VAR78',\n",
       " 'VAR79',\n",
       " 'VAR80',\n",
       " 'VAR81',\n",
       " 'VAR82',\n",
       " 'VAR83',\n",
       " 'VAR84',\n",
       " 'VAR85',\n",
       " 'VAR86',\n",
       " 'VAR87',\n",
       " 'VAR88',\n",
       " 'VAR89',\n",
       " 'VAR90',\n",
       " 'VAR91',\n",
       " 'VAR92',\n",
       " 'VAR93',\n",
       " 'VAR94',\n",
       " 'VAR95',\n",
       " 'VAR96',\n",
       " 'VAR97',\n",
       " 'VAR98',\n",
       " 'VAR99',\n",
       " 'VAR100',\n",
       " 'VAR101',\n",
       " 'VAR102',\n",
       " 'VAR103',\n",
       " 'VAR104',\n",
       " 'VAR105',\n",
       " 'VAR106',\n",
       " 'VAR107',\n",
       " 'VAR108',\n",
       " 'VAR109',\n",
       " 'VAR110',\n",
       " 'VAR111',\n",
       " 'VAR112',\n",
       " 'VAR113',\n",
       " 'VAR114',\n",
       " 'VAR115',\n",
       " 'VAR116',\n",
       " 'VAR117',\n",
       " 'VAR118',\n",
       " 'VAR119',\n",
       " 'VAR120',\n",
       " 'VAR121',\n",
       " 'VAR122',\n",
       " 'VAR123',\n",
       " 'VAR124',\n",
       " 'VAR125',\n",
       " 'VAR126',\n",
       " 'VAR127',\n",
       " 'VAR128',\n",
       " 'VAR129',\n",
       " 'VAR130',\n",
       " 'VAR131',\n",
       " 'VAR132',\n",
       " 'VAR133',\n",
       " 'VAR134',\n",
       " 'VAR135',\n",
       " 'VAR136',\n",
       " 'VAR137',\n",
       " 'VAR138',\n",
       " 'VAR139',\n",
       " 'VAR140',\n",
       " 'VAR141',\n",
       " 'VAR142',\n",
       " 'VAR143',\n",
       " 'VAR144',\n",
       " 'VAR145',\n",
       " 'VAR146',\n",
       " 'VAR147',\n",
       " 'VAR148',\n",
       " 'VAR149',\n",
       " 'VAR150',\n",
       " 'VAR151',\n",
       " 'VAR152',\n",
       " 'VAR153',\n",
       " 'VAR154',\n",
       " 'VAR155',\n",
       " 'VAR156',\n",
       " 'VAR157',\n",
       " 'VAR158',\n",
       " 'VAR159',\n",
       " 'VAR160',\n",
       " 'VAR161',\n",
       " 'VAR162',\n",
       " 'VAR163',\n",
       " 'VAR164',\n",
       " 'VAR165',\n",
       " 'VAR166',\n",
       " 'VAR167',\n",
       " 'VAR168',\n",
       " 'VAR169',\n",
       " 'VAR170',\n",
       " 'VAR171',\n",
       " 'VAR172',\n",
       " 'VAR173',\n",
       " 'VAR174',\n",
       " 'VAR175',\n",
       " 'VAR176',\n",
       " 'VAR177',\n",
       " 'VAR178',\n",
       " 'VAR179',\n",
       " 'VAR180',\n",
       " 'VAR181',\n",
       " 'VAR182',\n",
       " 'VAR183',\n",
       " 'VAR184',\n",
       " 'VAR185',\n",
       " 'VAR186',\n",
       " 'VAR187',\n",
       " 'VAR188',\n",
       " 'VAR189',\n",
       " 'VAR190',\n",
       " 'VAR191',\n",
       " 'VAR192',\n",
       " 'VAR193',\n",
       " 'VAR194',\n",
       " 'VAR195',\n",
       " 'VAR196',\n",
       " 'VAR197',\n",
       " 'VAR198',\n",
       " 'VAR199',\n",
       " 'VAR200',\n",
       " 'VAR201',\n",
       " 'VAR202',\n",
       " 'VAR203',\n",
       " 'VAR204',\n",
       " 'VAR205',\n",
       " 'VAR206']"
      ]
     },
     "execution_count": 7,
     "metadata": {},
     "output_type": "execute_result"
    }
   ],
   "source": [
    "sim.get_varlist()"
   ]
  },
  {
   "cell_type": "code",
   "execution_count": 8,
   "metadata": {},
   "outputs": [
    {
     "data": {
      "text/plain": [
       "350.00197"
      ]
     },
     "execution_count": 8,
     "metadata": {},
     "output_type": "execute_result"
    }
   ],
   "source": [
    "sim.get_var_time('VAR7')"
   ]
  },
  {
   "cell_type": "code",
   "execution_count": 135,
   "metadata": {},
   "outputs": [],
   "source": [
    "# vars = np.zeros()\n",
    "# var = pc.read.var(var_file='VAR7', magic=['bb'], trimall=True)\n",
    "var = pc.read.var(var_file='VAR170', magic=['bb'], trimall=True)"
   ]
  },
  {
   "cell_type": "code",
   "execution_count": 136,
   "metadata": {},
   "outputs": [
    {
     "name": "stdout",
     "output_type": "stream",
     "text": [
      "t\n",
      "dx\n",
      "dy\n",
      "dz\n",
      "x\n",
      "y\n",
      "z\n",
      "f\n",
      "l1\n",
      "l2\n",
      "m1\n",
      "m2\n",
      "n1\n",
      "n2\n",
      "magic\n",
      "bb\n",
      "uu\n",
      "ux\n",
      "uy\n",
      "uz\n",
      "lnrho\n",
      "aa\n",
      "ax\n",
      "ay\n",
      "az\n"
     ]
    }
   ],
   "source": [
    "var.keys()"
   ]
  },
  {
   "cell_type": "code",
   "execution_count": 137,
   "metadata": {},
   "outputs": [
    {
     "data": {
      "text/plain": [
       "8500.003495207"
      ]
     },
     "execution_count": 137,
     "metadata": {},
     "output_type": "execute_result"
    }
   ],
   "source": [
    "var.t"
   ]
  },
  {
   "cell_type": "code",
   "execution_count": 138,
   "metadata": {},
   "outputs": [
    {
     "data": {
      "text/plain": [
       "(3, 128, 128, 128)"
      ]
     },
     "execution_count": 138,
     "metadata": {},
     "output_type": "execute_result"
    }
   ],
   "source": [
    "var.bb.shape"
   ]
  },
  {
   "cell_type": "code",
   "execution_count": 193,
   "metadata": {},
   "outputs": [],
   "source": [
    "# uz = var.uz[np.argmin(np.abs(z-0)),:,:]\n",
    "uz = var.bb[2,np.argmin(np.abs(z-0)),:,:]"
   ]
  },
  {
   "cell_type": "code",
   "execution_count": 298,
   "metadata": {},
   "outputs": [
    {
     "data": {
      "text/plain": [
       "array([[0.05974483, 0.05431925, 0.04819538, ..., 0.06999322, 0.06770893,\n",
       "        0.06426065],\n",
       "       [0.06081956, 0.05566126, 0.04997384, ..., 0.07106291, 0.06868394,\n",
       "        0.06522325],\n",
       "       [0.06211085, 0.05720398, 0.05193726, ..., 0.07242478, 0.06991731,\n",
       "        0.06642051],\n",
       "       ...,\n",
       "       [0.05898245, 0.05211135, 0.04411039, ..., 0.07114794, 0.06854285,\n",
       "        0.0644949 ],\n",
       "       [0.05872998, 0.05249711, 0.04524508, ..., 0.06976024, 0.06741862,\n",
       "        0.06373931],\n",
       "       [0.05900412, 0.05323926, 0.04660893, ..., 0.06946149, 0.06720469,\n",
       "        0.0637019 ]])"
      ]
     },
     "execution_count": 298,
     "metadata": {},
     "output_type": "execute_result"
    }
   ],
   "source": [
    "uz_ave = np.average(uz)\n",
    "uz_p = (uz - uz_ave)\n",
    "uz_p"
   ]
  },
  {
   "cell_type": "code",
   "execution_count": 299,
   "metadata": {},
   "outputs": [
    {
     "data": {
      "image/png": "[encoded data removed]",
      "text/plain": [
       "<Figure size 500x400 with 2 Axes>"
      ]
     },
     "metadata": {},
     "output_type": "display_data"
    }
   ],
   "source": [
    "X, Y = np.meshgrid(x, y)\n",
    "fig = plt.figure(figsize=(5,4.0))\n",
    "plt.contourf(X, Y, uz_p , cmap='plasma')\n",
    "plt.colorbar()\n",
    "plt.xlabel(r'$x$')\n",
    "plt.ylabel(r'$y$')\n",
    "plt.show()"
   ]
  },
  {
   "cell_type": "code",
   "execution_count": 366,
   "metadata": {},
   "outputs": [],
   "source": [
    "uz_f = np.fft.fftshift(np.fft.fft2(uz_p, norm='forward'))\n",
    "# uz_f = np.fft.fftshift(np.fft.fft2(uz_p, norm='backward'))"
   ]
  },
  {
   "cell_type": "code",
   "execution_count": 367,
   "metadata": {},
   "outputs": [],
   "source": [
    "power_2d = np.abs(uz_f)**2/2"
   ]
  },
  {
   "cell_type": "code",
   "execution_count": 368,
   "metadata": {},
   "outputs": [],
   "source": [
    "kx = 2*np.pi*np.fft.fftshift(np.fft.fftfreq(len(x), d=(x[1]-x[0])))\n",
    "ky = 2*np.pi*np.fft.fftshift(np.fft.fftfreq(len(y), d=(y[1]-y[0])))"
   ]
  },
  {
   "cell_type": "code",
   "execution_count": 369,
   "metadata": {},
   "outputs": [
    {
     "data": {
      "text/plain": [
       "1.007873239077751"
      ]
     },
     "execution_count": 369,
     "metadata": {},
     "output_type": "execute_result"
    }
   ],
   "source": [
    "(x[-1]-x[0])/128\n",
    "x_min = (x[1]-x[0])\n",
    "x_min\n",
    "kx_max = 2*np.pi/x_min\n",
    "kx_max\n",
    "x_max = x[-1]-x[0]\n",
    "x_max\n",
    "kx_min = 2*np.pi/x_max\n",
    "kx_min\n"
   ]
  },
  {
   "cell_type": "code",
   "execution_count": 370,
   "metadata": {},
   "outputs": [],
   "source": [
    "# size = np.shape(uz)\n",
    "# lxyz = param.lxyz   #shape of the box\n",
    "# #size\n",
    "# nx = size[1]\n",
    "# lx = lxyz[0]\n",
    "# dkx = 2*np.pi/lx    #unit step along kx direction"
   ]
  },
  {
   "cell_type": "code",
   "execution_count": 371,
   "metadata": {},
   "outputs": [],
   "source": [
    "# if nx%2 == 0:\n",
    "#     fnx = np.arange(0, nx/2)\n",
    "#     rnx = -np.flip(np.arange(1, nx/2+1))\n",
    "#     kx = np.concatenate((fnx, rnx))*dkx\n",
    "# else:\n",
    "#     fnx = np.arange(0, nx/2)\n",
    "#     rnx = -np.flip(np.arange(1, nx/2))\n",
    "#     kx = np.concatenate((fnx, rnx))*dkx\n",
    "# kx = np.fft.fftshift(kx)"
   ]
  },
  {
   "cell_type": "code",
   "execution_count": 372,
   "metadata": {},
   "outputs": [],
   "source": [
    "# kx = 2*np.pi*np.fft.fftshift(np.fft.fftfreq(len(x), d=(x[1]-x[0])))\n",
    "# ky = 2*np.pi*np.fft.fftshift(np.fft.fftfreq(len(y), d=(y[1]-y[0])))"
   ]
  },
  {
   "cell_type": "code",
   "execution_count": 375,
   "metadata": {},
   "outputs": [
    {
     "data": {
      "image/png": "[encoded data removed]",
      "text/plain": [
       "<Figure size 500x400 with 2 Axes>"
      ]
     },
     "metadata": {},
     "output_type": "display_data"
    }
   ],
   "source": [
    "full = True\n",
    "X, Y = np.meshgrid(kx, ky)\n",
    "fig = plt.figure(figsize=(5,4.0))\n",
    "plt.contourf(X, Y, power_2d, 100 , cmap='plasma')\n",
    "plt.colorbar()\n",
    "if full==True:\n",
    "    llim = -10\n",
    "else:\n",
    "    llim = 0\n",
    "plt.xlim(llim,10)\n",
    "plt.ylim(llim,10)\n",
    "plt.xlabel(r'$k_x$')\n",
    "plt.ylabel(r'$k_y$')\n",
    "plt.savefig('uz.png')\n",
    "plt.show()"
   ]
  },
  {
   "cell_type": "code",
   "execution_count": 376,
   "metadata": {},
   "outputs": [],
   "source": [
    "def power_spectra(uz, plot=False):\n",
    "    uz_ave = np.average(uz)\n",
    "    uz_p = (uz - uz_ave)\n",
    "    uz_f = np.fft.fftshift(np.fft.fft2(uz_p, norm='ortho'))\n",
    "    power_2d = 0.5*np.abs(uz_f)**2\n",
    "    x = grid.x\n",
    "    y = grid.y\n",
    "    kx = 2*np.pi*np.fft.fftshift(np.fft.fftfreq(len(x), d=(x[1]-x[0])))\n",
    "    ky = 2*np.pi*np.fft.fftshift(np.fft.fftfreq(len(y), d=(y[1]-y[0])))\n",
    "    kfreq2D = np.meshgrid(kx, ky)\n",
    "    knrm = np.sqrt(kfreq2D[0]**2 + kfreq2D[1]**2)\n",
    "    knrm = knrm.flatten()\n",
    "    fourier_amplitudes = power_2d.flatten()\n",
    "    npix = power_2d.shape[0]\n",
    "    kbins = np.arange(0.5, npix//2+1, 1.)\n",
    "    kvals = 0.5 * (kbins[1:] + kbins[:-1])\n",
    "\n",
    "    Abins, _, _ = stats.binned_statistic(knrm, fourier_amplitudes,\n",
    "                                     statistic = \"mean\",\n",
    "                                     bins = kbins)\n",
    "    Abins *= np.pi * (kbins[1:]**2 - kbins[:-1]**2)\n",
    "\n",
    "    if plot==True:\n",
    "        plt.figure(figsize=(5,4))\n",
    "        plt.loglog(kvals, Abins, label=fr'$t={np.round(var.t,2)}$')\n",
    "        plt.xlabel(r\"$k$\")\n",
    "        plt.ylabel(r\"$P(k)$\")\n",
    "        plt.legend()\n",
    "        plt.tight_layout()\n",
    "        plt.savefig(f'plots/power_spectra{int(var.t)}.png', dpi = 300, bbox_inches = \"tight\")\n",
    "    return [kvals, Abins]"
   ]
  },
  {
   "cell_type": "code",
   "execution_count": 400,
   "metadata": {},
   "outputs": [
    {
     "data": {
      "image/png": "[encoded data removed]",
      "text/plain": [
       "<Figure size 500x400 with 1 Axes>"
      ]
     },
     "metadata": {},
     "output_type": "display_data"
    }
   ],
   "source": [
    "kv, Ab = power_spectra(uz, plot=True)"
   ]
  },
  {
   "cell_type": "code",
   "execution_count": 378,
   "metadata": {},
   "outputs": [],
   "source": [
    "kfreq2D = np.meshgrid(kx, ky)"
   ]
  },
  {
   "cell_type": "code",
   "execution_count": 379,
   "metadata": {},
   "outputs": [],
   "source": [
    "# kfreq2D.shape"
   ]
  },
  {
   "cell_type": "code",
   "execution_count": 380,
   "metadata": {},
   "outputs": [],
   "source": [
    "knrm = np.sqrt(kfreq2D[0]**2 + kfreq2D[1]**2)"
   ]
  },
  {
   "cell_type": "code",
   "execution_count": 381,
   "metadata": {},
   "outputs": [
    {
     "data": {
      "text/plain": [
       "(128, 128)"
      ]
     },
     "execution_count": 381,
     "metadata": {},
     "output_type": "execute_result"
    }
   ],
   "source": [
    "kfreq2D[0].shape"
   ]
  },
  {
   "cell_type": "code",
   "execution_count": 382,
   "metadata": {},
   "outputs": [
    {
     "data": {
      "text/plain": [
       "array([[90.50941133, 89.80509038, 89.10642495, ..., 88.41354911,\n",
       "        89.10642495, 89.80509038],\n",
       "       [89.80509038, 89.09520177, 88.39092537, ..., 87.6923964 ,\n",
       "        88.39092537, 89.09520177],\n",
       "       [89.10642495, 88.39092537, 87.68099222, ..., 86.97676181,\n",
       "        87.68099222, 88.39092537],\n",
       "       ...,\n",
       "       [88.41354911, 87.6923964 , 86.97676181, ..., 86.26678267,\n",
       "        86.97676181, 87.6923964 ],\n",
       "       [89.10642495, 88.39092537, 87.68099222, ..., 86.97676181,\n",
       "        87.68099222, 88.39092537],\n",
       "       [89.80509038, 89.09520177, 88.39092537, ..., 87.6923964 ,\n",
       "        88.39092537, 89.09520177]])"
      ]
     },
     "execution_count": 382,
     "metadata": {},
     "output_type": "execute_result"
    }
   ],
   "source": [
    "knrm"
   ]
  },
  {
   "cell_type": "code",
   "execution_count": 383,
   "metadata": {},
   "outputs": [],
   "source": [
    "knrm = knrm.flatten()\n",
    "fourier_amplitudes = power_2d.flatten()"
   ]
  },
  {
   "cell_type": "code",
   "execution_count": 384,
   "metadata": {},
   "outputs": [
    {
     "data": {
      "text/plain": [
       "(16384,)"
      ]
     },
     "execution_count": 384,
     "metadata": {},
     "output_type": "execute_result"
    }
   ],
   "source": [
    "knrm.shape"
   ]
  },
  {
   "cell_type": "code",
   "execution_count": 385,
   "metadata": {},
   "outputs": [
    {
     "data": {
      "text/plain": [
       "(16384,)"
      ]
     },
     "execution_count": 385,
     "metadata": {},
     "output_type": "execute_result"
    }
   ],
   "source": [
    "fourier_amplitudes.shape"
   ]
  },
  {
   "cell_type": "code",
   "execution_count": 386,
   "metadata": {},
   "outputs": [],
   "source": [
    "npix = power_2d.shape[0]"
   ]
  },
  {
   "cell_type": "code",
   "execution_count": 387,
   "metadata": {},
   "outputs": [
    {
     "data": {
      "text/plain": [
       "128"
      ]
     },
     "execution_count": 387,
     "metadata": {},
     "output_type": "execute_result"
    }
   ],
   "source": [
    "npix"
   ]
  },
  {
   "cell_type": "code",
   "execution_count": 388,
   "metadata": {},
   "outputs": [
    {
     "data": {
      "text/plain": [
       "array([ 0.5,  1.5,  2.5,  3.5,  4.5,  5.5,  6.5,  7.5,  8.5,  9.5, 10.5,\n",
       "       11.5, 12.5, 13.5, 14.5, 15.5, 16.5, 17.5, 18.5, 19.5, 20.5, 21.5,\n",
       "       22.5, 23.5, 24.5, 25.5, 26.5, 27.5, 28.5, 29.5, 30.5, 31.5, 32.5,\n",
       "       33.5, 34.5, 35.5, 36.5, 37.5, 38.5, 39.5, 40.5, 41.5, 42.5, 43.5,\n",
       "       44.5, 45.5, 46.5, 47.5, 48.5, 49.5, 50.5, 51.5, 52.5, 53.5, 54.5,\n",
       "       55.5, 56.5, 57.5, 58.5, 59.5, 60.5, 61.5, 62.5, 63.5, 64.5])"
      ]
     },
     "execution_count": 388,
     "metadata": {},
     "output_type": "execute_result"
    }
   ],
   "source": [
    "kbins = np.arange(0.5, npix//2+1, 1.)\n",
    "kbins"
   ]
  },
  {
   "cell_type": "code",
   "execution_count": 389,
   "metadata": {},
   "outputs": [
    {
     "data": {
      "text/plain": [
       "array([ 1.,  2.,  3.,  4.,  5.,  6.,  7.,  8.,  9., 10., 11., 12., 13.,\n",
       "       14., 15., 16., 17., 18., 19., 20., 21., 22., 23., 24., 25., 26.,\n",
       "       27., 28., 29., 30., 31., 32., 33., 34., 35., 36., 37., 38., 39.,\n",
       "       40., 41., 42., 43., 44., 45., 46., 47., 48., 49., 50., 51., 52.,\n",
       "       53., 54., 55., 56., 57., 58., 59., 60., 61., 62., 63., 64.])"
      ]
     },
     "execution_count": 389,
     "metadata": {},
     "output_type": "execute_result"
    }
   ],
   "source": [
    "kvals = 0.5 * (kbins[1:] + kbins[:-1])\n",
    "kvals"
   ]
  },
  {
   "cell_type": "code",
   "execution_count": 390,
   "metadata": {},
   "outputs": [
    {
     "data": {
      "text/plain": [
       "(16384,)"
      ]
     },
     "execution_count": 390,
     "metadata": {},
     "output_type": "execute_result"
    }
   ],
   "source": [
    "fourier_amplitudes.shape"
   ]
  },
  {
   "cell_type": "code",
   "execution_count": 391,
   "metadata": {},
   "outputs": [
    {
     "data": {
      "text/plain": [
       "(16384,)"
      ]
     },
     "execution_count": 391,
     "metadata": {},
     "output_type": "execute_result"
    }
   ],
   "source": [
    "knrm.shape"
   ]
  },
  {
   "cell_type": "code",
   "execution_count": 392,
   "metadata": {},
   "outputs": [],
   "source": [
    "# import scipy.stats as stats\n",
    "\n",
    "Abins, _, _ = stats.binned_statistic(knrm, fourier_amplitudes,\n",
    "                                     statistic = \"mean\",\n",
    "                                     bins = kbins)"
   ]
  },
  {
   "cell_type": "code",
   "execution_count": 393,
   "metadata": {},
   "outputs": [],
   "source": [
    "Abins *= np.pi * (kbins[1:]**2 - kbins[:-1]**2)"
   ]
  },
  {
   "cell_type": "code",
   "execution_count": 394,
   "metadata": {},
   "outputs": [
    {
     "data": {
      "text/plain": [
       "(64,)"
      ]
     },
     "execution_count": 394,
     "metadata": {},
     "output_type": "execute_result"
    }
   ],
   "source": [
    "Abins.shape"
   ]
  },
  {
   "cell_type": "code",
   "execution_count": 395,
   "metadata": {},
   "outputs": [],
   "source": [
    "def func(x, a, b):\n",
    "    return a*x**b"
   ]
  },
  {
   "cell_type": "code",
   "execution_count": 396,
   "metadata": {},
   "outputs": [],
   "source": [
    "kk = kvals[np.argmin(np.abs(kvals-7)):np.argmin(np.abs(kvals-20))]\n",
    "ppss = Abins[np.argmin(np.abs(kvals-7)):np.argmin(np.abs(kvals-20))]"
   ]
  },
  {
   "cell_type": "code",
   "execution_count": 397,
   "metadata": {},
   "outputs": [],
   "source": [
    "para, _ = curve_fit(func, kk, ppss)\n",
    "ps_fit = func(kk, *para)"
   ]
  },
  {
   "cell_type": "code",
   "execution_count": 398,
   "metadata": {},
   "outputs": [
    {
     "data": {
      "text/plain": [
       "-4.536282923062742"
      ]
     },
     "execution_count": 398,
     "metadata": {},
     "output_type": "execute_result"
    }
   ],
   "source": [
    "para[1]"
   ]
  },
  {
   "cell_type": "code",
   "execution_count": 399,
   "metadata": {},
   "outputs": [
    {
     "data": {
      "image/png": "[encoded data removed]",
      "text/plain": [
       "<Figure size 640x480 with 1 Axes>"
      ]
     },
     "metadata": {},
     "output_type": "display_data"
    }
   ],
   "source": [
    "plt.loglog(kvals, Abins, label=np.round(var.t))\n",
    "# plt.plot(kvals, Abins)\n",
    "plt.plot(kk, ppss)\n",
    "plt.plot(kk, ps_fit)\n",
    "plt.axvline(x=7)\n",
    "plt.axvline(x=4.472)\n",
    "plt.axvline(x=40)\n",
    "# plt.xscale('log')\n",
    "# plt.yscale('log')\n",
    "plt.xlabel(\"$k$\")\n",
    "plt.ylabel(\"$P(k)$\")\n",
    "plt.legend()\n",
    "plt.tight_layout()\n",
    "plt.savefig(\"power_spectrum.png\", dpi = 300, bbox_inches = \"tight\")"
   ]
  },
  {
   "cell_type": "code",
   "execution_count": 334,
   "metadata": {},
   "outputs": [
    {
     "name": "stdout",
     "output_type": "stream",
     "text": [
      "power_krms.dat\n"
     ]
    },
    {
     "name": "stdout",
     "output_type": "stream",
     "text": [
      "power_mag.dat\n",
      "powerhel_kin.dat\n",
      "power_kin.dat\n",
      "powerhel_mag.dat\n",
      "powerbz_xy.dat\n",
      "poweruz_xy.dat\n"
     ]
    }
   ],
   "source": [
    "power = pc.read.power()"
   ]
  },
  {
   "cell_type": "code",
   "execution_count": 335,
   "metadata": {},
   "outputs": [
    {
     "name": "stdout",
     "output_type": "stream",
     "text": [
      "t\n",
      "krms\n",
      "mag\n",
      "hel_kin\n",
      "kin\n",
      "hel_mag\n",
      "kx\n",
      "ky\n",
      "zpos\n",
      "nzpos\n",
      "bz_xy\n",
      "uz_xy\n"
     ]
    }
   ],
   "source": [
    "power.keys()"
   ]
  },
  {
   "cell_type": "code",
   "execution_count": 336,
   "metadata": {},
   "outputs": [
    {
     "data": {
      "text/plain": [
       "array([5.0154748e+00, 1.0017271e+01, 1.5017151e+01, ..., 1.0315020e+04,\n",
       "       1.0320012e+04, 1.0325016e+04], dtype=float32)"
      ]
     },
     "execution_count": 336,
     "metadata": {},
     "output_type": "execute_result"
    }
   ],
   "source": [
    "power.t"
   ]
  },
  {
   "cell_type": "code",
   "execution_count": 337,
   "metadata": {},
   "outputs": [
    {
     "data": {
      "text/plain": [
       "array([-0.0247])"
      ]
     },
     "execution_count": 337,
     "metadata": {},
     "output_type": "execute_result"
    }
   ],
   "source": [
    "power.zpos"
   ]
  },
  {
   "cell_type": "code",
   "execution_count": 338,
   "metadata": {},
   "outputs": [
    {
     "data": {
      "text/plain": [
       "array([ 0.,  1.,  2.,  3.,  4.,  5.,  6.,  7.,  8.,  9., 10., 11., 12.,\n",
       "       13., 14., 15., 16., 17., 18., 19., 20., 21., 22., 23., 24., 25.,\n",
       "       26., 27., 28., 29., 30., 31., 32., 33., 34., 35., 36., 37., 38.,\n",
       "       39., 40., 41., 42., 43., 44., 45., 46., 47., 48., 49., 50., 51.,\n",
       "       52., 53., 54., 55., 56., 57., 58., 59., 60., 61., 62., 63.])"
      ]
     },
     "execution_count": 338,
     "metadata": {},
     "output_type": "execute_result"
    }
   ],
   "source": [
    "power.kx"
   ]
  },
  {
   "cell_type": "code",
   "execution_count": 339,
   "metadata": {},
   "outputs": [
    {
     "data": {
      "text/plain": [
       "8500.003495207"
      ]
     },
     "execution_count": 339,
     "metadata": {},
     "output_type": "execute_result"
    }
   ],
   "source": [
    "var.t"
   ]
  },
  {
   "cell_type": "code",
   "execution_count": 340,
   "metadata": {},
   "outputs": [
    {
     "data": {
      "text/plain": [
       "8500.015"
      ]
     },
     "execution_count": 340,
     "metadata": {},
     "output_type": "execute_result"
    }
   ],
   "source": [
    "power.t[np.argmin(np.abs(power.t-var.t))]"
   ]
  },
  {
   "cell_type": "code",
   "execution_count": 341,
   "metadata": {},
   "outputs": [
    {
     "data": {
      "text/plain": [
       "(2065, 1, 64, 64)"
      ]
     },
     "execution_count": 341,
     "metadata": {},
     "output_type": "execute_result"
    }
   ],
   "source": [
    "power.bz_xy.shape"
   ]
  },
  {
   "cell_type": "code",
   "execution_count": 342,
   "metadata": {},
   "outputs": [
    {
     "data": {
      "text/plain": [
       "array([-0.0247])"
      ]
     },
     "execution_count": 342,
     "metadata": {},
     "output_type": "execute_result"
    }
   ],
   "source": [
    "power.zpos"
   ]
  },
  {
   "cell_type": "code",
   "execution_count": 343,
   "metadata": {},
   "outputs": [],
   "source": [
    "# uz_xy = power.uz_xy[np.argmin(np.abs(power.t-var.t)),0,:,:]\n",
    "uz_xy = power.bz_xy[np.argmin(np.abs(power.t-var.t)),0,:,:]"
   ]
  },
  {
   "cell_type": "code",
   "execution_count": 344,
   "metadata": {},
   "outputs": [
    {
     "data": {
      "text/plain": [
       "(0.0724-0.00742j)"
      ]
     },
     "execution_count": 344,
     "metadata": {},
     "output_type": "execute_result"
    }
   ],
   "source": [
    "np.max(power.bz_xy)"
   ]
  },
  {
   "cell_type": "code",
   "execution_count": 345,
   "metadata": {},
   "outputs": [
    {
     "data": {
      "text/plain": [
       "(0.0, 10.0)"
      ]
     },
     "execution_count": 345,
     "metadata": {},
     "output_type": "execute_result"
    },
    {
     "data": {
      "image/png": "[encoded data removed]",
      "text/plain": [
       "<Figure size 640x480 with 2 Axes>"
      ]
     },
     "metadata": {},
     "output_type": "display_data"
    }
   ],
   "source": [
    "X, Y = np.meshgrid(power.kx, power.ky)\n",
    "plt.contourf(X, Y, np.abs(uz_xy)**2)\n",
    "# plt.plot(power.mag[np.argmin(np.abs(power.t-10)),:])\n",
    "plt.colorbar()\n",
    "plt.xlim(0,10)\n",
    "plt.ylim(0,10)"
   ]
  },
  {
   "cell_type": "code",
   "execution_count": 404,
   "metadata": {},
   "outputs": [],
   "source": [
    "def power_spectra1(uz, plot=False):\n",
    "    uz_ave = np.average(uz)\n",
    "    uz_p = uz - uz_ave\n",
    "    uz_f = np.fft.fftshift(np.fft.fft2(uz_p, norm='forward'))\n",
    "    power_2d = 0.5*np.abs(uz_f)**2\n",
    "    x = grid.x[64:]\n",
    "    y = grid.y[64:]\n",
    "    kx = 2*np.pi*np.fft.fftshift(np.fft.fftfreq(len(x), d=(x[1]-x[0])))\n",
    "    ky = 2*np.pi*np.fft.fftshift(np.fft.fftfreq(len(y), d=(y[1]-y[0])))\n",
    "    kfreq2D = np.meshgrid(kx, ky)\n",
    "    knrm = np.sqrt(kfreq2D[0]**2 + kfreq2D[1]**2)\n",
    "    knrm = knrm.flatten()\n",
    "    fourier_amplitudes = power_2d.flatten()\n",
    "    npix = power_2d.shape[0]\n",
    "    kbins = np.arange(0.5, npix//2+1, 1.)\n",
    "    kvals = 0.5 * (kbins[1:] + kbins[:-1])\n",
    "\n",
    "    Abins, _, _ = stats.binned_statistic(knrm, fourier_amplitudes,\n",
    "                                     statistic = \"mean\",\n",
    "                                     bins = kbins)\n",
    "    Abins *= np.pi * (kbins[1:]**2 - kbins[:-1]**2)\n",
    "\n",
    "    if plot==True:\n",
    "        plt.loglog(kvals, Abins)\n",
    "        plt.xlabel(r\"$k$\")\n",
    "        plt.ylabel(r\"$P(k)$\")\n",
    "        plt.tight_layout()\n",
    "        # plt.savefig(f'plots/power_spectra.png', dpi = 300, bbox_inches = \"tight\")\n",
    "    return [kvals, Abins]"
   ]
  },
  {
   "cell_type": "code",
   "execution_count": 405,
   "metadata": {},
   "outputs": [
    {
     "data": {
      "image/png": "[encoded data removed]",
      "text/plain": [
       "<Figure size 640x480 with 1 Axes>"
      ]
     },
     "metadata": {},
     "output_type": "display_data"
    }
   ],
   "source": [
    "kv1, Ab1 = power_spectra1(uz_xy, plot=True)"
   ]
  },
  {
   "cell_type": "code",
   "execution_count": 295,
   "metadata": {},
   "outputs": [
    {
     "data": {
      "text/plain": [
       "(64, 64)"
      ]
     },
     "execution_count": 295,
     "metadata": {},
     "output_type": "execute_result"
    }
   ],
   "source": [
    "(np.abs(uz_xy)**2).shape"
   ]
  },
  {
   "cell_type": "code",
   "execution_count": 296,
   "metadata": {},
   "outputs": [
    {
     "data": {
      "text/plain": [
       "(128, 128)"
      ]
     },
     "execution_count": 296,
     "metadata": {},
     "output_type": "execute_result"
    }
   ],
   "source": [
    "uz.shape"
   ]
  },
  {
   "cell_type": "code",
   "execution_count": null,
   "metadata": {},
   "outputs": [],
   "source": [
    "kv, Ab = power_spectra(uz, plot=True)"
   ]
  },
  {
   "cell_type": "code",
   "execution_count": 346,
   "metadata": {},
   "outputs": [],
   "source": []
  },
  {
   "cell_type": "code",
   "execution_count": 347,
   "metadata": {},
   "outputs": [
    {
     "data": {
      "text/plain": [
       "(64, 64)"
      ]
     },
     "execution_count": 347,
     "metadata": {},
     "output_type": "execute_result"
    }
   ],
   "source": [
    "power_2d[64:,64:].shape"
   ]
  },
  {
   "cell_type": "code",
   "execution_count": 348,
   "metadata": {},
   "outputs": [
    {
     "data": {
      "text/plain": [
       "(0, 64)"
      ]
     },
     "execution_count": 348,
     "metadata": {},
     "output_type": "execute_result"
    }
   ],
   "source": [
    "X[64:].shape"
   ]
  },
  {
   "cell_type": "code",
   "execution_count": 349,
   "metadata": {},
   "outputs": [
    {
     "data": {
      "text/plain": [
       "<matplotlib.colorbar.Colorbar at 0x15530c36c710>"
      ]
     },
     "execution_count": 349,
     "metadata": {},
     "output_type": "execute_result"
    },
    {
     "data": {
      "image/png": "[encoded data removed]",
      "text/plain": [
       "<Figure size 640x480 with 2 Axes>"
      ]
     },
     "metadata": {},
     "output_type": "display_data"
    }
   ],
   "source": [
    "X, Y = np.meshgrid(kx[64:], ky[64:])\n",
    "plt.contourf(X[:,:], Y[:,:], power_2d[64:,64:]-np.abs(uz_xy)**2, 100 , cmap='plasma')\n",
    "plt.colorbar()"
   ]
  },
  {
   "cell_type": "code",
   "execution_count": 246,
   "metadata": {},
   "outputs": [
    {
     "data": {
      "image/png": "[encoded data removed]",
      "text/plain": [
       "<Figure size 640x480 with 1 Axes>"
      ]
     },
     "metadata": {},
     "output_type": "display_data"
    }
   ],
   "source": [
    "kv, Ab = power_spectra(np.abs(uz_xy)**2, plot=True)"
   ]
  }
 ],
 "metadata": {
  "kernelspec": {
   "display_name": "env_pencil",
   "language": "python",
   "name": "python3"
  },
  "language_info": {
   "codemirror_mode": {
    "name": "ipython",
    "version": 3
   },
   "file_extension": ".py",
   "mimetype": "text/x-python",
   "name": "python",
   "nbconvert_exporter": "python",
   "pygments_lexer": "ipython3",
   "version": "3.11.8"
  }
 },
 "nbformat": 4,
 "nbformat_minor": 2
}
