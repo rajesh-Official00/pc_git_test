{
 "cells": [
  {
   "cell_type": "code",
   "execution_count": 1,
   "metadata": {},
   "outputs": [
    {
     "name": "stdout",
     "output_type": "stream",
     "text": [
      "Warning: pencilnew has moved to pencil.\n",
      "         pencil has moved to pencil_old.\n",
      "To change your scripts accordingly:\n",
      "import pencilnew as pc -> import pencil as pc\n",
      "import pencil as pc -> import pencil_old as pc\n"
     ]
    }
   ],
   "source": [
    "import numpy as np\n",
    "from scipy.ndimage import gaussian_filter\n",
    "from scipy.optimize import curve_fit\n",
    "from scipy.integrate import trapezoid as trap\n",
    "import matplotlib.pyplot as plt\n",
    "from peakutils import indexes\n",
    "import pencil as pc\n",
    "from IPython.display import display, Latex\n",
    "import modes"
   ]
  },
  {
   "cell_type": "code",
   "execution_count": 2,
   "metadata": {},
   "outputs": [],
   "source": [
    "plt.rcParams.update({'font.size': 14})\n",
    "plt.rcParams['text.usetex'] = True"
   ]
  },
  {
   "cell_type": "code",
   "execution_count": 3,
   "metadata": {},
   "outputs": [
    {
     "name": "stdout",
     "output_type": "stream",
     "text": [
      "? Warning: sim.dill in . is not up to date, recreating simulation object..\n",
      "~ Reading param.nml.. \n",
      "~ Reading grid.. \n",
      "~ Reading ghost_grid.. \n",
      "~ Reading dim.. \n",
      "Read 10251 lines.\n"
     ]
    }
   ],
   "source": [
    "sim = pc.get_sim(quiet=True)\n",
    "xyaver = pc.read.aver(plane_list=['xy'])\n",
    "# #reading timeseries data\n",
    "ts = pc.read.ts()\n",
    "yaver = pc.read.aver(plane_list='y')"
   ]
  },
  {
   "cell_type": "code",
   "execution_count": 4,
   "metadata": {},
   "outputs": [],
   "source": [
    "mode = modes.Modes(sim, ts, xyaver, yaver, ini=False, dyn=True)"
   ]
  },
  {
   "cell_type": "code",
   "execution_count": 5,
   "metadata": {},
   "outputs": [
    {
     "data": {
      "text/plain": [
       "8.02508"
      ]
     },
     "execution_count": 5,
     "metadata": {},
     "output_type": "execute_result"
    }
   ],
   "source": [
    "mode.get_kf()"
   ]
  },
  {
   "cell_type": "code",
   "execution_count": 6,
   "metadata": {},
   "outputs": [
    {
     "data": {
      "text/plain": [
       "(256,)"
      ]
     },
     "execution_count": 6,
     "metadata": {},
     "output_type": "execute_result"
    }
   ],
   "source": [
    "sim.grid.z.shape"
   ]
  },
  {
   "cell_type": "code",
   "execution_count": 7,
   "metadata": {},
   "outputs": [
    {
     "data": {
      "text/plain": [
       "0.003"
      ]
     },
     "execution_count": 7,
     "metadata": {},
     "output_type": "execute_result"
    }
   ],
   "source": [
    "sim.param.get('nu')"
   ]
  },
  {
   "cell_type": "code",
   "execution_count": 8,
   "metadata": {},
   "outputs": [
    {
     "data": {
      "text/plain": [
       "1.051"
      ]
     },
     "execution_count": 8,
     "metadata": {},
     "output_type": "execute_result"
    }
   ],
   "source": [
    "mode.L0"
   ]
  },
  {
   "cell_type": "code",
   "execution_count": 8,
   "metadata": {},
   "outputs": [],
   "source": [
    "# var = pc.read.var()"
   ]
  },
  {
   "cell_type": "code",
   "execution_count": 9,
   "metadata": {},
   "outputs": [
    {
     "data": {
      "text/plain": [
       "'two-layer'"
      ]
     },
     "execution_count": 9,
     "metadata": {},
     "output_type": "execute_result"
    }
   ],
   "source": [
    "k = sim.param.get('cooltype')\n",
    "k"
   ]
  },
  {
   "cell_type": "code",
   "execution_count": 10,
   "metadata": {},
   "outputs": [
    {
     "data": {
      "text/plain": [
       "0.003"
      ]
     },
     "execution_count": 10,
     "metadata": {},
     "output_type": "execute_result"
    }
   ],
   "source": [
    "sim.param.get('nu')"
   ]
  },
  {
   "cell_type": "code",
   "execution_count": 11,
   "metadata": {},
   "outputs": [
    {
     "data": {
      "text/plain": [
       "1.6579822283668415"
      ]
     },
     "execution_count": 11,
     "metadata": {},
     "output_type": "execute_result"
    }
   ],
   "source": [
    "0.0685/(0.008*5.16441)"
   ]
  },
  {
   "cell_type": "code",
   "execution_count": 12,
   "metadata": {},
   "outputs": [],
   "source": [
    "def reynolds(var):\n",
    "    uu_d = var.uu[:,3:mode.indx_zref+3,3:-3,3:-3]\n",
    "    uu_d_sq = uu_d**2\n",
    "    uu_d_sq_sum = np.sum(uu_d_sq, axis=0)\n",
    "    global urms_d\n",
    "    urms_d = np.sqrt(np.average(uu_d_sq_sum))\n",
    "    print(urms_d)\n",
    "    return round(urms_d/(mode.nu*mode.get_kf()),4)"
   ]
  },
  {
   "cell_type": "code",
   "execution_count": 13,
   "metadata": {},
   "outputs": [],
   "source": [
    "# reynolds(var)"
   ]
  },
  {
   "cell_type": "code",
   "execution_count": 14,
   "metadata": {},
   "outputs": [
    {
     "data": {
      "text/plain": [
       "(1.025, 3.168)"
      ]
     },
     "execution_count": 14,
     "metadata": {},
     "output_type": "execute_result"
    }
   ],
   "source": [
    "mode.cs_d, mode.cs_u"
   ]
  },
  {
   "cell_type": "code",
   "execution_count": 15,
   "metadata": {},
   "outputs": [],
   "source": [
    "def mach(var):\n",
    "    return urms_d/mode.cs_d"
   ]
  },
  {
   "cell_type": "code",
   "execution_count": 16,
   "metadata": {},
   "outputs": [],
   "source": [
    "# mach(var)"
   ]
  },
  {
   "cell_type": "code",
   "execution_count": 17,
   "metadata": {},
   "outputs": [],
   "source": [
    "# mode.mach(var)"
   ]
  },
  {
   "cell_type": "code",
   "execution_count": 18,
   "metadata": {},
   "outputs": [],
   "source": [
    "# fig, axs = plt.subplots(2,1, figsize=(16,8), sharex=True)\n",
    "# mode.butterfly(fig, axs)\n",
    "# # plt.tight_layout()"
   ]
  },
  {
   "cell_type": "markdown",
   "metadata": {},
   "source": [
    "## Variation of Thermodynamic Variables along z"
   ]
  },
  {
   "cell_type": "code",
   "execution_count": 19,
   "metadata": {},
   "outputs": [
    {
     "data": {
      "image/png": "[encoded data removed]",
      "text/plain": [
       "<Figure size 800x500 with 3 Axes>"
      ]
     },
     "metadata": {},
     "output_type": "display_data"
    }
   ],
   "source": [
    "fig, axs = plt.subplots(3,1, figsize=(8,5), sharex=True)\n",
    "\n",
    "axs[0].plot(mode.z, mode.rho, color='k')\n",
    "# axs[0].plot(data[:,0], data[:,1], color='k', ls=':')\n",
    "# axs[1].plot(grid.z, pressure, color='k')\n",
    "axs[1].plot(mode.z, mode.pre, color='k')\n",
    "axs[2].plot(mode.z, mode.tem, color='k')\n",
    "\n",
    "# axs[2].plot(data[:,0], data[:,2], color='b')\n",
    "\n",
    "#axs[2].plot(grid.z, xya.xy.TTmz[-1], color='k')\n",
    "\n",
    "axs[0].set_yscale(\"log\")\n",
    "axs[1].set_yscale(\"log\")\n",
    "# axs[2].set_yscale(\"log\")\n",
    "\n",
    "# axs[0].set_xlim(z[0], z[-1])\n",
    "# axs[1].set_xlim(z[0], z[-1])\n",
    "axs[2].set_xlim(mode.z[0], mode.z[-1])\n",
    "\n",
    "axs[0].set_ylabel(r\"$\\rho(z)$\")\n",
    "axs[1].set_ylabel(r\"$P(z)$\")\n",
    "axs[2].set_ylabel(r\"$T(z)$\")\n",
    "\n",
    "# xticks = (np.pi/10)*np.array([-9, -7, -5, -3, -1, 0, 1])\n",
    "# axs[2].set_xticks(xticks)\n",
    "# axs[2].set_xticklabels([r'$-\\frac{9\\pi}{10}$', r'$-\\frac{7\\pi}{10}$', r'$-\\frac{5\\pi}{10}$', \\\n",
    "#                      r'$-\\frac{3\\pi}{10}$', r'$-\\frac{\\pi}{10}$', r'$0$', r'$\\frac{\\pi}{10}$'])\n",
    "plt.xlabel(r\"$z$\")\n",
    "plt.tight_layout()\n",
    "# plt.savefig(\"plots/variation.pdf\")"
   ]
  },
  {
   "cell_type": "code",
   "execution_count": 20,
   "metadata": {},
   "outputs": [],
   "source": [
    "# tem0 = mode.xyaver.xy.TTmz[0,:]\n",
    "# tem10 = mode.xyaver.xy.TTmz[10,:]\n",
    "# tem100 = mode.xyaver.xy.TTmz[100,:]\n",
    "# tem400 = mode.xyaver.xy.TTmz[400,:]"
   ]
  },
  {
   "cell_type": "code",
   "execution_count": 21,
   "metadata": {},
   "outputs": [
    {
     "data": {
      "text/plain": [
       "(0.4001, 1.667)"
      ]
     },
     "execution_count": 21,
     "metadata": {},
     "output_type": "execute_result"
    }
   ],
   "source": [
    "mode.R, mode.gamma"
   ]
  },
  {
   "cell_type": "code",
   "execution_count": 22,
   "metadata": {},
   "outputs": [
    {
     "data": {
      "text/plain": [
       "(5127, 256)"
      ]
     },
     "execution_count": 22,
     "metadata": {},
     "output_type": "execute_result"
    }
   ],
   "source": [
    "cs_sq0 = mode.gamma*mode.xyaver.xy.ppmz/mode.xyaver.xy.rhomz\n",
    "cs_sq0.shape"
   ]
  },
  {
   "cell_type": "code",
   "execution_count": 23,
   "metadata": {},
   "outputs": [
    {
     "data": {
      "text/plain": [
       "(5127,)"
      ]
     },
     "execution_count": 23,
     "metadata": {},
     "output_type": "execute_result"
    }
   ],
   "source": [
    "mode.xyaver.t.shape"
   ]
  },
  {
   "cell_type": "code",
   "execution_count": 24,
   "metadata": {},
   "outputs": [
    {
     "data": {
      "text/plain": [
       "5127"
      ]
     },
     "execution_count": 24,
     "metadata": {},
     "output_type": "execute_result"
    }
   ],
   "source": [
    "np.size(cs_sq0, 0)"
   ]
  },
  {
   "cell_type": "code",
   "execution_count": 25,
   "metadata": {},
   "outputs": [
    {
     "data": {
      "text/plain": [
       "1.599"
      ]
     },
     "execution_count": 25,
     "metadata": {},
     "output_type": "execute_result"
    }
   ],
   "source": [
    "round(mode.xyaver.t[4],3)"
   ]
  },
  {
   "cell_type": "code",
   "execution_count": 26,
   "metadata": {},
   "outputs": [],
   "source": [
    "def vari(d,u,legend=True):\n",
    "    fig = plt.figure(figsize=(14,4))\n",
    "    # for i in range(len(cs_sq0[:,1])):\n",
    "    for i in range(np.size(cs_sq0[d:u,:],0)):\n",
    "        plt.plot(mode.z, cs_sq0[d+i,:], label=fr'$t={mode.xyaver.t[d+i]:.3f}$')\n",
    "    plt.axhline(y=5, ls=':')\n",
    "    plt.axhline(y=1, ls=':')\n",
    "    plt.xlim(mode.z[0], mode.z[-1])\n",
    "    # plt.ylim(0,11)\n",
    "    plt.legend(loc=6, bbox_to_anchor=(1,0.5))\n",
    "    # plt.show()"
   ]
  },
  {
   "cell_type": "code",
   "execution_count": 27,
   "metadata": {},
   "outputs": [
    {
     "data": {
      "text/plain": [
       "Text(0.5, 1.0, 'in earlier time')"
      ]
     },
     "execution_count": 27,
     "metadata": {},
     "output_type": "execute_result"
    },
    {
     "data": {
      "image/png": "[encoded data removed]",
      "text/plain": [
       "<Figure size 1400x400 with 1 Axes>"
      ]
     },
     "metadata": {},
     "output_type": "display_data"
    }
   ],
   "source": [
    "vari(0,10)\n",
    "plt.title('in earlier time')"
   ]
  },
  {
   "cell_type": "code",
   "execution_count": 28,
   "metadata": {},
   "outputs": [
    {
     "data": {
      "text/plain": [
       "Text(0.5, 1.0, 'in later time')"
      ]
     },
     "execution_count": 28,
     "metadata": {},
     "output_type": "execute_result"
    },
    {
     "data": {
      "image/png": "[encoded data removed]",
      "text/plain": [
       "<Figure size 1400x400 with 1 Axes>"
      ]
     },
     "metadata": {},
     "output_type": "display_data"
    }
   ],
   "source": [
    "vari(-11,-1)\n",
    "plt.title('in later time')"
   ]
  },
  {
   "cell_type": "code",
   "execution_count": 29,
   "metadata": {},
   "outputs": [
    {
     "data": {
      "image/png": "[encoded data removed]",
      "text/plain": [
       "<Figure size 1400x400 with 1 Axes>"
      ]
     },
     "metadata": {},
     "output_type": "display_data"
    }
   ],
   "source": [
    "cs_sq = mode.gamma*mode.pre/mode.rho\n",
    "fig = plt.figure(figsize=(14,4))\n",
    "plt.plot(mode.z, cs_sq, c='k')\n",
    "plt.axhline(y=5)\n",
    "plt.xlim(mode.z[0], mode.z[-1])\n",
    "plt.show()"
   ]
  },
  {
   "cell_type": "code",
   "execution_count": 30,
   "metadata": {},
   "outputs": [
    {
     "data": {
      "text/plain": [
       "7.496626143404161"
      ]
     },
     "execution_count": 30,
     "metadata": {},
     "output_type": "execute_result"
    }
   ],
   "source": [
    "m = 5/(mode.R*mode.gamma)\n",
    "m"
   ]
  },
  {
   "cell_type": "code",
   "execution_count": 31,
   "metadata": {},
   "outputs": [
    {
     "data": {
      "image/png": "[encoded data removed]",
      "text/plain": [
       "<Figure size 1400x400 with 1 Axes>"
      ]
     },
     "metadata": {},
     "output_type": "display_data"
    }
   ],
   "source": [
    "fig, ax = plt.subplots(figsize=(14,4))\n",
    "plt.plot(mode.z, mode.tem, color='k')\n",
    "# plt.plot(mode.z, tem0, color='r')\n",
    "# plt.plot(mode.z, tem10, color='k')\n",
    "# plt.plot(mode.z, tem100, color='g')\n",
    "# plt.plot(data[:,0], data[:,2], color='b')\n",
    "plt.axhline(y=m, ls='--')\n",
    "# plt.yscale(\"log\")\n",
    "# plt.ylim(0,10)\n",
    "plt.xlim(mode.z[0], mode.z[-1])\n",
    "plt.show()"
   ]
  },
  {
   "cell_type": "code",
   "execution_count": 32,
   "metadata": {},
   "outputs": [],
   "source": [
    "# mode.cs_u"
   ]
  },
  {
   "cell_type": "code",
   "execution_count": 33,
   "metadata": {},
   "outputs": [],
   "source": [
    "# fig, axs = plt.subplots(2,1, figsize=(12,6), sharex=True)\n",
    "\n",
    "# axs[0].plot(mode.z, mode.bx2mz, color='k')\n",
    "# # axs[0].plot(mode.z, bxmz, color='k')\n",
    "# # axs[0].plot(data[:,0], np.exp(data[:,1]), color='k', ls=':')\n",
    "# # axs[1].plot(grid.z, pressure, color='k')\n",
    "# axs[1].plot(mode.z, mode.by2mz, color='k')\n",
    "# # axs[1].plot(mode.z, bymz, color='k')\n",
    "# #axs[2].plot(grid.z, xya.xy.TTmz[-1], color='k')\n",
    "\n",
    "# # axs[0].set_yscale(\"log\")\n",
    "# # axs[1].set_yscale(\"log\")\n",
    "\n",
    "# # axs[0].set_xlim(z[0], z[-1])\n",
    "# # axs[1].set_xlim(z[0], z[-1])\n",
    "# axs[1].set_xlim(mode.z[0], mode.z[-1])\n",
    "\n",
    "# axs[0].set_ylabel(r\"$\\langle B_x^2\\rangle_{xy}(z)$\")\n",
    "# axs[1].set_ylabel(r\"$\\langle B_y^2\\rangle_{xy}(z)$\")\n",
    "\n",
    "# # xticks = (np.pi/10)*np.array([-9, -7, -5, -3, -1, 0, 1])\n",
    "# # axs[2].set_xticks(xticks)\n",
    "# # axs[2].set_xticklabels([r'$-\\frac{9\\pi}{10}$', r'$-\\frac{7\\pi}{10}$', r'$-\\frac{5\\pi}{10}$', \\\n",
    "# #                      r'$-\\frac{3\\pi}{10}$', r'$-\\frac{\\pi}{10}$', r'$0$', r'$\\frac{\\pi}{10}$'])\n",
    "# plt.xlabel(r\"$grid (z)$\")\n",
    "# plt.tight_layout()\n",
    "# #plt.savefig(\"variation.jpg\")"
   ]
  },
  {
   "cell_type": "code",
   "execution_count": 34,
   "metadata": {},
   "outputs": [
    {
     "name": "stdout",
     "output_type": "stream",
     "text": [
      "angle _{xy}$ \n"
     ]
    }
   ],
   "source": [
    "print('$\\langle B_y \\rangle _{xy}$')"
   ]
  },
  {
   "cell_type": "code",
   "execution_count": 35,
   "metadata": {},
   "outputs": [],
   "source": [
    "bxmz = xyaver.xy.bxmz[-100,:]\n",
    "bymz = xyaver.xy.bymz[-100,:]"
   ]
  },
  {
   "cell_type": "code",
   "execution_count": 36,
   "metadata": {},
   "outputs": [
    {
     "data": {
      "image/png": "[encoded data removed]",
      "text/plain": [
       "<Figure size 1600x400 with 1 Axes>"
      ]
     },
     "metadata": {},
     "output_type": "display_data"
    }
   ],
   "source": [
    "fig = plt.figure(figsize=(16,4))\n",
    "plt.plot(ts.t, ts.urms, alpha=0.6)\n",
    "# plt.plot(t_fit, u_fit, '--r')\n",
    "# plt.yscale('log')\n",
    "plt.xlim(0,)\n",
    "# plt.ylim(0,0.08)\n",
    "plt.xlabel(\"t\")\n",
    "plt.ylabel(r\"$u_{rms}$\")\n",
    "# plt.yticks(np.arange(0.0,0.07,0.01))\n",
    "plt.show()"
   ]
  },
  {
   "cell_type": "code",
   "execution_count": 37,
   "metadata": {},
   "outputs": [
    {
     "data": {
      "text/plain": [
       "array([0.  , 0.01, 0.02, 0.03, 0.04, 0.05, 0.06, 0.07])"
      ]
     },
     "execution_count": 37,
     "metadata": {},
     "output_type": "execute_result"
    }
   ],
   "source": [
    "np.arange(0.0,0.07,0.01)"
   ]
  },
  {
   "cell_type": "code",
   "execution_count": 38,
   "metadata": {},
   "outputs": [
    {
     "data": {
      "text/plain": [
       "(10251,)"
      ]
     },
     "execution_count": 38,
     "metadata": {},
     "output_type": "execute_result"
    }
   ],
   "source": [
    "ts.t.shape"
   ]
  },
  {
   "cell_type": "code",
   "execution_count": 39,
   "metadata": {},
   "outputs": [
    {
     "data": {
      "image/png": "[encoded data removed]",
      "text/plain": [
       "<Figure size 1600x400 with 1 Axes>"
      ]
     },
     "metadata": {},
     "output_type": "display_data"
    }
   ],
   "source": [
    "fig = plt.figure(figsize=(16,4))\n",
    "plt.semilogy(ts.t, ts.brms, alpha=0.6)\n",
    "# plt.axvline(x=yaver.t[indx_sat_d], c='k', ls=':')\n",
    "# plt.axvline(x=tt[kin_t_d])\n",
    "# plt.axvline(x=tt[kin_t_u])\n",
    "#plt.plot(t_fit, u_fit, '--r')\n",
    "plt.yscale('log')\n",
    "plt.xlim(0,)\n",
    "plt.xlabel(\"t\")\n",
    "plt.ylabel(r\"$b_{rms}$\")\n",
    "plt.show()"
   ]
  },
  {
   "cell_type": "code",
   "execution_count": null,
   "metadata": {},
   "outputs": [],
   "source": []
  },
  {
   "cell_type": "markdown",
   "metadata": {},
   "source": [
    "## using total data"
   ]
  },
  {
   "cell_type": "code",
   "execution_count": 40,
   "metadata": {},
   "outputs": [],
   "source": [
    "uz_real = yaver.y.uzmxz"
   ]
  },
  {
   "cell_type": "code",
   "execution_count": 41,
   "metadata": {},
   "outputs": [
    {
     "data": {
      "text/plain": [
       "(4462, 640, 256)"
      ]
     },
     "execution_count": 41,
     "metadata": {},
     "output_type": "execute_result"
    }
   ],
   "source": [
    "uz_real.shape"
   ]
  },
  {
   "cell_type": "code",
   "execution_count": 42,
   "metadata": {},
   "outputs": [
    {
     "data": {
      "text/plain": [
       "(4462, 3)"
      ]
     },
     "execution_count": 42,
     "metadata": {},
     "output_type": "execute_result"
    }
   ],
   "source": [
    "uz_real[:,:3,3].shape"
   ]
  },
  {
   "cell_type": "markdown",
   "metadata": {},
   "source": [
    "### taking fourier transform of $u_z(t,x,z=0)$ to get $\\hat{u}_z(\\omega,k_x)$"
   ]
  },
  {
   "cell_type": "code",
   "execution_count": 43,
   "metadata": {},
   "outputs": [],
   "source": [
    "indx_t1 = np.argmin(np.abs(yaver.t - 200))  #to avoid the transient effects below t=170\n",
    "indx_t2 = -1"
   ]
  },
  {
   "cell_type": "code",
   "execution_count": 44,
   "metadata": {},
   "outputs": [
    {
     "data": {
      "text/plain": [
       "(229, 2304)"
      ]
     },
     "execution_count": 44,
     "metadata": {},
     "output_type": "execute_result"
    }
   ],
   "source": [
    "mode.indx_zref, 256*9"
   ]
  },
  {
   "cell_type": "code",
   "execution_count": 45,
   "metadata": {},
   "outputs": [
    {
     "data": {
      "text/plain": [
       "229"
      ]
     },
     "execution_count": 45,
     "metadata": {},
     "output_type": "execute_result"
    }
   ],
   "source": [
    "mode.indx_zref"
   ]
  },
  {
   "cell_type": "code",
   "execution_count": 46,
   "metadata": {},
   "outputs": [],
   "source": [
    "uz_fourier = mode.FT(uz_real[indx_t1:indx_t2,:,225], 'ortho')"
   ]
  },
  {
   "cell_type": "code",
   "execution_count": 47,
   "metadata": {},
   "outputs": [
    {
     "data": {
      "text/plain": [
       "(3961, 640)"
      ]
     },
     "execution_count": 47,
     "metadata": {},
     "output_type": "execute_result"
    }
   ],
   "source": [
    "uz_fourier.shape"
   ]
  },
  {
   "cell_type": "markdown",
   "metadata": {},
   "source": [
    "### we can construct the dimensionless quantity \n",
    "$$\\tilde{P}(\\omega,k_x)=\\frac{|\\hat{u}_z|}{D^2}$$"
   ]
  },
  {
   "cell_type": "code",
   "execution_count": 48,
   "metadata": {},
   "outputs": [],
   "source": [
    "logP = mode.logP(uz_fourier, mode.d)\n",
    "# logP"
   ]
  },
  {
   "cell_type": "code",
   "execution_count": 49,
   "metadata": {},
   "outputs": [
    {
     "data": {
      "text/plain": [
       "(3961, 640)"
      ]
     },
     "execution_count": 49,
     "metadata": {},
     "output_type": "execute_result"
    }
   ],
   "source": [
    "logP.shape"
   ]
  },
  {
   "cell_type": "code",
   "execution_count": 50,
   "metadata": {},
   "outputs": [],
   "source": [
    "aa = np.linspace(0, 2*np.pi,100)"
   ]
  },
  {
   "cell_type": "code",
   "execution_count": 51,
   "metadata": {},
   "outputs": [],
   "source": [
    "k_tilde = mode.k_tilde()\n",
    "# om_tilde = mode.omega_tilde(yaver.t, indx_t1, indx_t2)"
   ]
  },
  {
   "cell_type": "code",
   "execution_count": 52,
   "metadata": {},
   "outputs": [],
   "source": [
    "om_tilde = mode.omega_tilde(indx_t1, indx_t2)"
   ]
  },
  {
   "cell_type": "code",
   "execution_count": 53,
   "metadata": {},
   "outputs": [],
   "source": [
    "# om_tilde==om_til"
   ]
  },
  {
   "cell_type": "code",
   "execution_count": 54,
   "metadata": {},
   "outputs": [
    {
     "data": {
      "text/plain": [
       "(0.2617993877991494, 1.051)"
      ]
     },
     "execution_count": 54,
     "metadata": {},
     "output_type": "execute_result"
    }
   ],
   "source": [
    "2*np.pi/mode.lx, mode.L0"
   ]
  },
  {
   "cell_type": "code",
   "execution_count": 55,
   "metadata": {},
   "outputs": [
    {
     "data": {
      "text/plain": [
       "(0.27515115657690603, 88.04837010460992)"
      ]
     },
     "execution_count": 55,
     "metadata": {},
     "output_type": "execute_result"
    }
   ],
   "source": [
    "k_tilde[1], np.max(k_tilde)"
   ]
  },
  {
   "cell_type": "code",
   "execution_count": 56,
   "metadata": {},
   "outputs": [],
   "source": [
    "kf = mode.get_kf()"
   ]
  },
  {
   "cell_type": "code",
   "execution_count": 57,
   "metadata": {},
   "outputs": [
    {
     "data": {
      "text/plain": [
       "(-8.02508, 8.02508)"
      ]
     },
     "execution_count": 57,
     "metadata": {},
     "output_type": "execute_result"
    },
    {
     "data": {
      "image/png": "[encoded data removed]",
      "text/plain": [
       "<Figure size 640x480 with 2 Axes>"
      ]
     },
     "metadata": {},
     "output_type": "display_data"
    }
   ],
   "source": [
    "[X, Y] = np.meshgrid(k_tilde, om_tilde)\n",
    "#plt.contourf(X, Y, logP, 1500, cmap='inferno', vmin=np.min(logP), vmax=np.max(logP))\n",
    "cax = plt.contourf(np.fft.fftshift(X), np.fft.fftshift(Y), np.fft.fftshift(logP), 1000, cmap='afmhot_r')#, vmin=-np.max(logP), vmax=np.max(logP))\n",
    "\n",
    "# cax.cmap.set_under('w')\n",
    "plt.colorbar(cax, extend='min')\n",
    "# plt.axhline(y = 1)\n",
    "# plt.clim(-np.max(logP), np.max(logP))\n",
    "\n",
    "plt.xlim(-kf, kf)\n",
    "# # plt.savefig('k_om.png')im2.cmap.set_under('k')\n",
    "# plt.show()"
   ]
  },
  {
   "cell_type": "code",
   "execution_count": 58,
   "metadata": {},
   "outputs": [],
   "source": [
    "# uz_fourier_sq = mode.FT(uz_real[indx_t1:indx_t2,:,225]**2, 'ortho')\n",
    "# logP_sq = mode.logP(uz_fourier_sq, mode.d)"
   ]
  },
  {
   "cell_type": "code",
   "execution_count": 59,
   "metadata": {},
   "outputs": [],
   "source": [
    "ind_k_f = np.argmin(np.abs(k_tilde - mode.get_kf()*mode.L0))"
   ]
  },
  {
   "cell_type": "code",
   "execution_count": 60,
   "metadata": {},
   "outputs": [],
   "source": [
    "# mode.reynolds(var)"
   ]
  },
  {
   "cell_type": "code",
   "execution_count": 61,
   "metadata": {},
   "outputs": [
    {
     "ename": "NameError",
     "evalue": "name 'var' is not defined",
     "output_type": "error",
     "traceback": [
      "\u001b[0;31m---------------------------------------------------------------------------\u001b[0m",
      "\u001b[0;31mNameError\u001b[0m                                 Traceback (most recent call last)",
      "Cell \u001b[0;32mIn[61], line 1\u001b[0m\n\u001b[0;32m----> 1\u001b[0m kmax \u001b[38;5;241m=\u001b[39m mode\u001b[38;5;241m.\u001b[39mget_kf()\u001b[38;5;241m*\u001b[39mmode\u001b[38;5;241m.\u001b[39mL0\u001b[38;5;241m*\u001b[39m(mode\u001b[38;5;241m.\u001b[39mreynolds(\u001b[43mvar\u001b[49m))\u001b[38;5;241m*\u001b[39m\u001b[38;5;241m*\u001b[39m(\u001b[38;5;241m3\u001b[39m\u001b[38;5;241m/\u001b[39m\u001b[38;5;241m4\u001b[39m)\n\u001b[1;32m      2\u001b[0m ind_k_v \u001b[38;5;241m=\u001b[39m np\u001b[38;5;241m.\u001b[39margmin(np\u001b[38;5;241m.\u001b[39mabs(k_tilde \u001b[38;5;241m-\u001b[39m kmax))\n",
      "\u001b[0;31mNameError\u001b[0m: name 'var' is not defined"
     ]
    }
   ],
   "source": [
    "kmax = mode.get_kf()*mode.L0*(mode.reynolds(var))**(3/4)\n",
    "ind_k_v = np.argmin(np.abs(k_tilde - kmax))"
   ]
  },
  {
   "cell_type": "code",
   "execution_count": null,
   "metadata": {},
   "outputs": [
    {
     "ename": "",
     "evalue": "",
     "output_type": "error",
     "traceback": [
      "\u001b[1;31mFailed to start the Kernel. \n",
      "\u001b[1;31mUnable to start Kernel 'env_pencil (Python 3.11.8)' due to a connection timeout. \n",
      "\u001b[1;31mView Jupyter <a href='command:jupyter.viewOutput'>log</a> for further details."
     ]
    }
   ],
   "source": [
    "kmax"
   ]
  },
  {
   "cell_type": "code",
   "execution_count": null,
   "metadata": {},
   "outputs": [
    {
     "ename": "",
     "evalue": "",
     "output_type": "error",
     "traceback": [
      "\u001b[1;31mFailed to start the Kernel. \n",
      "\u001b[1;31mUnable to start Kernel 'env_pencil (Python 3.11.8)' due to a connection timeout. \n",
      "\u001b[1;31mView Jupyter <a href='command:jupyter.viewOutput'>log</a> for further details."
     ]
    }
   ],
   "source": [
    "ind = np.argmin(np.abs(om_tilde - 2))\n",
    "ind"
   ]
  },
  {
   "cell_type": "code",
   "execution_count": null,
   "metadata": {},
   "outputs": [
    {
     "ename": "",
     "evalue": "",
     "output_type": "error",
     "traceback": [
      "\u001b[1;31mFailed to start the Kernel. \n",
      "\u001b[1;31mUnable to start Kernel 'env_pencil (Python 3.11.8)' due to a connection timeout. \n",
      "\u001b[1;31mView Jupyter <a href='command:jupyter.viewOutput'>log</a> for further details."
     ]
    }
   ],
   "source": [
    "k_tilde.shape"
   ]
  },
  {
   "cell_type": "code",
   "execution_count": null,
   "metadata": {},
   "outputs": [
    {
     "ename": "",
     "evalue": "",
     "output_type": "error",
     "traceback": [
      "\u001b[1;31mFailed to start the Kernel. \n",
      "\u001b[1;31mUnable to start Kernel 'env_pencil (Python 3.11.8)' due to a connection timeout. \n",
      "\u001b[1;31mView Jupyter <a href='command:jupyter.viewOutput'>log</a> for further details."
     ]
    }
   ],
   "source": [
    "l_indx = 14\n",
    "u_indx = 120\n",
    "plt.plot(np.log(k_tilde[:255]), logP[ind,:255])\n",
    "plt.plot(np.log(k_tilde[l_indx:u_indx]), logP[ind,l_indx:u_indx])\n",
    "plt.axvline(x=np.log(k_tilde[ind_k_f]))\n",
    "plt.axvline(x=np.log(k_tilde[ind_k_v]), ls='--')\n",
    "plt.show()"
   ]
  },
  {
   "cell_type": "code",
   "execution_count": null,
   "metadata": {},
   "outputs": [
    {
     "ename": "",
     "evalue": "",
     "output_type": "error",
     "traceback": [
      "\u001b[1;31mFailed to start the Kernel. \n",
      "\u001b[1;31mUnable to start Kernel 'env_pencil (Python 3.11.8)' due to a connection timeout. \n",
      "\u001b[1;31mView Jupyter <a href='command:jupyter.viewOutput'>log</a> for further details."
     ]
    }
   ],
   "source": [
    "def kolmogorov(x, a, b):\n",
    "    return a*x+b"
   ]
  },
  {
   "cell_type": "code",
   "execution_count": null,
   "metadata": {},
   "outputs": [
    {
     "ename": "",
     "evalue": "",
     "output_type": "error",
     "traceback": [
      "\u001b[1;31mFailed to start the Kernel. \n",
      "\u001b[1;31mUnable to start Kernel 'env_pencil (Python 3.11.8)' due to a connection timeout. \n",
      "\u001b[1;31mView Jupyter <a href='command:jupyter.viewOutput'>log</a> for further details."
     ]
    }
   ],
   "source": [
    "y_fitted = mode.mode_fit(kolmogorov, np.log(k_tilde[l_indx:u_indx]), logP[ind,l_indx:u_indx])#, p0=[-0.575, 0.579])"
   ]
  },
  {
   "cell_type": "code",
   "execution_count": null,
   "metadata": {},
   "outputs": [
    {
     "ename": "",
     "evalue": "",
     "output_type": "error",
     "traceback": [
      "\u001b[1;31mFailed to start the Kernel. \n",
      "\u001b[1;31mUnable to start Kernel 'env_pencil (Python 3.11.8)' due to a connection timeout. \n",
      "\u001b[1;31mView Jupyter <a href='command:jupyter.viewOutput'>log</a> for further details."
     ]
    }
   ],
   "source": [
    "para, _ = curve_fit(kolmogorov, np.log(k_tilde[l_indx:u_indx]), logP[ind,l_indx:u_indx])#, p0=[-0.575, 0.579])\n",
    "para[0], para[1]"
   ]
  },
  {
   "cell_type": "code",
   "execution_count": null,
   "metadata": {},
   "outputs": [
    {
     "ename": "",
     "evalue": "",
     "output_type": "error",
     "traceback": [
      "\u001b[1;31mFailed to start the Kernel. \n",
      "\u001b[1;31mUnable to start Kernel 'env_pencil (Python 3.11.8)' due to a connection timeout. \n",
      "\u001b[1;31mView Jupyter <a href='command:jupyter.viewOutput'>log</a> for further details."
     ]
    }
   ],
   "source": [
    "# l_indx = 100\n",
    "# u_indx = 180\n",
    "# plt.plot(k_tilde[l_indx:u_indx], logP[ind,l_indx:u_indx])\n",
    "plt.plot(np.log(k_tilde[:255]), logP[ind,:255])\n",
    "plt.plot(np.log(k_tilde[l_indx:u_indx]), y_fitted, ls='--')\n",
    "plt.show()"
   ]
  },
  {
   "cell_type": "code",
   "execution_count": null,
   "metadata": {},
   "outputs": [
    {
     "ename": "",
     "evalue": "",
     "output_type": "error",
     "traceback": [
      "\u001b[1;31mFailed to start the Kernel. \n",
      "\u001b[1;31mUnable to start Kernel 'env_pencil (Python 3.11.8)' due to a connection timeout. \n",
      "\u001b[1;31mView Jupyter <a href='command:jupyter.viewOutput'>log</a> for further details."
     ]
    }
   ],
   "source": [
    "mode.get_kf()"
   ]
  },
  {
   "cell_type": "code",
   "execution_count": null,
   "metadata": {},
   "outputs": [
    {
     "ename": "",
     "evalue": "",
     "output_type": "error",
     "traceback": [
      "\u001b[1;31mFailed to start the Kernel. \n",
      "\u001b[1;31mUnable to start Kernel 'env_pencil (Python 3.11.8)' due to a connection timeout. \n",
      "\u001b[1;31mView Jupyter <a href='command:jupyter.viewOutput'>log</a> for further details."
     ]
    }
   ],
   "source": [
    "5.141*mode.L0"
   ]
  },
  {
   "cell_type": "code",
   "execution_count": null,
   "metadata": {},
   "outputs": [
    {
     "ename": "",
     "evalue": "",
     "output_type": "error",
     "traceback": [
      "\u001b[1;31mFailed to start the Kernel. \n",
      "\u001b[1;31mUnable to start Kernel 'env_pencil (Python 3.11.8)' due to a connection timeout. \n",
      "\u001b[1;31mView Jupyter <a href='command:jupyter.viewOutput'>log</a> for further details."
     ]
    }
   ],
   "source": [
    "#, ticks=[-3.5, -2.5, -1.5, 0, 1.5, 2.5, 3.5]\n",
    "# plt.plot(aa, np.sqrt(mode.gz*aa/(mode.omega0**2*mode.L0)), 'k')\n",
    "# plt.plot(aa, np.sqrt(mode.gz*aa/(mode.omega0**2*mode.L0)*(1-mode.q)/(1+mode.q)), ls='dotted', c='k')\n",
    "# plt.plot(k_tilde, mode.cs_d*k_tilde/(mode.omega0*mode.L0), 'k')\n",
    "# plt.plot(k_tilde, mode.cs_u*k_tilde/(mode.omega0*mode.L0), 'k')\n",
    "# plt.ylim(0,10)"
   ]
  },
  {
   "cell_type": "markdown",
   "metadata": {},
   "source": [
    "## kinematic Phase"
   ]
  },
  {
   "cell_type": "code",
   "execution_count": null,
   "metadata": {},
   "outputs": [
    {
     "ename": "",
     "evalue": "",
     "output_type": "error",
     "traceback": [
      "\u001b[1;31mFailed to start the Kernel. \n",
      "\u001b[1;31mUnable to start Kernel 'env_pencil (Python 3.11.8)' due to a connection timeout. \n",
      "\u001b[1;31mView Jupyter <a href='command:jupyter.viewOutput'>log</a> for further details."
     ]
    }
   ],
   "source": [
    "tt = yaver.t\n",
    "tt.shape"
   ]
  },
  {
   "cell_type": "code",
   "execution_count": null,
   "metadata": {},
   "outputs": [
    {
     "ename": "",
     "evalue": "",
     "output_type": "error",
     "traceback": [
      "\u001b[1;31mFailed to start the Kernel. \n",
      "\u001b[1;31mUnable to start Kernel 'env_pencil (Python 3.11.8)' due to a connection timeout. \n",
      "\u001b[1;31mView Jupyter <a href='command:jupyter.viewOutput'>log</a> for further details."
     ]
    }
   ],
   "source": [
    "indx_kin_d = np.argmin(np.abs(yaver.t-100))\n",
    "indx_kin_u = np.argmin(np.abs(yaver.t-1500))"
   ]
  },
  {
   "cell_type": "code",
   "execution_count": null,
   "metadata": {},
   "outputs": [
    {
     "ename": "",
     "evalue": "",
     "output_type": "error",
     "traceback": [
      "\u001b[1;31mFailed to start the Kernel. \n",
      "\u001b[1;31mUnable to start Kernel 'env_pencil (Python 3.11.8)' due to a connection timeout. \n",
      "\u001b[1;31mView Jupyter <a href='command:jupyter.viewOutput'>log</a> for further details."
     ]
    }
   ],
   "source": [
    "fig = plt.figure(figsize=(16,4))\n",
    "plt.plot(ts.t, ts.urms, alpha=0.6)\n",
    "plt.axvline(x=yaver.t[indx_kin_d], c='k', ls=':')\n",
    "plt.axvline(x=yaver.t[indx_kin_u], c='k', ls=':')\n",
    "# plt.plot(t_fit, u_fit, '--r')\n",
    "plt.yscale('log')\n",
    "plt.xlim(0,)\n",
    "plt.xlabel(\"t\")\n",
    "plt.ylabel(r\"$u_{rms}$\")\n",
    "plt.show()"
   ]
  },
  {
   "cell_type": "code",
   "execution_count": null,
   "metadata": {},
   "outputs": [
    {
     "ename": "",
     "evalue": "",
     "output_type": "error",
     "traceback": [
      "\u001b[1;31mFailed to start the Kernel. \n",
      "\u001b[1;31mUnable to start Kernel 'env_pencil (Python 3.11.8)' due to a connection timeout. \n",
      "\u001b[1;31mView Jupyter <a href='command:jupyter.viewOutput'>log</a> for further details."
     ]
    }
   ],
   "source": [
    "uz_real.shape"
   ]
  },
  {
   "cell_type": "code",
   "execution_count": null,
   "metadata": {},
   "outputs": [
    {
     "ename": "",
     "evalue": "",
     "output_type": "error",
     "traceback": [
      "\u001b[1;31mFailed to start the Kernel. \n",
      "\u001b[1;31mUnable to start Kernel 'env_pencil (Python 3.11.8)' due to a connection timeout. \n",
      "\u001b[1;31mView Jupyter <a href='command:jupyter.viewOutput'>log</a> for further details."
     ]
    }
   ],
   "source": [
    "uz_fourier_kin = mode.FT(uz_real[indx_kin_d:indx_kin_u,:,230], 'ortho')\n",
    "logP_kin = mode.logP(uz_fourier_kin, mode.d)\n",
    "om_tilde_kin = mode.omega_tilde(indx_kin_d, indx_kin_u)"
   ]
  },
  {
   "cell_type": "code",
   "execution_count": null,
   "metadata": {},
   "outputs": [
    {
     "ename": "",
     "evalue": "",
     "output_type": "error",
     "traceback": [
      "\u001b[1;31mFailed to start the Kernel. \n",
      "\u001b[1;31mUnable to start Kernel 'env_pencil (Python 3.11.8)' due to a connection timeout. \n",
      "\u001b[1;31mView Jupyter <a href='command:jupyter.viewOutput'>log</a> for further details."
     ]
    }
   ],
   "source": [
    "# uz_fourier_kin"
   ]
  },
  {
   "cell_type": "code",
   "execution_count": null,
   "metadata": {},
   "outputs": [
    {
     "ename": "",
     "evalue": "",
     "output_type": "error",
     "traceback": [
      "\u001b[1;31mFailed to start the Kernel. \n",
      "\u001b[1;31mUnable to start Kernel 'env_pencil (Python 3.11.8)' due to a connection timeout. \n",
      "\u001b[1;31mView Jupyter <a href='command:jupyter.viewOutput'>log</a> for further details."
     ]
    }
   ],
   "source": [
    "kin_len = uz_real[indx_kin_d:indx_kin_u,:,225].shape[0]\n",
    "kin_len"
   ]
  },
  {
   "cell_type": "markdown",
   "metadata": {},
   "source": [
    "## saturated phase"
   ]
  },
  {
   "cell_type": "code",
   "execution_count": null,
   "metadata": {},
   "outputs": [
    {
     "ename": "",
     "evalue": "",
     "output_type": "error",
     "traceback": [
      "\u001b[1;31mFailed to start the Kernel. \n",
      "\u001b[1;31mUnable to start Kernel 'env_pencil (Python 3.11.8)' due to a connection timeout. \n",
      "\u001b[1;31mView Jupyter <a href='command:jupyter.viewOutput'>log</a> for further details."
     ]
    }
   ],
   "source": [
    "indx_sat_d = np.argmin(np.abs(tt-2550))\n",
    "indx_sat_u = -889"
   ]
  },
  {
   "cell_type": "code",
   "execution_count": null,
   "metadata": {},
   "outputs": [
    {
     "ename": "",
     "evalue": "",
     "output_type": "error",
     "traceback": [
      "\u001b[1;31mFailed to start the Kernel. \n",
      "\u001b[1;31mUnable to start Kernel 'env_pencil (Python 3.11.8)' due to a connection timeout. \n",
      "\u001b[1;31mView Jupyter <a href='command:jupyter.viewOutput'>log</a> for further details."
     ]
    }
   ],
   "source": [
    "sat_len = uz_real[indx_sat_d:indx_sat_u,:,225].shape[0]\n",
    "sat_len"
   ]
  },
  {
   "cell_type": "markdown",
   "metadata": {},
   "source": [
    "### we need to select data of same length from kinematic and saturated phase"
   ]
  },
  {
   "cell_type": "code",
   "execution_count": null,
   "metadata": {},
   "outputs": [
    {
     "ename": "",
     "evalue": "",
     "output_type": "error",
     "traceback": [
      "\u001b[1;31mFailed to start the Kernel. \n",
      "\u001b[1;31mUnable to start Kernel 'env_pencil (Python 3.11.8)' due to a connection timeout. \n",
      "\u001b[1;31mView Jupyter <a href='command:jupyter.viewOutput'>log</a> for further details."
     ]
    }
   ],
   "source": [
    "kin_len == sat_len"
   ]
  },
  {
   "cell_type": "code",
   "execution_count": null,
   "metadata": {},
   "outputs": [
    {
     "ename": "",
     "evalue": "",
     "output_type": "error",
     "traceback": [
      "\u001b[1;31mFailed to start the Kernel. \n",
      "\u001b[1;31mUnable to start Kernel 'env_pencil (Python 3.11.8)' due to a connection timeout. \n",
      "\u001b[1;31mView Jupyter <a href='command:jupyter.viewOutput'>log</a> for further details."
     ]
    }
   ],
   "source": [
    "fig = plt.figure(figsize=(16,4))\n",
    "plt.plot(ts.t, ts.urms, alpha=0.6)\n",
    "plt.axvline(x=yaver.t[indx_sat_d], c='k', ls=':')\n",
    "plt.axvline(x=yaver.t[indx_sat_u], c='k', ls=':')\n",
    "# plt.plot(t_fit, u_fit, '--r')\n",
    "plt.yscale('log')\n",
    "plt.xlim(0,)\n",
    "plt.xlabel(\"t\")\n",
    "plt.ylabel(r\"$u_{rms}$\")\n",
    "plt.show()"
   ]
  },
  {
   "cell_type": "code",
   "execution_count": null,
   "metadata": {},
   "outputs": [
    {
     "ename": "",
     "evalue": "",
     "output_type": "error",
     "traceback": [
      "\u001b[1;31mFailed to start the Kernel. \n",
      "\u001b[1;31mUnable to start Kernel 'env_pencil (Python 3.11.8)' due to a connection timeout. \n",
      "\u001b[1;31mView Jupyter <a href='command:jupyter.viewOutput'>log</a> for further details."
     ]
    }
   ],
   "source": [
    "# uz_fourier_sat = mode.FT(uz_real[indx_sat_d:indx_sat_u,:,225], 'ortho')\n",
    "# logP_sat = mode.logP(uz_fourier_sat, mode.d)\n",
    "# om_tilde_sat = mode.omega_tilde(yaver.t, indx_sat_d, indx_sat_u)"
   ]
  },
  {
   "cell_type": "code",
   "execution_count": null,
   "metadata": {},
   "outputs": [
    {
     "ename": "",
     "evalue": "",
     "output_type": "error",
     "traceback": [
      "\u001b[1;31mFailed to start the Kernel. \n",
      "\u001b[1;31mUnable to start Kernel 'env_pencil (Python 3.11.8)' due to a connection timeout. \n",
      "\u001b[1;31mView Jupyter <a href='command:jupyter.viewOutput'>log</a> for further details."
     ]
    }
   ],
   "source": [
    "indx_k_1 = np.argmin(np.abs(k_tilde - 1))"
   ]
  },
  {
   "cell_type": "markdown",
   "metadata": {},
   "source": [
    "### finding $\\tilde{P}(\\tilde{\\omega},\\tilde{k}_x=2)$"
   ]
  },
  {
   "cell_type": "code",
   "execution_count": null,
   "metadata": {},
   "outputs": [
    {
     "ename": "",
     "evalue": "",
     "output_type": "error",
     "traceback": [
      "\u001b[1;31mFailed to start the Kernel. \n",
      "\u001b[1;31mUnable to start Kernel 'env_pencil (Python 3.11.8)' due to a connection timeout. \n",
      "\u001b[1;31mView Jupyter <a href='command:jupyter.viewOutput'>log</a> for further details."
     ]
    }
   ],
   "source": [
    "indx_k_1 = np.argmin(np.abs(k_tilde - 2))\n",
    "k_1 = round(k_tilde[indx_k_1],3)"
   ]
  },
  {
   "cell_type": "code",
   "execution_count": null,
   "metadata": {},
   "outputs": [
    {
     "ename": "",
     "evalue": "",
     "output_type": "error",
     "traceback": [
      "\u001b[1;31mFailed to start the Kernel. \n",
      "\u001b[1;31mUnable to start Kernel 'env_pencil (Python 3.11.8)' due to a connection timeout. \n",
      "\u001b[1;31mView Jupyter <a href='command:jupyter.viewOutput'>log</a> for further details."
     ]
    }
   ],
   "source": [
    "k_1"
   ]
  },
  {
   "cell_type": "code",
   "execution_count": null,
   "metadata": {},
   "outputs": [
    {
     "ename": "",
     "evalue": "",
     "output_type": "error",
     "traceback": [
      "\u001b[1;31mFailed to start the Kernel. \n",
      "\u001b[1;31mUnable to start Kernel 'env_pencil (Python 3.11.8)' due to a connection timeout. \n",
      "\u001b[1;31mView Jupyter <a href='command:jupyter.viewOutput'>log</a> for further details."
     ]
    }
   ],
   "source": [
    "k_tilde[indx_k_1]"
   ]
  },
  {
   "cell_type": "code",
   "execution_count": null,
   "metadata": {},
   "outputs": [
    {
     "ename": "",
     "evalue": "",
     "output_type": "error",
     "traceback": [
      "\u001b[1;31mFailed to start the Kernel. \n",
      "\u001b[1;31mUnable to start Kernel 'env_pencil (Python 3.11.8)' due to a connection timeout. \n",
      "\u001b[1;31mView Jupyter <a href='command:jupyter.viewOutput'>log</a> for further details."
     ]
    }
   ],
   "source": [
    "indx_kin = mode.upto(indx_kin_d, indx_kin_u)\n",
    "indx_sat = mode.upto(indx_sat_d, indx_sat_u)"
   ]
  },
  {
   "cell_type": "code",
   "execution_count": null,
   "metadata": {},
   "outputs": [
    {
     "ename": "",
     "evalue": "",
     "output_type": "error",
     "traceback": [
      "\u001b[1;31mFailed to start the Kernel. \n",
      "\u001b[1;31mUnable to start Kernel 'env_pencil (Python 3.11.8)' due to a connection timeout. \n",
      "\u001b[1;31mView Jupyter <a href='command:jupyter.viewOutput'>log</a> for further details."
     ]
    }
   ],
   "source": [
    "P_k1_kin = np.exp(logP_kin[:indx_kin,indx_k_1])\n",
    "# P_k1_sat = np.exp(logP_sat[:indx_sat,indx_k_1])"
   ]
  },
  {
   "cell_type": "markdown",
   "metadata": {},
   "source": [
    "### plotting $\\tilde{P}(\\tilde{\\omega},\\tilde{k}_x=2.36)$ as a function of $\\tilde{\\omega}$"
   ]
  },
  {
   "cell_type": "code",
   "execution_count": null,
   "metadata": {},
   "outputs": [
    {
     "ename": "",
     "evalue": "",
     "output_type": "error",
     "traceback": [
      "\u001b[1;31mFailed to start the Kernel. \n",
      "\u001b[1;31mUnable to start Kernel 'env_pencil (Python 3.11.8)' due to a connection timeout. \n",
      "\u001b[1;31mView Jupyter <a href='command:jupyter.viewOutput'>log</a> for further details."
     ]
    }
   ],
   "source": [
    "fig, axs = plt.subplots(2,1, sharex=True, sharey=True, figsize=(16,8))#sharex=True,\n",
    "\n",
    "axs[0].plot(om_tilde_kin[:indx_kin], P_k1_kin[:], label='kinematic')\n",
    "axs[0].grid()\n",
    "# axs[0].set_xlim(0, 6)\n",
    "axs[0].set_ylim(0,)\n",
    "axs[0].legend()\n",
    "\n",
    "# axs[1].plot(om_tilde_sat[:indx_sat], P_k1_sat[:], label='saturated')\n",
    "# axs[1].grid()\n",
    "# axs[1].set_xlim(0, om_tilde_sat[indx_sat-1])\n",
    "# axs[1].set_ylim(0,)\n",
    "# axs[1].legend()\n",
    "\n",
    "# plt.axvline(x=idl_f_kin)\n",
    "# plt.axvline(x=idu_f_kin)\n",
    "plt.xlabel(r\"$\\tilde{\\omega}$\")\n",
    "fig.supylabel(r\"$\\tilde{P}(\\tilde{\\omega})$\")\n",
    "plt.suptitle(fr\"for $\\tilde{{k}}_x={k_1}$\")\n",
    "plt.tight_layout()\n",
    "plt.show()"
   ]
  },
  {
   "cell_type": "markdown",
   "metadata": {},
   "source": [
    "### smoothing data"
   ]
  },
  {
   "cell_type": "code",
   "execution_count": null,
   "metadata": {},
   "outputs": [
    {
     "ename": "",
     "evalue": "",
     "output_type": "error",
     "traceback": [
      "\u001b[1;31mFailed to start the Kernel. \n",
      "\u001b[1;31mUnable to start Kernel 'env_pencil (Python 3.11.8)' due to a connection timeout. \n",
      "\u001b[1;31mView Jupyter <a href='command:jupyter.viewOutput'>log</a> for further details."
     ]
    }
   ],
   "source": [
    "mode.L0"
   ]
  },
  {
   "cell_type": "code",
   "execution_count": null,
   "metadata": {},
   "outputs": [
    {
     "ename": "",
     "evalue": "",
     "output_type": "error",
     "traceback": [
      "\u001b[1;31mFailed to start the Kernel. \n",
      "\u001b[1;31mUnable to start Kernel 'env_pencil (Python 3.11.8)' due to a connection timeout. \n",
      "\u001b[1;31mView Jupyter <a href='command:jupyter.viewOutput'>log</a> for further details."
     ]
    }
   ],
   "source": [
    "P_k1_kin_filt = gaussian_filter(P_k1_kin[:indx_kin],3)\n",
    "# P_k1_sat_filt = gaussian_filter(P_k1_sat[:indx_sat],3)"
   ]
  },
  {
   "cell_type": "code",
   "execution_count": null,
   "metadata": {},
   "outputs": [
    {
     "ename": "",
     "evalue": "",
     "output_type": "error",
     "traceback": [
      "\u001b[1;31mFailed to start the Kernel. \n",
      "\u001b[1;31mUnable to start Kernel 'env_pencil (Python 3.11.8)' due to a connection timeout. \n",
      "\u001b[1;31mView Jupyter <a href='command:jupyter.viewOutput'>log</a> for further details."
     ]
    }
   ],
   "source": [
    "fig, axs = plt.subplots(2,1, sharex=True, sharey=True, figsize=(16,8))#sharex=True,\n",
    "\n",
    "axs[0].plot(om_tilde_kin[:indx_kin], P_k1_kin, alpha=0.6, label='kinematic')\n",
    "axs[0].plot(om_tilde_kin[:indx_kin], P_k1_kin_filt, label='filtered')\n",
    "axs[0].grid()\n",
    "# axs[0].set_xlim(0, 6)\n",
    "axs[0].set_ylim(0,)\n",
    "axs[0].legend()\n",
    "\n",
    "# axs[1].plot(om_tilde_sat[:indx_sat], P_k1_sat, alpha=0.6, label='saturated')\n",
    "# axs[1].plot(om_tilde_sat[:indx_sat], P_k1_sat_filt, label='filtered')\n",
    "# axs[1].grid()\n",
    "# axs[1].set_xlim(0, om_tilde_sat[indx_sat-1])\n",
    "# axs[1].set_ylim(0,)\n",
    "# axs[1].legend()\n",
    "\n",
    "plt.xlabel(r\"$\\tilde{\\omega}$\")\n",
    "fig.supylabel(r\"$\\tilde{P}(\\tilde{\\omega})$\")\n",
    "plt.suptitle(fr\"for $\\tilde{{k}}_x={k_1}$\")\n",
    "plt.tight_layout()\n",
    "plt.show()"
   ]
  },
  {
   "cell_type": "code",
   "execution_count": null,
   "metadata": {},
   "outputs": [
    {
     "ename": "",
     "evalue": "",
     "output_type": "error",
     "traceback": [
      "\u001b[1;31mFailed to start the Kernel. \n",
      "\u001b[1;31mUnable to start Kernel 'env_pencil (Python 3.11.8)' due to a connection timeout. \n",
      "\u001b[1;31mView Jupyter <a href='command:jupyter.viewOutput'>log</a> for further details."
     ]
    }
   ],
   "source": [
    "mode.q"
   ]
  },
  {
   "cell_type": "code",
   "execution_count": null,
   "metadata": {},
   "outputs": [
    {
     "ename": "",
     "evalue": "",
     "output_type": "error",
     "traceback": [
      "\u001b[1;31mFailed to start the Kernel. \n",
      "\u001b[1;31mUnable to start Kernel 'env_pencil (Python 3.11.8)' due to a connection timeout. \n",
      "\u001b[1;31mView Jupyter <a href='command:jupyter.viewOutput'>log</a> for further details."
     ]
    }
   ],
   "source": [
    "f_om = round(mode.fmodes(k_1),3)\n",
    "p_om_0 = round(mode.pmodes_test(k_1,0),3)\n",
    "p_om_1 = round(mode.pmodes(k_1,1),3)\n",
    "p_om_2 = round(mode.pmodes(k_1,2),3)\n",
    "p_om_3 = round(mode.pmodes(k_1,3),3)\n",
    "p_om_4 = round(mode.pmodes(k_1,4),3)\n",
    "p_om = []\n",
    "for i in range(5):\n",
    "    exec(f'p_om.append(p_om_{i})')"
   ]
  },
  {
   "cell_type": "code",
   "execution_count": null,
   "metadata": {},
   "outputs": [
    {
     "ename": "",
     "evalue": "",
     "output_type": "error",
     "traceback": [
      "\u001b[1;31mFailed to start the Kernel. \n",
      "\u001b[1;31mUnable to start Kernel 'env_pencil (Python 3.11.8)' due to a connection timeout. \n",
      "\u001b[1;31mView Jupyter <a href='command:jupyter.viewOutput'>log</a> for further details."
     ]
    }
   ],
   "source": [
    "mode.fmodes(k_1)"
   ]
  },
  {
   "cell_type": "code",
   "execution_count": null,
   "metadata": {},
   "outputs": [
    {
     "ename": "",
     "evalue": "",
     "output_type": "error",
     "traceback": [
      "\u001b[1;31mFailed to start the Kernel. \n",
      "\u001b[1;31mUnable to start Kernel 'env_pencil (Python 3.11.8)' due to a connection timeout. \n",
      "\u001b[1;31mView Jupyter <a href='command:jupyter.viewOutput'>log</a> for further details."
     ]
    }
   ],
   "source": [
    "mode.pmodes(k_1,0)"
   ]
  },
  {
   "cell_type": "code",
   "execution_count": null,
   "metadata": {},
   "outputs": [
    {
     "ename": "",
     "evalue": "",
     "output_type": "error",
     "traceback": [
      "\u001b[1;31mFailed to start the Kernel. \n",
      "\u001b[1;31mUnable to start Kernel 'env_pencil (Python 3.11.8)' due to a connection timeout. \n",
      "\u001b[1;31mView Jupyter <a href='command:jupyter.viewOutput'>log</a> for further details."
     ]
    }
   ],
   "source": [
    "display(Latex(fr'$\\omega_f$ = {f_om}'))\n",
    "display(Latex(fr'$\\omega_{{p0}}$ = {p_om_0}'))\n",
    "display(Latex(fr'$\\omega_{{p1}}$ = {p_om_1}'))\n",
    "display(Latex(fr'$\\omega_{{p2}}$ = {p_om_2}'))\n",
    "display(Latex(fr'$\\omega_{{p3}}$ = {p_om_3}'))\n",
    "display(Latex(fr'$\\omega_{{p4}}$ = {p_om_4}'))"
   ]
  },
  {
   "cell_type": "code",
   "execution_count": null,
   "metadata": {},
   "outputs": [
    {
     "ename": "",
     "evalue": "",
     "output_type": "error",
     "traceback": [
      "\u001b[1;31mFailed to start the Kernel. \n",
      "\u001b[1;31mUnable to start Kernel 'env_pencil (Python 3.11.8)' due to a connection timeout. \n",
      "\u001b[1;31mView Jupyter <a href='command:jupyter.viewOutput'>log</a> for further details."
     ]
    }
   ],
   "source": []
  },
  {
   "cell_type": "code",
   "execution_count": null,
   "metadata": {},
   "outputs": [
    {
     "ename": "",
     "evalue": "",
     "output_type": "error",
     "traceback": [
      "\u001b[1;31mFailed to start the Kernel. \n",
      "\u001b[1;31mUnable to start Kernel 'env_pencil (Python 3.11.8)' due to a connection timeout. \n",
      "\u001b[1;31mView Jupyter <a href='command:jupyter.viewOutput'>log</a> for further details."
     ]
    }
   ],
   "source": [
    "mode.omega0, mode.gz, mode.cs_d"
   ]
  },
  {
   "cell_type": "code",
   "execution_count": null,
   "metadata": {},
   "outputs": [
    {
     "ename": "",
     "evalue": "",
     "output_type": "error",
     "traceback": [
      "\u001b[1;31mFailed to start the Kernel. \n",
      "\u001b[1;31mUnable to start Kernel 'env_pencil (Python 3.11.8)' due to a connection timeout. \n",
      "\u001b[1;31mView Jupyter <a href='command:jupyter.viewOutput'>log</a> for further details."
     ]
    }
   ],
   "source": [
    "mode.cs_d, mode.gz"
   ]
  },
  {
   "cell_type": "code",
   "execution_count": null,
   "metadata": {},
   "outputs": [
    {
     "ename": "",
     "evalue": "",
     "output_type": "error",
     "traceback": [
      "\u001b[1;31mFailed to start the Kernel. \n",
      "\u001b[1;31mUnable to start Kernel 'env_pencil (Python 3.11.8)' due to a connection timeout. \n",
      "\u001b[1;31mView Jupyter <a href='command:jupyter.viewOutput'>log</a> for further details."
     ]
    }
   ],
   "source": [
    "mode.lz"
   ]
  },
  {
   "cell_type": "code",
   "execution_count": null,
   "metadata": {},
   "outputs": [
    {
     "ename": "",
     "evalue": "",
     "output_type": "error",
     "traceback": [
      "\u001b[1;31mFailed to start the Kernel. \n",
      "\u001b[1;31mUnable to start Kernel 'env_pencil (Python 3.11.8)' due to a connection timeout. \n",
      "\u001b[1;31mView Jupyter <a href='command:jupyter.viewOutput'>log</a> for further details."
     ]
    }
   ],
   "source": [
    "fig, axs = plt.subplots(2,1, sharex=True, sharey=True, figsize=(16,8))#sharex=True,\n",
    "\n",
    "# axs[0].plot(om_tilde_kin[:indx_kin], P_k1_kin, c='k', alpha=0.4, label='kinematic')\n",
    "axs[0].plot(om_tilde_kin[:indx_kin], P_k1_kin_filt, c='C1', label='filtered')\n",
    "axs[0].axvline(x=f_om, ls=':', c='b')\n",
    "for i in range(5):\n",
    "    axs[0].axvline(x=p_om[i], ls=':', c='r')\n",
    "axs[0].axvline(x=mode.cs_u*k_1/(mode.L0*mode.omega0), ls='--', c='g')\n",
    "# axs[0].grid()\n",
    "# axs[0].set_xlim(0, 6)\n",
    "axs[0].set_ylim(0,)\n",
    "axs[0].legend()\n",
    "\n",
    "# # axs[1].plot(om_tilde_sat[:indx_sat], P_k1_sat, c='k', alpha=0.4, label='saturated')\n",
    "# axs[1].plot(om_tilde_sat[:indx_sat], P_k1_sat_filt, c='C1', label='filtered')\n",
    "# axs[1].axvline(x=f_om, ls=':', c='b')\n",
    "# for i in range(5):\n",
    "#     axs[1].axvline(x=p_om[i], ls=':', c='r')\n",
    "# axs[1].axvline(x=mode.cs_u*k_1/(mode.L0*mode.omega0), ls='--', c='g')\n",
    "# # axs[1].grid()\n",
    "# axs[1].set_xlim(0, om_tilde_sat[indx_sat-1])\n",
    "# axs[1].set_ylim(0,)\n",
    "# axs[1].legend()\n",
    "\n",
    "plt.xlabel(r\"$\\tilde{\\omega}$\")\n",
    "fig.supylabel(r\"$\\tilde{P}(\\tilde{\\omega})$\")\n",
    "plt.suptitle(fr\"for $\\tilde{{k}}_x={k_1}$\")\n",
    "#plt.yscale('log')\n",
    "plt.tight_layout()\n",
    "plt.show()"
   ]
  },
  {
   "cell_type": "markdown",
   "metadata": {},
   "source": [
    "## P-modes"
   ]
  },
  {
   "cell_type": "markdown",
   "metadata": {},
   "source": [
    "### for kinematic phase"
   ]
  },
  {
   "cell_type": "markdown",
   "metadata": {},
   "source": [
    "index of p-modes"
   ]
  },
  {
   "cell_type": "code",
   "execution_count": null,
   "metadata": {},
   "outputs": [
    {
     "ename": "",
     "evalue": "",
     "output_type": "error",
     "traceback": [
      "\u001b[1;31mFailed to start the Kernel. \n",
      "\u001b[1;31mUnable to start Kernel 'env_pencil (Python 3.11.8)' due to a connection timeout. \n",
      "\u001b[1;31mView Jupyter <a href='command:jupyter.viewOutput'>log</a> for further details."
     ]
    }
   ],
   "source": [
    "index_kin = mode.mode_finder(om_tilde_kin[:indx_kin], P_k1_kin, False, thres=0.2, min_dist=200)\n",
    "mode_index_kin = np.array([])\n",
    "# for i in range(len(index_kin)):\n",
    "i = 0\n",
    "while index_kin[i]<300:\n",
    "        index_kin = np.delete(index_kin, i)\n",
    "        # i += i+1\n",
    "mode_index_kin = index_kin\n",
    "        \n",
    "lb_kin = [130, 130, 130, 130, 120]\n",
    "ub_kin = [130, 130, 130, 130, 120]\n",
    "\n",
    "indx_list_kin = []\n",
    "om_mode_kin = []\n",
    "for i in range(0,len(mode_index_kin)-2):\n",
    "    indx_list_kin.append(mode.mode_indx(mode_index_kin[i], lb_kin[i], ub_kin[i]))\n",
    "    om_mode_kin.append(om_tilde_kin[indx_list_kin[i]['lb']:indx_list_kin[i]['ub']])\n",
    "# lb[0], lb[-1], mode_index"
   ]
  },
  {
   "cell_type": "code",
   "execution_count": null,
   "metadata": {},
   "outputs": [
    {
     "ename": "",
     "evalue": "",
     "output_type": "error",
     "traceback": [
      "\u001b[1;31mFailed to start the Kernel. \n",
      "\u001b[1;31mUnable to start Kernel 'env_pencil (Python 3.11.8)' due to a connection timeout. \n",
      "\u001b[1;31mView Jupyter <a href='command:jupyter.viewOutput'>log</a> for further details."
     ]
    }
   ],
   "source": [
    "# p_mode = []\n",
    "# for i in range(5):\n",
    "#     p_mode.append(mode.mode_data1(P_k1_kin, om_tilde_kin[:indx_kin], mode_index[i],130,130))"
   ]
  },
  {
   "cell_type": "code",
   "execution_count": null,
   "metadata": {},
   "outputs": [
    {
     "ename": "",
     "evalue": "",
     "output_type": "error",
     "traceback": [
      "\u001b[1;31mFailed to start the Kernel. \n",
      "\u001b[1;31mUnable to start Kernel 'env_pencil (Python 3.11.8)' due to a connection timeout. \n",
      "\u001b[1;31mView Jupyter <a href='command:jupyter.viewOutput'>log</a> for further details."
     ]
    }
   ],
   "source": [
    "p_mode_kin = []\n",
    "for i in range(len(mode_index_kin)-2):\n",
    "    p_mode_kin.append(mode.mode_data(P_k1_kin, om_tilde_kin[:indx_kin], indx_list_kin[i]))"
   ]
  },
  {
   "cell_type": "code",
   "execution_count": null,
   "metadata": {},
   "outputs": [
    {
     "ename": "",
     "evalue": "",
     "output_type": "error",
     "traceback": [
      "\u001b[1;31mFailed to start the Kernel. \n",
      "\u001b[1;31mUnable to start Kernel 'env_pencil (Python 3.11.8)' due to a connection timeout. \n",
      "\u001b[1;31mView Jupyter <a href='command:jupyter.viewOutput'>log</a> for further details."
     ]
    }
   ],
   "source": [
    "i = 0\n",
    "fig, axs = plt.subplots(2,2, sharey=True, figsize=(16,8))\n",
    "\n",
    "axs[0,0].plot(p_mode_kin[i]['x'], p_mode_kin[i]['y'], alpha=0.6, label=fr\"$\\tilde{{\\omega}}={p_om[i]}$\")\n",
    "axs[0,0].plot(om_mode_kin[i], P_k1_kin_filt[indx_list_kin[i]['lb']:indx_list_kin[i]['ub']], label='filttered')\n",
    "# axs[0,0].axvline(x = om_tilde_kin[mode_index_kin[1]])\n",
    "axs[0,0].legend()\n",
    "axs[0,1].plot(p_mode_kin[i+1]['x'], p_mode_kin[i+1]['y'], alpha=0.6, label=fr\"$\\tilde{{\\omega}}={p_om[i+1]}$\")\n",
    "axs[0,1].plot(om_mode_kin[i+1], P_k1_kin_filt[indx_list_kin[i+1]['lb']:indx_list_kin[i+1]['ub']], label='filttered')\n",
    "axs[0,1].legend()\n",
    "axs[1,0].plot(p_mode_kin[i+2]['x'], p_mode_kin[i+2]['y'], alpha=0.6, label=fr\"$\\tilde{{\\omega}}={p_om[i+2]}$\")\n",
    "axs[1,0].plot(om_mode_kin[i+2], P_k1_kin_filt[indx_list_kin[i+2]['lb']:indx_list_kin[i+2]['ub']], label='filttered')\n",
    "axs[1,0].legend()\n",
    "axs[1,1].plot(p_mode_kin[i+3]['x'], p_mode_kin[i+3]['y'], alpha=0.6, label=fr\"$\\tilde{{\\omega}}={p_om[i+3]}$\")\n",
    "axs[1,1].plot(om_mode_kin[i+3], P_k1_kin_filt[indx_list_kin[i+3]['lb']:indx_list_kin[i+3]['ub']], label='filttered')\n",
    "axs[1,1].legend()\n",
    "\n",
    "plt.suptitle('p-modes for kinetic phase')\n",
    "fig.supxlabel(r\"$\\tilde{\\omega}$\")\n",
    "fig.supylabel(r\"$\\tilde{P}(\\tilde{\\omega})$\")\n",
    "plt.tight_layout()\n",
    "plt.show()"
   ]
  },
  {
   "cell_type": "markdown",
   "metadata": {},
   "source": [
    "### fitting"
   ]
  },
  {
   "cell_type": "code",
   "execution_count": null,
   "metadata": {},
   "outputs": [
    {
     "ename": "",
     "evalue": "",
     "output_type": "error",
     "traceback": [
      "\u001b[1;31mFailed to start the Kernel. \n",
      "\u001b[1;31mUnable to start Kernel 'env_pencil (Python 3.11.8)' due to a connection timeout. \n",
      "\u001b[1;31mView Jupyter <a href='command:jupyter.viewOutput'>log</a> for further details."
     ]
    }
   ],
   "source": [
    "def lorentzian(x, a, b, c, d, e):\n",
    "    y = a/((x-b)**2+np.exp(c))+d+e*x\n",
    "    return y"
   ]
  },
  {
   "cell_type": "code",
   "execution_count": null,
   "metadata": {},
   "outputs": [
    {
     "ename": "",
     "evalue": "",
     "output_type": "error",
     "traceback": [
      "\u001b[1;31mFailed to start the Kernel. \n",
      "\u001b[1;31mUnable to start Kernel 'env_pencil (Python 3.11.8)' due to a connection timeout. \n",
      "\u001b[1;31mView Jupyter <a href='command:jupyter.viewOutput'>log</a> for further details."
     ]
    }
   ],
   "source": [
    "sig_kin = []\n",
    "sig_kin_p = []\n",
    "for i in range(0,len(mode_index_kin)-2):\n",
    "    sig_kin.append(mode.sigma(p_mode_kin[i]['y'], P_k1_kin_filt[indx_list_kin[i]['lb']:indx_list_kin[i]['ub']]))\n",
    "    sig_kin_p.append(sig_kin[i]*np.ones(len(p_mode_kin[i]['y'])))"
   ]
  },
  {
   "cell_type": "code",
   "execution_count": null,
   "metadata": {},
   "outputs": [
    {
     "ename": "",
     "evalue": "",
     "output_type": "error",
     "traceback": [
      "\u001b[1;31mFailed to start the Kernel. \n",
      "\u001b[1;31mUnable to start Kernel 'env_pencil (Python 3.11.8)' due to a connection timeout. \n",
      "\u001b[1;31mView Jupyter <a href='command:jupyter.viewOutput'>log</a> for further details."
     ]
    }
   ],
   "source": [
    "p0_kin = []\n",
    "fitted_kin_p = []\n",
    "for i in range(0,len(mode_index_kin)-2):\n",
    "    p0_kin.append(np.array([2,om_tilde_kin[mode_index_kin[i]],-2,100,0.1]))\n",
    "    fitted_kin_p.append(mode.mode_fit(lorentzian,om_tilde_kin[indx_list_kin[i]['lb']:indx_list_kin[i]['ub']],p_mode_kin[i]['y'], base=True, p0=p0_kin[i]))"
   ]
  },
  {
   "cell_type": "code",
   "execution_count": null,
   "metadata": {},
   "outputs": [
    {
     "ename": "",
     "evalue": "",
     "output_type": "error",
     "traceback": [
      "\u001b[1;31mFailed to start the Kernel. \n",
      "\u001b[1;31mUnable to start Kernel 'env_pencil (Python 3.11.8)' due to a connection timeout. \n",
      "\u001b[1;31mView Jupyter <a href='command:jupyter.viewOutput'>log</a> for further details."
     ]
    }
   ],
   "source": [
    "p_mode_om_kin = []\n",
    "for i in range(0,len(mode_index_kin)-1):\n",
    "    p_mode_om_kin.append(round(om_tilde_kin[mode_index_kin[i]],3))"
   ]
  },
  {
   "cell_type": "code",
   "execution_count": null,
   "metadata": {},
   "outputs": [
    {
     "ename": "",
     "evalue": "",
     "output_type": "error",
     "traceback": [
      "\u001b[1;31mFailed to start the Kernel. \n",
      "\u001b[1;31mUnable to start Kernel 'env_pencil (Python 3.11.8)' due to a connection timeout. \n",
      "\u001b[1;31mView Jupyter <a href='command:jupyter.viewOutput'>log</a> for further details."
     ]
    }
   ],
   "source": [
    "i = 0\n",
    "fig, axs = plt.subplots(2,2, sharey=True, figsize=(14,10))\n",
    "\n",
    "axs[0,0].plot(p_mode_kin[i]['x'], p_mode_kin[i]['y'], ls=\":\", alpha=0.6, label=fr\"$\\tilde{{\\omega}}={p_mode_om_kin[i]}$\")\n",
    "axs[0,0].plot(om_mode_kin[i], P_k1_kin_filt[indx_list_kin[i]['lb']:indx_list_kin[i]['ub']], label='filttered')\n",
    "axs[0,0].plot(om_mode_kin[i], fitted_kin_p[i], color='k')\n",
    "# axes[0].plot(om_tilde_kin[idl_f_kin:idu_f_kin], fitted_f_kin_lor, color='k')\n",
    "axs[0,0].legend()\n",
    "\n",
    "axs[0,1].plot(p_mode_kin[i+1]['x'], p_mode_kin[i+1]['y'], ls=\":\", alpha=0.6, label=fr\"$\\tilde{{\\omega}}={p_mode_om_kin[i+1]}$\")\n",
    "axs[0,1].plot(om_mode_kin[i+1], P_k1_kin_filt[indx_list_kin[i+1]['lb']:indx_list_kin[i+1]['ub']], label='filttered')\n",
    "axs[0,1].plot(om_mode_kin[i+1], fitted_kin_p[i+1], color='k')\n",
    "# axes[0].plot(om_tilde_kin[idl_f_kin:idu_f_kin], fitted_f_kin_lor, color='k')\n",
    "axs[0,1].legend()\n",
    "\n",
    "axs[1,0].plot(p_mode_kin[i+2]['x'], p_mode_kin[i+2]['y'], ls=\":\", alpha=0.6, label=fr\"$\\tilde{{\\omega}}={p_mode_om_kin[i+2]}$\")\n",
    "axs[1,0].plot(om_mode_kin[i+2], P_k1_kin_filt[indx_list_kin[i+2]['lb']:indx_list_kin[i+2]['ub']], label='filttered')\n",
    "axs[1,0].plot(om_mode_kin[i+2], fitted_kin_p[i+2], color='k')\n",
    "# axes[0].plot(om_tilde_kin[idl_f_kin:idu_f_kin], fitted_f_kin_lor, color='k')\n",
    "axs[1,0].legend()\n",
    "\n",
    "axs[1,1].plot(p_mode_kin[i+3]['x'], p_mode_kin[i+3]['y'], ls=\":\", alpha=0.6, label=fr\"$\\tilde{{\\omega}}={p_mode_om_kin[i+3]}$\")\n",
    "axs[1,1].plot(om_mode_kin[i+3], P_k1_kin_filt[indx_list_kin[i+3]['lb']:indx_list_kin[i+3]['ub']], label='filttered')\n",
    "axs[1,1].plot(om_mode_kin[i+3], fitted_kin_p[i+3], color='k')\n",
    "# axes[0].plot(om_tilde_kin[idl_f_kin:idu_f_kin], fitted_f_kin_lor, color='k')\n",
    "axs[1,1].legend()\n",
    "\n",
    "plt.suptitle('p-modes for kinematic phase')\n",
    "fig.supxlabel(r\"$\\tilde{\\omega}$\")\n",
    "fig.supylabel(r\"$\\tilde{P}(\\tilde{\\omega})$\")\n",
    "plt.tight_layout()\n",
    "plt.show()"
   ]
  },
  {
   "cell_type": "markdown",
   "metadata": {},
   "source": [
    "### for saturated phase"
   ]
  },
  {
   "cell_type": "markdown",
   "metadata": {},
   "source": [
    "index of p-modes"
   ]
  },
  {
   "cell_type": "code",
   "execution_count": null,
   "metadata": {},
   "outputs": [
    {
     "ename": "",
     "evalue": "",
     "output_type": "error",
     "traceback": [
      "\u001b[1;31mFailed to start the Kernel. \n",
      "\u001b[1;31mUnable to start Kernel 'env_pencil (Python 3.11.8)' due to a connection timeout. \n",
      "\u001b[1;31mView Jupyter <a href='command:jupyter.viewOutput'>log</a> for further details."
     ]
    }
   ],
   "source": [
    "index_sat = mode.mode_finder(om_tilde_sat[:indx_sat], P_k1_sat, False, thres=0.2, min_dist=200)\n",
    "mode_index_sat = np.array([])\n",
    "for i in range(len(index_sat)):\n",
    "    if index_sat[i]<80:\n",
    "        mode_index_sat = np.delete(index_sat, i)\n",
    "\n",
    "lb_sat = [130, 130, 130, 130, 120]\n",
    "ub_sat = [130, 130, 130, 130, 120]\n",
    "\n",
    "indx_list_sat = []\n",
    "om_mode_sat = []\n",
    "for i in range(0,len(mode_index_sat)-2):\n",
    "    indx_list_sat.append(mode.mode_indx(mode_index_sat[i], lb_sat[i], ub_sat[i]))\n",
    "    om_mode_sat.append(om_tilde_sat[indx_list_sat[i]['lb']:indx_list_sat[i]['ub']])\n",
    "# lb[0], lb[-1], mode_index"
   ]
  },
  {
   "cell_type": "code",
   "execution_count": null,
   "metadata": {},
   "outputs": [
    {
     "ename": "",
     "evalue": "",
     "output_type": "error",
     "traceback": [
      "\u001b[1;31mFailed to start the Kernel. \n",
      "\u001b[1;31mUnable to start Kernel 'env_pencil (Python 3.11.8)' due to a connection timeout. \n",
      "\u001b[1;31mView Jupyter <a href='command:jupyter.viewOutput'>log</a> for further details."
     ]
    }
   ],
   "source": [
    "mode_index_sat"
   ]
  },
  {
   "cell_type": "code",
   "execution_count": null,
   "metadata": {},
   "outputs": [
    {
     "ename": "",
     "evalue": "",
     "output_type": "error",
     "traceback": [
      "\u001b[1;31mFailed to start the Kernel. \n",
      "\u001b[1;31mUnable to start Kernel 'env_pencil (Python 3.11.8)' due to a connection timeout. \n",
      "\u001b[1;31mView Jupyter <a href='command:jupyter.viewOutput'>log</a> for further details."
     ]
    }
   ],
   "source": [
    "mode_index_kin"
   ]
  },
  {
   "cell_type": "code",
   "execution_count": null,
   "metadata": {},
   "outputs": [
    {
     "ename": "",
     "evalue": "",
     "output_type": "error",
     "traceback": [
      "\u001b[1;31mFailed to start the Kernel. \n",
      "\u001b[1;31mUnable to start Kernel 'env_pencil (Python 3.11.8)' due to a connection timeout. \n",
      "\u001b[1;31mView Jupyter <a href='command:jupyter.viewOutput'>log</a> for further details."
     ]
    }
   ],
   "source": [
    "p_mode_sat = []\n",
    "for i in range(len(mode_index_sat)-2):\n",
    "    p_mode_sat.append(mode.mode_data(P_k1_sat, om_tilde_sat[:indx_sat], indx_list_sat[i]))"
   ]
  },
  {
   "cell_type": "code",
   "execution_count": null,
   "metadata": {},
   "outputs": [
    {
     "ename": "",
     "evalue": "",
     "output_type": "error",
     "traceback": [
      "\u001b[1;31mFailed to start the Kernel. \n",
      "\u001b[1;31mUnable to start Kernel 'env_pencil (Python 3.11.8)' due to a connection timeout. \n",
      "\u001b[1;31mView Jupyter <a href='command:jupyter.viewOutput'>log</a> for further details."
     ]
    }
   ],
   "source": [
    "i = 0\n",
    "fig, axs = plt.subplots(2,2, sharey=True, figsize=(16,8))\n",
    "\n",
    "axs[0,0].plot(p_mode_sat[i]['x'], p_mode_sat[i]['y'], alpha=0.6, label=fr\"$\\tilde{{\\omega}}={p_om[i]}$\")\n",
    "axs[0,0].plot(om_mode_sat[i], P_k1_sat_filt[indx_list_sat[i]['lb']:indx_list_sat[i]['ub']], label='filttered')\n",
    "# axs[0,0].axvline(x = om_tilde_sat[mode_index_sat[1]])\n",
    "axs[0,0].legend()\n",
    "axs[0,1].plot(p_mode_sat[i+1]['x'], p_mode_sat[i+1]['y'], alpha=0.6, label=fr\"$\\tilde{{\\omega}}={p_om[i+1]}$\")\n",
    "axs[0,1].plot(om_mode_sat[i+1], P_k1_sat_filt[indx_list_sat[i+1]['lb']:indx_list_sat[i+1]['ub']], label='filttered')\n",
    "axs[0,1].legend()\n",
    "axs[1,0].plot(p_mode_sat[i+2]['x'], p_mode_sat[i+2]['y'], alpha=0.6, label=fr\"$\\tilde{{\\omega}}={p_om[i+2]}$\")\n",
    "axs[1,0].plot(om_mode_sat[i+2], P_k1_sat_filt[indx_list_sat[i+2]['lb']:indx_list_sat[i+2]['ub']], label='filttered')\n",
    "axs[1,0].legend()\n",
    "axs[1,1].plot(p_mode_sat[i+3]['x'], p_mode_sat[i+3]['y'], alpha=0.6, label=fr\"$\\tilde{{\\omega}}={p_om[i+3]}$\")\n",
    "axs[1,1].plot(om_mode_sat[i+3], P_k1_sat_filt[indx_list_sat[i+3]['lb']:indx_list_sat[i+3]['ub']], label='filttered')\n",
    "axs[1,1].legend()\n",
    "\n",
    "plt.suptitle('p-modes for satetic phase')\n",
    "fig.supxlabel(r\"$\\tilde{\\omega}$\")\n",
    "fig.supylabel(r\"$\\tilde{P}(\\tilde{\\omega})$\")\n",
    "plt.tight_layout()\n",
    "plt.show()"
   ]
  },
  {
   "cell_type": "code",
   "execution_count": null,
   "metadata": {},
   "outputs": [
    {
     "ename": "",
     "evalue": "",
     "output_type": "error",
     "traceback": [
      "\u001b[1;31mFailed to start the Kernel. \n",
      "\u001b[1;31mUnable to start Kernel 'env_pencil (Python 3.11.8)' due to a connection timeout. \n",
      "\u001b[1;31mView Jupyter <a href='command:jupyter.viewOutput'>log</a> for further details."
     ]
    }
   ],
   "source": [
    "sig_sat = []\n",
    "sig_sat_p = []\n",
    "for i in range(0,len(mode_index_sat)-2):\n",
    "    sig_sat.append(mode.sigma(p_mode_sat[i]['y'], P_k1_sat_filt[indx_list_sat[i]['lb']:indx_list_sat[i]['ub']]))\n",
    "    sig_sat_p.append(sig_sat[i]*np.ones(len(p_mode_sat[i]['y'])))"
   ]
  },
  {
   "cell_type": "code",
   "execution_count": null,
   "metadata": {},
   "outputs": [
    {
     "ename": "",
     "evalue": "",
     "output_type": "error",
     "traceback": [
      "\u001b[1;31mFailed to start the Kernel. \n",
      "\u001b[1;31mUnable to start Kernel 'env_pencil (Python 3.11.8)' due to a connection timeout. \n",
      "\u001b[1;31mView Jupyter <a href='command:jupyter.viewOutput'>log</a> for further details."
     ]
    }
   ],
   "source": [
    "p0_sat = []\n",
    "fitted_sat_p = []\n",
    "for i in range(0,len(mode_index_sat)-2):\n",
    "    p0_sat.append(np.array([2,om_tilde_sat[mode_index_sat[i]],-2,100,0.1]))\n",
    "    fitted_sat_p.append(mode.mode_fit(lorentzian,om_tilde_sat[indx_list_sat[i]['lb']:indx_list_sat[i]['ub']],p_mode_sat[i]['y'],True, p0=p0_sat[i]))"
   ]
  },
  {
   "cell_type": "code",
   "execution_count": null,
   "metadata": {},
   "outputs": [
    {
     "ename": "",
     "evalue": "",
     "output_type": "error",
     "traceback": [
      "\u001b[1;31mFailed to start the Kernel. \n",
      "\u001b[1;31mUnable to start Kernel 'env_pencil (Python 3.11.8)' due to a connection timeout. \n",
      "\u001b[1;31mView Jupyter <a href='command:jupyter.viewOutput'>log</a> for further details."
     ]
    }
   ],
   "source": [
    "p_mode_om_sat = []\n",
    "for i in range(0,len(mode_index_sat)-1):\n",
    "    p_mode_om_sat.append(round(om_tilde_sat[mode_index_sat[i]],3))"
   ]
  },
  {
   "cell_type": "code",
   "execution_count": null,
   "metadata": {},
   "outputs": [
    {
     "ename": "",
     "evalue": "",
     "output_type": "error",
     "traceback": [
      "\u001b[1;31mFailed to start the Kernel. \n",
      "\u001b[1;31mUnable to start Kernel 'env_pencil (Python 3.11.8)' due to a connection timeout. \n",
      "\u001b[1;31mView Jupyter <a href='command:jupyter.viewOutput'>log</a> for further details."
     ]
    }
   ],
   "source": [
    "i = 0\n",
    "fig, axs = plt.subplots(2,2, sharey=True, figsize=(14,10))\n",
    "\n",
    "axs[0,0].plot(p_mode_sat[i]['x'], p_mode_sat[i]['y'], ls=\":\", alpha=0.6, label=fr\"$\\tilde{{\\omega}}={p_mode_om_sat[i]}$\")\n",
    "axs[0,0].plot(om_mode_sat[i], P_k1_sat_filt[indx_list_sat[i]['lb']:indx_list_sat[i]['ub']], label='filttered')\n",
    "axs[0,0].plot(om_mode_sat[i], fitted_sat_p[i], color='k')\n",
    "# axes[0].plot(om_tilde_sat[idl_f_sat:idu_f_sat], fitted_f_sat_lor, color='k')\n",
    "axs[0,0].legend()\n",
    "\n",
    "axs[0,1].plot(p_mode_sat[i+1]['x'], p_mode_sat[i+1]['y'], ls=\":\", alpha=0.6, label=fr\"$\\tilde{{\\omega}}={p_mode_om_sat[i+1]}$\")\n",
    "axs[0,1].plot(om_mode_sat[i+1], P_k1_sat_filt[indx_list_sat[i+1]['lb']:indx_list_sat[i+1]['ub']], label='filttered')\n",
    "axs[0,1].plot(om_mode_sat[i+1], fitted_sat_p[i+1], color='k')\n",
    "# axes[0].plot(om_tilde_sat[idl_f_sat:idu_f_sat], fitted_f_sat_lor, color='k')\n",
    "axs[0,1].legend()\n",
    "\n",
    "axs[1,0].plot(p_mode_sat[i+2]['x'], p_mode_sat[i+2]['y'], ls=\":\", alpha=0.6, label=fr\"$\\tilde{{\\omega}}={p_mode_om_sat[i+2]}$\")\n",
    "axs[1,0].plot(om_mode_sat[i+2], P_k1_sat_filt[indx_list_sat[i+2]['lb']:indx_list_sat[i+2]['ub']], label='filttered')\n",
    "axs[1,0].plot(om_mode_sat[i+2], fitted_sat_p[i+2], color='k')\n",
    "# axes[0].plot(om_tilde_sat[idl_f_sat:idu_f_sat], fitted_f_sat_lor, color='k')\n",
    "axs[1,0].legend()\n",
    "\n",
    "axs[1,1].plot(p_mode_sat[i+3]['x'], p_mode_sat[i+3]['y'], ls=\":\", alpha=0.6, label=fr\"$\\tilde{{\\omega}}={p_mode_om_sat[i+3]}$\")\n",
    "axs[1,1].plot(om_mode_sat[i+3], P_k1_sat_filt[indx_list_sat[i+3]['lb']:indx_list_sat[i+3]['ub']], label='filttered')\n",
    "axs[1,1].plot(om_mode_sat[i+3], fitted_sat_p[i+3], color='k')\n",
    "# axes[0].plot(om_tilde_sat[idl_f_sat:idu_f_sat], fitted_f_sat_lor, color='k')\n",
    "axs[1,1].legend()\n",
    "\n",
    "plt.suptitle('p-modes for saturated phase')\n",
    "fig.supxlabel(r\"$\\tilde{\\omega}$\")\n",
    "fig.supylabel(r\"$\\tilde{P}(\\tilde{\\omega})$\")\n",
    "plt.tight_layout()\n",
    "plt.show()"
   ]
  },
  {
   "cell_type": "markdown",
   "metadata": {},
   "source": [
    "## $k_x$ vs. mode parameters"
   ]
  },
  {
   "cell_type": "code",
   "execution_count": null,
   "metadata": {},
   "outputs": [
    {
     "ename": "",
     "evalue": "",
     "output_type": "error",
     "traceback": [
      "\u001b[1;31mFailed to start the Kernel. \n",
      "\u001b[1;31mUnable to start Kernel 'env_pencil (Python 3.11.8)' due to a connection timeout. \n",
      "\u001b[1;31mView Jupyter <a href='command:jupyter.viewOutput'>log</a> for further details."
     ]
    }
   ],
   "source": [
    "indx_k = [1,2,3,4,5]"
   ]
  },
  {
   "cell_type": "markdown",
   "metadata": {},
   "source": [
    "### frequencies of f-modes for different $k_x$"
   ]
  },
  {
   "cell_type": "code",
   "execution_count": null,
   "metadata": {},
   "outputs": [
    {
     "ename": "",
     "evalue": "",
     "output_type": "error",
     "traceback": [
      "\u001b[1;31mFailed to start the Kernel. \n",
      "\u001b[1;31mUnable to start Kernel 'env_pencil (Python 3.11.8)' due to a connection timeout. \n",
      "\u001b[1;31mView Jupyter <a href='command:jupyter.viewOutput'>log</a> for further details."
     ]
    }
   ],
   "source": [
    "f_mode_om = []\n",
    "for i in range(len(indx_k)):\n",
    "    f_mode_om.append(round(mode.fmodes(round(k_tilde[indx_k[i]],3)),3))"
   ]
  },
  {
   "cell_type": "markdown",
   "metadata": {},
   "source": [
    "### frequencies of p-modes for different $k_x$"
   ]
  },
  {
   "cell_type": "code",
   "execution_count": null,
   "metadata": {},
   "outputs": [
    {
     "ename": "",
     "evalue": "",
     "output_type": "error",
     "traceback": [
      "\u001b[1;31mFailed to start the Kernel. \n",
      "\u001b[1;31mUnable to start Kernel 'env_pencil (Python 3.11.8)' due to a connection timeout. \n",
      "\u001b[1;31mView Jupyter <a href='command:jupyter.viewOutput'>log</a> for further details."
     ]
    }
   ],
   "source": [
    "p_mode_om = np.empty([len(indx_k),3])\n",
    "\n",
    "for i in range(len(indx_k)):\n",
    "    for j in range(3):\n",
    "        p_mode_om[i,j] = round(mode.pmodes(k_tilde[indx_k[i]],j),3)"
   ]
  },
  {
   "cell_type": "code",
   "execution_count": null,
   "metadata": {},
   "outputs": [
    {
     "ename": "",
     "evalue": "",
     "output_type": "error",
     "traceback": [
      "\u001b[1;31mFailed to start the Kernel. \n",
      "\u001b[1;31mUnable to start Kernel 'env_pencil (Python 3.11.8)' due to a connection timeout. \n",
      "\u001b[1;31mView Jupyter <a href='command:jupyter.viewOutput'>log</a> for further details."
     ]
    }
   ],
   "source": [
    "p_mode_om.shape"
   ]
  },
  {
   "cell_type": "code",
   "execution_count": null,
   "metadata": {},
   "outputs": [
    {
     "ename": "",
     "evalue": "",
     "output_type": "error",
     "traceback": [
      "\u001b[1;31mFailed to start the Kernel. \n",
      "\u001b[1;31mUnable to start Kernel 'env_pencil (Python 3.11.8)' due to a connection timeout. \n",
      "\u001b[1;31mView Jupyter <a href='command:jupyter.viewOutput'>log</a> for further details."
     ]
    }
   ],
   "source": [
    "P_k_kin = []\n",
    "P_k_sat = []\n",
    "\n",
    "P_k_kin_filt = []\n",
    "P_k_sat_filt = []\n",
    "\n",
    "for i in range(len(indx_k)):\n",
    "    P_k_kin.append(np.exp(logP_kin[:indx_kin,indx_k[i]]))\n",
    "    P_k_sat.append(np.exp(logP_sat[:indx_sat,indx_k[i]]))\n",
    "    P_k_kin_filt.append(gaussian_filter(P_k_kin[i],3))\n",
    "    P_k_sat_filt.append(gaussian_filter(P_k_sat[i],3))"
   ]
  },
  {
   "cell_type": "code",
   "execution_count": null,
   "metadata": {},
   "outputs": [
    {
     "ename": "",
     "evalue": "",
     "output_type": "error",
     "traceback": [
      "\u001b[1;31mFailed to start the Kernel. \n",
      "\u001b[1;31mUnable to start Kernel 'env_pencil (Python 3.11.8)' due to a connection timeout. \n",
      "\u001b[1;31mView Jupyter <a href='command:jupyter.viewOutput'>log</a> for further details."
     ]
    }
   ],
   "source": [
    "fig, axs = plt.subplots(4,1, figsize=(16,12))#sharex=True,\n",
    "\n",
    "axs[0].plot(om_tilde_kin[:indx_kin], P_k_kin[0], c='k', ls=':', alpha=0.4, label=fr'$k_x={round(k_tilde[1],3)}$')\n",
    "axs[0].plot(om_tilde_kin[:indx_kin], P_k_kin_filt[0], c='C2', label=r'$filttered$')\n",
    "# axs[0].plot((om_tilde_kin[idl_p2_kin_1:idu_p2_kin_1]), fitted_p2_kin_lor_1, color='k', label=r'$fitted$')\n",
    "axs[0].axvline(x=f_mode_om[0], ls=':')\n",
    "for i in range(3):\n",
    "    axs[0].axvline(x=p_mode_om[0,i], c='r', ls=':')\n",
    "# axs[0].grid()\n",
    "axs[0].set_xlim(0, 6)\n",
    "axs[0].set_ylim(0,)\n",
    "axs[0].legend()\n",
    "\n",
    "axs[1].plot(om_tilde_kin[:indx_kin], P_k_kin[1], c='k', ls=':', alpha=0.4, label=fr'$k_x={round(k_tilde[2],3)}$')\n",
    "axs[1].plot(om_tilde_kin[:indx_kin], P_k_kin_filt[1], c='C2', label=r'$filttered$')\n",
    "# axs[1].plot((om_tilde_kin[idl_p2_kin_2:idu_p2_kin_2]), fitted_p2_kin_lor_2, color='k', label=r'$fitted$')\n",
    "axs[1].axvline(x=f_mode_om[1], ls=':')\n",
    "for i in range(3):\n",
    "    axs[1].axvline(x=p_mode_om[1,i], c='r', ls=':')\n",
    "# axs[1].grid()\n",
    "axs[1].set_xlim(0, 6)\n",
    "axs[1].set_ylim(0,)\n",
    "axs[1].legend()\n",
    "\n",
    "axs[2].plot(om_tilde_kin[:indx_kin], P_k_kin[2], c='k', ls=':', alpha=0.4, label=fr'$k_x={round(k_tilde[3],3)}$')\n",
    "axs[2].plot(om_tilde_kin[:indx_kin], P_k_kin_filt[2], c='C2', label=r'$filttered$')\n",
    "# axs[2].plot((om_tilde_kin[idl_p2_kin_3:idu_p2_kin_3]), fitted_p2_kin_lor_3, color='k', label=r'$fitted$')\n",
    "axs[2].axvline(x=f_mode_om[2], ls=':')\n",
    "for i in range(3):\n",
    "    axs[2].axvline(x=p_mode_om[2,i], c='r', ls=':')\n",
    "# axs[2].grid()\n",
    "axs[2].set_xlim(0, 6)\n",
    "axs[2].set_ylim(0,)\n",
    "axs[2].legend()\n",
    "\n",
    "axs[3].plot(om_tilde_kin[:indx_kin], P_k_kin[3], c='k', ls=':', alpha=0.4, label=fr'$k_x={round(k_tilde[4],3)}$')\n",
    "axs[3].plot(om_tilde_kin[:indx_kin], P_k_kin_filt[3], c='C2', label=r'$filttered$')\n",
    "axs[3].axvline(x=f_mode_om[3], ls=':')\n",
    "# axs[3].plot((om_tilde_kin[idl_p2_kin_4:idu_p2_kin_4]), fitted_p2_kin_lor_4, color='k', label=r'$fitted$')\n",
    "for i in range(3):\n",
    "    axs[3].axvline(x=p_mode_om[3,i], c='r', ls=':')\n",
    "# axs[3].grid()\n",
    "axs[3].set_xlim(0, 6)\n",
    "axs[3].set_ylim(0,)\n",
    "axs[3].legend()\n",
    "\n",
    "\n",
    "# plt.axvline(x=idl_f_kin)\n",
    "# plt.axvline(x=idu_f_kin)\n",
    "plt.xlabel(r\"$\\tilde{\\omega}$\")\n",
    "fig.supylabel(r\"$\\tilde{P}(\\tilde{\\omega})$\")\n",
    "# plt.suptitle(r\"for $\\tilde{k}_x=2$\")\n",
    "plt.tight_layout()\n",
    "plt.show()"
   ]
  },
  {
   "cell_type": "code",
   "execution_count": null,
   "metadata": {},
   "outputs": [
    {
     "ename": "",
     "evalue": "",
     "output_type": "error",
     "traceback": [
      "\u001b[1;31mFailed to start the Kernel. \n",
      "\u001b[1;31mUnable to start Kernel 'env_pencil (Python 3.11.8)' due to a connection timeout. \n",
      "\u001b[1;31mView Jupyter <a href='command:jupyter.viewOutput'>log</a> for further details."
     ]
    }
   ],
   "source": []
  },
  {
   "cell_type": "code",
   "execution_count": null,
   "metadata": {},
   "outputs": [
    {
     "ename": "",
     "evalue": "",
     "output_type": "error",
     "traceback": [
      "\u001b[1;31mFailed to start the Kernel. \n",
      "\u001b[1;31mUnable to start Kernel 'env_pencil (Python 3.11.8)' due to a connection timeout. \n",
      "\u001b[1;31mView Jupyter <a href='command:jupyter.viewOutput'>log</a> for further details."
     ]
    }
   ],
   "source": []
  },
  {
   "cell_type": "code",
   "execution_count": null,
   "metadata": {},
   "outputs": [
    {
     "ename": "",
     "evalue": "",
     "output_type": "error",
     "traceback": [
      "\u001b[1;31mFailed to start the Kernel. \n",
      "\u001b[1;31mUnable to start Kernel 'env_pencil (Python 3.11.8)' due to a connection timeout. \n",
      "\u001b[1;31mView Jupyter <a href='command:jupyter.viewOutput'>log</a> for further details."
     ]
    }
   ],
   "source": [
    "f_om"
   ]
  },
  {
   "cell_type": "code",
   "execution_count": null,
   "metadata": {},
   "outputs": [
    {
     "ename": "",
     "evalue": "",
     "output_type": "error",
     "traceback": [
      "\u001b[1;31mFailed to start the Kernel. \n",
      "\u001b[1;31mUnable to start Kernel 'env_pencil (Python 3.11.8)' due to a connection timeout. \n",
      "\u001b[1;31mView Jupyter <a href='command:jupyter.viewOutput'>log</a> for further details."
     ]
    }
   ],
   "source": []
  }
 ],
 "metadata": {
  "kernelspec": {
   "display_name": "base",
   "language": "python",
   "name": "python3"
  },
  "language_info": {
   "codemirror_mode": {
    "name": "ipython",
    "version": 3
   },
   "file_extension": ".py",
   "mimetype": "text/x-python",
   "name": "python",
   "nbconvert_exporter": "python",
   "pygments_lexer": "ipython3",
   "version": "3.11.8"
  }
 },
 "nbformat": 4,
 "nbformat_minor": 2
}
