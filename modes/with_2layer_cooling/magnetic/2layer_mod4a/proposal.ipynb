{
 "cells": [
  {
   "cell_type": "code",
   "execution_count": 1,
   "metadata": {},
   "outputs": [
    {
     "name": "stdout",
     "output_type": "stream",
     "text": [
      "Warning: pencilnew has moved to pencil.\n",
      "         pencil has moved to pencil_old.\n",
      "To change your scripts accordingly:\n",
      "import pencilnew as pc -> import pencil as pc\n",
      "import pencil as pc -> import pencil_old as pc\n"
     ]
    }
   ],
   "source": [
    "import numpy as np\n",
    "from scipy.ndimage import gaussian_filter\n",
    "from scipy.optimize import curve_fit\n",
    "from scipy.integrate import trapezoid as trap\n",
    "import matplotlib.pyplot as plt\n",
    "from peakutils import indexes\n",
    "import pencil as pc\n",
    "from IPython.display import display, Latex\n",
    "import modes"
   ]
  },
  {
   "cell_type": "code",
   "execution_count": 2,
   "metadata": {},
   "outputs": [],
   "source": [
    "plt.rcParams.update({'font.size': 11})\n",
    "plt.rcParams['text.usetex'] = True"
   ]
  },
  {
   "cell_type": "code",
   "execution_count": 3,
   "metadata": {},
   "outputs": [
    {
     "name": "stdout",
     "output_type": "stream",
     "text": [
      "Read 39956 lines.\n"
     ]
    }
   ],
   "source": [
    "sim = pc.get_sim(quiet=True)\n",
    "ts = pc.read.ts()"
   ]
  },
  {
   "cell_type": "code",
   "execution_count": 4,
   "metadata": {},
   "outputs": [],
   "source": [
    "# #for exp fitting\n",
    "# def f(t, a, b):\n",
    "#     return a*np.exp(t*b)\n",
    "\n",
    "# i1 = np.argmin(abs(ts.t-600))\n",
    "# j1 = np.argmin(abs(ts.t-1800))\n",
    "\n",
    "# t_exp = ts.t[i1:j1]\n",
    "# b_exp = ts.brms[i1:j1]\n",
    "\n",
    "# popt1, pcov2 = curve_fit(f, t_exp, b_exp, [0,0.0016])\n",
    "\n",
    "# t_fit1 = ts.t[i1-100:j1+130]\n",
    "# b_fit1 = f(t_fit1, popt1[0], popt1[1])\n",
    "# grow=round(popt1[1],3)\n",
    "# grow"
   ]
  },
  {
   "cell_type": "code",
   "execution_count": 5,
   "metadata": {},
   "outputs": [],
   "source": [
    "# #for st_li2ne fi2tti2ng\n",
    "# def g(t, a, b):\n",
    "#     return a*t+b\n",
    "\n",
    "# i2 = np.argmin(abs(ts.t-4500))\n",
    "# j2 = np.argmin(abs(ts.t-7000))\n",
    "\n",
    "# t_lin = ts.t[i2:j2]\n",
    "# b_lin = ts.brms[i2:j2]\n",
    "\n",
    "# popt2, pcov2 = curve_fit(g, t_lin, b_lin)\n",
    "\n",
    "# t_fit2 = ts.t[i2-300:j2+100]\n",
    "# b_fit2 = g(t_fit2, popt2[0], popt2[1])\n",
    "# b = round(np.average(b_fit2),3)\n",
    "# b"
   ]
  },
  {
   "cell_type": "code",
   "execution_count": 6,
   "metadata": {},
   "outputs": [
    {
     "name": "stdout",
     "output_type": "stream",
     "text": [
      "grow factor is 0.005\n",
      "$\\langle B_{rms}\\rangle$= 1.1\n",
      "$\\langle u_{rms}\\rangle$= 0.106\n"
     ]
    }
   ],
   "source": [
    "\n",
    "#for exp fitting\n",
    "def f(t, a, b):\n",
    "    return a*np.exp(t*b)\n",
    "\n",
    "i1 = np.argmin(abs(ts.t-600))\n",
    "j1 = np.argmin(abs(ts.t-1800))\n",
    "\n",
    "t_exp = ts.t[i1:j1]\n",
    "b_exp = ts.brms[i1:j1]\n",
    "\n",
    "popt1, pcov2 = curve_fit(f, t_exp, b_exp, [0,0.0016])\n",
    "\n",
    "t_fit1 = ts.t[i1-100:j1+100]\n",
    "b_fit1 = f(t_fit1, popt1[0], popt1[1])\n",
    "grow=round(popt1[1],3)\n",
    "print('grow factor is', grow)\n",
    "\n",
    "#for st_li2ne fi2tti2ng\n",
    "def g(t, a, b):\n",
    "    return a*t+b\n",
    "\n",
    "i2 = np.argmin(abs(ts.t-4500))\n",
    "j2 = np.argmin(abs(ts.t-7000))\n",
    "\n",
    "t_lin = ts.t[i2:j2]\n",
    "b_lin = ts.brms[i2:j2]\n",
    "\n",
    "popt2, pcov2 = curve_fit(g, t_lin, b_lin)\n",
    "\n",
    "t_fit2 = ts.t[i2-300:j2+100]\n",
    "b_fit2 = g(t_fit2, popt2[0], popt2[1])\n",
    "b_ave = round(np.average(b_fit2),3)\n",
    "print(r'$\\langle B_{rms}\\rangle$=', b_ave)\n",
    "\n",
    "#for urms\n",
    "i3 = np.argmin(abs(ts.t-4500))\n",
    "j3 = np.argmin(abs(ts.t-7000))\n",
    "\n",
    "t_lin = ts.t[i3:j3]\n",
    "u_lin = ts.urms[i3:j3]\n",
    "\n",
    "popt2, pcov2 = curve_fit(g, t_lin, u_lin)\n",
    "\n",
    "t_fit3 = ts.t[i3-300:j3+100]\n",
    "u_fit3 = g(t_fit3, popt2[0], popt2[1])\n",
    "u_ave = round(np.average(u_fit3),3)\n",
    "print(r'$\\langle u_{rms}\\rangle$=', u_ave)"
   ]
  },
  {
   "cell_type": "code",
   "execution_count": 7,
   "metadata": {},
   "outputs": [],
   "source": [
    "import matplotlib"
   ]
  },
  {
   "cell_type": "code",
   "execution_count": 9,
   "metadata": {},
   "outputs": [
    {
     "data": {
      "image/png": "[encoded data removed]",
      "text/plain": [
       "<Figure size 400x250 with 1 Axes>"
      ]
     },
     "metadata": {},
     "output_type": "display_data"
    }
   ],
   "source": [
    "# matplotlib.rcParams['axes.edgecolor'] = '#ff0000'\n",
    "# plt.style.use('dark_background')\n",
    "fig, ax = plt.subplots(1,1, figsize=(4,2.5))\n",
    "\n",
    "# ax.xaxis.label.set_color('yellow')        #setting up X-axis label color to yellow\n",
    "# ax.yaxis.label.set_color('blue')          #setting up Y-axis label color to blue\n",
    "\n",
    "# ax.tick_params(axis='x', colors='red')    #setting up X-axis tick color to red\n",
    "# ax.tick_params(axis='y', colors='black')  #setting up Y-axis tick color to black\n",
    "\n",
    "# ax.spines['left'].set_color('red')        # setting up Y-axis tick color to red\n",
    "# ax.spines['top'].set_color('red')\n",
    "\n",
    "ax.semilogy(ts.t, ts.brms, c='k')\n",
    "ax.plot(t_fit2, b_fit2, linewidth=1.0, linestyle = '--', color='r')\n",
    "ax.plot(t_fit1, b_fit1, linewidth=1.0, linestyle = '--', color='r')\n",
    "# plt.axvline(x=yaver.t[indx_sat_d], c='k', ls=':')\n",
    "# plt.axvline(x=tt[kin_t_d])\n",
    "# plt.axvline(x=tt[kin_t_u])\n",
    "# plt.axhline(y=ts.brms[0], c='k', ls='--')\n",
    "# plt.axhline(y=ts.brms[-1])\n",
    "#plt.plot(t_fit, u_fit, '--r')\n",
    "ax.set_yscale('log')\n",
    "ax.set_xlim(0,ts.t[-1])\n",
    "plt.text(5000,0.2, fr\"$B_{{rms}}\\approx{b_ave}$\", fontsize=11)\n",
    "plt.text(1300,0.0002, fr\"$e^{{{grow}t}}$\", fontsize=11)\n",
    "# plt.annotate(\"exponential growth\", xy=(760, 0.0003), xytext=(700, 0.00002), arrowprops=dict(arrowstyle=\"->\"))\n",
    "# plt.annotate(\"saturation\", xy=(2100, 0.35), xytext=(2100, 0.02), arrowprops=dict(arrowstyle=\"->\"))\n",
    "ax.set_xlabel(\"t\")\n",
    "ax.set_ylabel(r\"$B_{rms}$\")\n",
    "plt.tight_layout()\n",
    "plt.savefig('plots/dynamo_ppt.png', dpi=150)\n",
    "plt.show()"
   ]
  },
  {
   "cell_type": "code",
   "execution_count": null,
   "metadata": {},
   "outputs": [],
   "source": []
  }
 ],
 "metadata": {
  "kernelspec": {
   "display_name": "env_pencil",
   "language": "python",
   "name": "python3"
  },
  "language_info": {
   "codemirror_mode": {
    "name": "ipython",
    "version": 3
   },
   "file_extension": ".py",
   "mimetype": "text/x-python",
   "name": "python",
   "nbconvert_exporter": "python",
   "pygments_lexer": "ipython3",
   "version": "3.11.8"
  }
 },
 "nbformat": 4,
 "nbformat_minor": 2
}
