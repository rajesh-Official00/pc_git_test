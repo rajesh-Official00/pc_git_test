{
 "cells": [
  {
   "cell_type": "code",
   "execution_count": 1,
   "metadata": {},
   "outputs": [
    {
     "name": "stdout",
     "output_type": "stream",
     "text": [
      "Warning: pencilnew has moved to pencil.\n",
      "         pencil has moved to pencil_old.\n",
      "To change your scripts accordingly:\n",
      "import pencilnew as pc -> import pencil as pc\n",
      "import pencil as pc -> import pencil_old as pc\n"
     ]
    }
   ],
   "source": [
    "import os\n",
    "import sys\n",
    "import pencil as pc\n",
    "import matplotlib\n",
    "import matplotlib\n",
    "import matplotlib.pyplot as plt\n",
    "import numpy as np\n",
    "import modes\n",
    "import pencil as pc"
   ]
  },
  {
   "cell_type": "code",
   "execution_count": 2,
   "metadata": {},
   "outputs": [
    {
     "ename": "",
     "evalue": "",
     "output_type": "error",
     "traceback": [
      "\u001b[1;31mThe Kernel crashed while executing code in the current cell or a previous cell. \n",
      "\u001b[1;31mPlease review the code in the cell(s) to identify a possible cause of the failure. \n",
      "\u001b[1;31mClick <a href='https://aka.ms/vscodeJupyterKernelCrash'>here</a> for more info. \n",
      "\u001b[1;31mView Jupyter <a href='command:jupyter.viewOutput'>log</a> for further details."
     ]
    }
   ],
   "source": [
    "# matplotlib.use('Agg')  # NOTE: changing the matplotlib backend\n",
    "\n",
    "# plt.rcParams.update({'font.size': 14})\n",
    "# plt.rcParams['text.usetex'] = True\n",
    "\n",
    "class Butterfly(modes.Modes):\n",
    "    def __init__(self, path, sim_path, sim, ts, xyaver, yaver, ini=False, dyn=True):\n",
    "        self.dyn = dyn\n",
    "        super().__init__(sim, ts, xyaver, yaver, dyn=self.dyn)#, ini=False)\n",
    "\n",
    "        self.path = path\n",
    "        self.by = [self.bxmz, self.bymz]\n",
    "        # self.by2 = [self.bx2mz, self.by2mz]\n",
    "        # self.by2sqr = np.sqrt(self.by2)\n",
    "        try:\n",
    "            self.by2 = [self.bx2mz, self.by2mz]\n",
    "            self.by2sqr = np.sqrt(self.by2)\n",
    "        except AttributeError:\n",
    "            print(\"Have you included bx2mz and by2mz in xyaver.in?\")\n",
    "            print(\"Diagram will not be normalized!!!\")\n",
    "\n",
    "\n",
    "    def plot(self):\n",
    "        \"\"\"\n",
    "        function to plot butterfly diagram.\n",
    "        \"\"\"\n",
    "        \n",
    "        left, width = .488, .5\n",
    "        bottom, height = .45, .5\n",
    "        right = left + width\n",
    "        top = bottom + height\n",
    "\n",
    "        gs_kw = dict(width_ratios=[2, 0.1], height_ratios=[1, 1])\n",
    "        fig, axs = plt.subplot_mosaic([['upper left', 'right'],\n",
    "                                    ['lower left', 'right']],\n",
    "                                    gridspec_kw=gs_kw, figsize=(8,5),\n",
    "                                    layout=\"constrained\")\n",
    "\n",
    "        props = dict(boxstyle='round', facecolor='white', alpha=0.8)\n",
    "\n",
    "        pos = ['upper left', 'lower left']\n",
    "\n",
    "        [X, Y] = np.meshgrid(self.xyaver.t, self.z)\n",
    "\n",
    "        try:\n",
    "            vmax=np.max(self.by/self.by2sqr)\n",
    "            vmin=np.min(self.by/self.by2sqr)\n",
    "            title = [r'$\\langle B_x \\rangle _{xy}/\\sqrt{\\langle B_{\\vphantom{y}x}^2 \\rangle _{xy}}$', r'$\\langle B_y \\rangle _{xy}/\\sqrt{\\langle B_y^2 \\rangle _{xy}}$']\n",
    "            for i in range(len(pos)):\n",
    "                axs[pos[i]].contourf(X, Y, np.transpose(self.by[i]/self.by2sqr[i]), 100, cmap='bwr', vmin=vmin, vmax=vmax)\n",
    "                # axs[pos[i]].set_title(title[i])\n",
    "                axs[pos[i]].text(right, top, title[i], transform=axs[pos[i]].transAxes, fontsize=12, horizontalalignment='right', verticalalignment='top', bbox=props)\n",
    "                axs[pos[i]].set_xlabel(r'$t$')\n",
    "                axs[pos[i]].set_ylabel(r'$z$')\n",
    "\n",
    "            ims = axs[pos[0]].contourf(X, Y, np.transpose(self.by[0]/self.by2sqr[0]), 100, cmap='bwr', vmin=vmin, vmax=vmax)\n",
    "\n",
    "        except Exception:\n",
    "            vmax=np.max(self.by)\n",
    "            vmin=np.min(self.by)\n",
    "            title = [r'$\\langle B_x \\rangle _{xy}$', r'$\\langle B_y \\rangle _{xy}$']\n",
    "            for i in range(len(pos)):\n",
    "                axs[pos[i]].contourf(X, Y, np.transpose(self.by[i]), 100, cmap='bwr', vmin=vmin, vmax=vmax)\n",
    "                # axs[pos[i]].set_title(title[i])\n",
    "                axs[pos[i]].text(right, top, title[i], transform=axs[pos[i]].transAxes, fontsize=12, horizontalalignment='right', verticalalignment='top', bbox=props)\n",
    "                axs[pos[i]].set_xlabel(r'$t$')\n",
    "                axs[pos[i]].set_ylabel(r'$z$')\n",
    "\n",
    "            ims = axs[pos[0]].contourf(X, Y, np.transpose(self.by[0]), 100, cmap='bwr', vmin=vmin, vmax=vmax)\n",
    "\n",
    "        plt.tight_layout()\n",
    "        plt.suptitle(r'$Butterfly$ $Diagram$')\n",
    "        plt.subplots_adjust(top=0.92)\n",
    "        cbar = fig.colorbar(ims, cax=axs['right'])#, ticks=[-.3, -.2, -.1, 0, .1, .2, .3])\n",
    "        ticks = np.arange(round(vmin,2), round(vmax,2), 0.1)\n",
    "        cbar.set_ticks(ticks)\n",
    "        fig.tight_layout()\n",
    "        # plt.savefig(self.path+'butterfly.pdf',bbox_inches='tight',dpi=300)\n",
    "        plt.savefig(self.path+'butterfly.png',bbox_inches='tight',dpi=300)\n",
    "        # plt.show()\n",
    "\n",
    "    pass"
   ]
  },
  {
   "cell_type": "code",
   "execution_count": 3,
   "metadata": {},
   "outputs": [],
   "source": [
    "#!! location of modules\n",
    "modulePath = './scripts'\n",
    "sys.path.append(modulePath)\n",
    "\n",
    "#!! importing my modules\n",
    "# import statevariables\n",
    "# import rms\n",
    "import butterfly\n",
    "import kom\n",
    "\n",
    "plt.rcParams.update({'font.size': 14})\n",
    "# plt.rcParams['text.usetex'] = True\n",
    "\n",
    "\n",
    "#!! location of working directory\n",
    "script_path = os.getcwd()\n",
    "sim_path = os.path.abspath(os.path.join(script_path))#, os.pardir))\n",
    "print('Simulation directory: ', sim_path)\n",
    "data_dir = '/data'\n",
    "\n",
    "\n",
    "print('importing data ...')\n",
    "# reading the simulation object and other files\n",
    "sim = pc.get_sim(path=sim_path, quiet=True)\n",
    "ts = pc.read.ts(datadir=sim_path+data_dir, quiet=True)\n",
    "yaver = pc.read.aver(datadir=sim_path+data_dir, simdir=sim_path, plane_list='y')\n",
    "xyaver = pc.read.aver(datadir=sim_path+data_dir, simdir=sim_path, plane_list=['xy'])"
   ]
  },
  {
   "cell_type": "code",
   "execution_count": null,
   "metadata": {},
   "outputs": [],
   "source": [
    "pathexists = os.path.exists(path)\n",
    "if pathexists:\n",
    "    print(path + ' exists.')\n",
    "else:\n",
    "    print(path + ' does not exist.')\n",
    "    os.makedirs(path)\n",
    "    print(path + ' is created.')\n",
    "plot_dir = os.path.abspath(sim_path+'/plot')\n",
    "print('Output directory: ', plot_dir)"
   ]
  },
  {
   "cell_type": "code",
   "execution_count": null,
   "metadata": {},
   "outputs": [],
   "source": [
    "# creating an Butterfly object\n",
    "img_Bfly = butterfly.Butterfly(path, sim_path, sim, ts, xyaver, yaver, ini=False, dyn=True)\n",
    "# plotting butterfly diagram\n",
    "img_Bfly.plot()"
   ]
  }
 ],
 "metadata": {
  "kernelspec": {
   "display_name": "env_pencil",
   "language": "python",
   "name": "python3"
  },
  "language_info": {
   "codemirror_mode": {
    "name": "ipython",
    "version": 3
   },
   "file_extension": ".py",
   "mimetype": "text/x-python",
   "name": "python",
   "nbconvert_exporter": "python",
   "pygments_lexer": "ipython3",
   "version": "3.11.8"
  }
 },
 "nbformat": 4,
 "nbformat_minor": 2
}
