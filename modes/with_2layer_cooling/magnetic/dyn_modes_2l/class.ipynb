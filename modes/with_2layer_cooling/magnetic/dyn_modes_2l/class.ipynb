{
 "cells": [
  {
   "cell_type": "code",
   "execution_count": 1,
   "metadata": {},
   "outputs": [
    {
     "name": "stdout",
     "output_type": "stream",
     "text": [
      "Warning: pencilnew has moved to pencil.\n",
      "         pencil has moved to pencil_old.\n",
      "To change your scripts accordingly:\n",
      "import pencilnew as pc -> import pencil as pc\n",
      "import pencil as pc -> import pencil_old as pc\n"
     ]
    }
   ],
   "source": [
    "import numpy as np\n",
    "from scipy.ndimage import gaussian_filter\n",
    "from scipy.optimize import curve_fit\n",
    "from scipy.integrate import trapezoid as trap\n",
    "import matplotlib.pyplot as plt\n",
    "from peakutils import indexes\n",
    "import pencil as pc\n",
    "from IPython.display import display, Latex\n",
    "import modes"
   ]
  },
  {
   "cell_type": "code",
   "execution_count": 2,
   "metadata": {},
   "outputs": [],
   "source": [
    "plt.rcParams.update({'font.size': 11})\n",
    "plt.rcParams['text.usetex'] = True"
   ]
  },
  {
   "cell_type": "code",
   "execution_count": 3,
   "metadata": {},
   "outputs": [],
   "source": [
    "# class modes():\n",
    "#     def __init__(self, sim, ts, xyaver, yaver):\n",
    "#         self.sim = sim\n",
    "#         self.ts = ts\n",
    "#         self.xyaver = xyaver\n",
    "#         self.yaver = yaver\n",
    "\n",
    "#         self.grid = sim.grid\n",
    "#         self.param = sim.param\n",
    "#         self.z = self.grid.z\n",
    "#         # index of z=0\n",
    "#         self.indx_zref = np.argmin(abs(self.z-0))\n",
    "#         # box geometry\n",
    "#         self.lx, self.ly, self.lz = self.param.get('lxyz')\n",
    "#         #reading the latest thermodynamic variables\n",
    "#         self.rho = self.xyaver.xy.rhomz[-1,:]\n",
    "#         self.pre = self.xyaver.xy.ppmz[-1,:]\n",
    "#         self.tem = self.xyaver.xy.TTmz[-1,:]\n",
    "#         # finding T_d\n",
    "#         self.T_d = self.temperature(10,self.indx_zref-10)\n",
    "#         # finding T_u\n",
    "#         self.T_u = self.temperature(self.indx_zref+10,-4)\n",
    "#         self.q = self.T_d/self.T_u\n",
    "#         # finding u_rms\n",
    "#         self.u_rms = self.urms(200, 800)\n",
    "#         # other parameters\n",
    "#         self.cp = self.param.get('cp')\n",
    "#         self.gamma = np.round(self.param.get('gamma'), 3)\n",
    "#         self.R = np.round(self.cp*(1-(1/self.gamma)), 4)\n",
    "#         #sound speed in upper and lower layer\n",
    "#         self.cs_d = self.cs(self.gamma, self.R, self.T_d)\n",
    "#         self.cs_u = self.cs(self.gamma, self.R, self.T_u)\n",
    "        \n",
    "#         self.gz = -self.param.get('gravz')\n",
    "#         self.L0 = np.round(self.cs_d**2/self.gz, 3)\n",
    "#         self.omega0 = np.round(self.gz/self.cs_d, 3)\n",
    "#         self.d = self.D(self.L0,self.u_rms,self.cs_d)\n",
    "\n",
    "#     def index(x, y):\n",
    "#         return np.argmin(np.abs(x - y))\n",
    "\n",
    "#     def temperature(self, i, j):\n",
    "#         def const(t, a):\n",
    "#             return a\n",
    "#         z_ij = self.z[i:j]\n",
    "#         T_ij = self.tem[i:j]\n",
    "    \n",
    "#         popt, _ = curve_fit(const, z_ij, T_ij)\n",
    "#         # z_fit = z[i:j]\n",
    "#         T_fit = const(z_ij, popt[0])\n",
    "#         return round(np.average(T_fit),3)\n",
    "    \n",
    "#     def cs(self, gamma, R, T):\n",
    "#         return np.round(np.sqrt(gamma*R*T), 3)\n",
    "    \n",
    "#     def urms(self, ti, tj):\n",
    "#         def g(t, a, b):\n",
    "#             return a*t+b\n",
    "#         popt, _ = curve_fit(g, self.ts.t[ti:tj], self.ts.urms[ti:tj])\n",
    "#         u_fit = g(self.ts.t[ti:tj], *popt)\n",
    "#         return round(np.average(u_fit),4)\n",
    "    \n",
    "#     def D(self, L0, u_rms, cs_d):\n",
    "#         return np.round(L0*u_rms/cs_d, 3)\n",
    "    \n",
    "#     def FT(self, uz_real):\n",
    "#         return np.fft.fftn(uz_real, s=None, axes=(-2, -1), norm=None)\n",
    "    \n",
    "#     def logP(self, uz_fourier,D):\n",
    "#         return np.log(np.abs(uz_fourier/D**2))\n",
    "\n",
    "#     def omega_tilde(self, tt, t1, t2):\n",
    "#         \"tt=yaver.t\"\n",
    "#         t_gd = tt[t1:t2]  #time interval where urms has reached a steady state\n",
    "#         t_len = np.size(t_gd)\n",
    "#         dom = 2*np.pi/t_len #unit step alomg omega direction\n",
    "#         if t_len%2 == 0:\n",
    "#             fom = np.arange(0, t_len/2+1)\n",
    "#             rom = -np.flip(np.arange(1, t_len/2))\n",
    "#             om = np.concatenate((fom, rom))*dom\n",
    "#         else:\n",
    "#             fom = np.arange(0, t_len/2)\n",
    "#             rom = -np.flip(np.arange(1, t_len/2))\n",
    "#             om = np.concatenate((fom, rom))*dom\n",
    "#         return om/self.omega0\n",
    "\n",
    "#     def k_tilde(self):\n",
    "#         nx = len(self.grid.x)\n",
    "#         dkx = 2*np.pi/self.lx    #unit step along kx direction\n",
    "#         if nx%2 == 0:\n",
    "#             fnx = np.arange(0, nx/2+1)\n",
    "#             rnx = -np.flip(np.arange(1, nx/2))\n",
    "#             kx = np.concatenate((fnx, rnx))*dkx\n",
    "#         else:\n",
    "#             fnx = np.arange(0, nx/2)\n",
    "#             rnx = -np.flip(np.arange(1, nx/2))\n",
    "#             kx = np.concatenate((fnx, rnx))*dkx\n",
    "#         return kx*self.L0\n",
    "    \n",
    "#     def mode_finder(x_data, y_data, plot=False, thres=0.3, min_dist=100):\n",
    "#         indx = indexes(y_data, thres=thres, min_dist=min_dist)\n",
    "#         if plot:\n",
    "#             plt.figure(figsize=(14,5))\n",
    "#             plt.plot(x_data, y_data)\n",
    "#             plt.scatter(x_data[indx], y_data[indx], c='r')\n",
    "#             plt.xlim(x_data[0], x_data[-1])\n",
    "#             plt.ylim(0,)\n",
    "#             plt.show()\n",
    "#         else:\n",
    "#             return indx\n",
    "\n",
    "#     def mode_data(y_data, x_data, index: int, lower_bound: int, upper_bound: int):\n",
    "#         lb = index-lower_bound\n",
    "#         ub = index+upper_bound\n",
    "#         data_dict = {'x': x_data[lb:ub], 'y': y_data[lb:ub]}\n",
    "#         return data_dict\n",
    "    \n",
    "#     def sigma(power, filtered_power):\n",
    "#         sig_tot = (power-filtered_power)**2\n",
    "#         sig_ave = np.sqrt(sum(sig_tot)/len(sig_tot))\n",
    "#         # sig = sig_ave*np.ones(len(sig_tot_kin[idl_f_kin:idu_f_kin]))\n",
    "#         return sig_ave\n",
    "\n",
    "#     def mode_fit(func,x_data,y_data,base=True,**kwargs):\n",
    "#         para, _ = curve_fit(func, x_data, y_data, **kwargs)\n",
    "#         y_fit = func(x_data, *para)\n",
    "#         if base:\n",
    "#             y = y_fit\n",
    "#         else:\n",
    "#             y = y_fit-x_data*para[4]-para[3]\n",
    "#         return y\n",
    "\n",
    "#     pass"
   ]
  },
  {
   "cell_type": "code",
   "execution_count": 4,
   "metadata": {},
   "outputs": [
    {
     "name": "stdout",
     "output_type": "stream",
     "text": [
      "Read 4237 lines.\n"
     ]
    }
   ],
   "source": [
    "sim = pc.get_sim(quiet=True)\n",
    "xyaver = pc.read.aver(plane_list=['xy'])\n",
    "# #reading timeseries data\n",
    "ts = pc.read.ts()\n",
    "yaver = pc.read.aver(plane_list='y')"
   ]
  },
  {
   "cell_type": "code",
   "execution_count": 5,
   "metadata": {},
   "outputs": [
    {
     "data": {
      "text/plain": [
       "1.0"
      ]
     },
     "execution_count": 5,
     "metadata": {},
     "output_type": "execute_result"
    }
   ],
   "source": [
    "sim.param.get('cp')"
   ]
  },
  {
   "cell_type": "code",
   "execution_count": 6,
   "metadata": {},
   "outputs": [
    {
     "data": {
      "text/plain": [
       "1.6666666666666667"
      ]
     },
     "execution_count": 6,
     "metadata": {},
     "output_type": "execute_result"
    }
   ],
   "source": [
    "sim.param.get('gamma')"
   ]
  },
  {
   "cell_type": "code",
   "execution_count": 7,
   "metadata": {},
   "outputs": [],
   "source": [
    "cv = 1.0/1.6666"
   ]
  },
  {
   "cell_type": "code",
   "execution_count": 8,
   "metadata": {},
   "outputs": [
    {
     "data": {
      "text/plain": [
       "1.6666"
      ]
     },
     "execution_count": 8,
     "metadata": {},
     "output_type": "execute_result"
    }
   ],
   "source": [
    "1.0/cv"
   ]
  },
  {
   "cell_type": "code",
   "execution_count": 9,
   "metadata": {},
   "outputs": [],
   "source": [
    "# xyaver.xy.bx2mz"
   ]
  },
  {
   "cell_type": "code",
   "execution_count": 10,
   "metadata": {},
   "outputs": [
    {
     "data": {
      "text/plain": [
       "0.001"
      ]
     },
     "execution_count": 10,
     "metadata": {},
     "output_type": "execute_result"
    }
   ],
   "source": [
    "sim.param.get('nu')"
   ]
  },
  {
   "cell_type": "code",
   "execution_count": 11,
   "metadata": {},
   "outputs": [
    {
     "name": "stdout",
     "output_type": "stream",
     "text": [
      "Have you included bx2mz and by2mz in xyaver.in?\n"
     ]
    }
   ],
   "source": [
    "mode = modes.Modes(sim, ts, xyaver, yaver, ini=False, dyn=True)"
   ]
  },
  {
   "cell_type": "code",
   "execution_count": 12,
   "metadata": {},
   "outputs": [],
   "source": [
    "HH = mode.scale_height"
   ]
  },
  {
   "cell_type": "code",
   "execution_count": 13,
   "metadata": {},
   "outputs": [],
   "source": [
    "# cs = mode.cs()\n",
    "# cs"
   ]
  },
  {
   "cell_type": "code",
   "execution_count": 14,
   "metadata": {},
   "outputs": [],
   "source": [
    "cs = np.sqrt(mode.gamma*mode.pre/mode.rho)"
   ]
  },
  {
   "cell_type": "code",
   "execution_count": 15,
   "metadata": {},
   "outputs": [
    {
     "data": {
      "text/plain": [
       "Text(0.5, 0, '$grid (z)$')"
      ]
     },
     "execution_count": 15,
     "metadata": {},
     "output_type": "execute_result"
    },
    {
     "data": {
      "image/png": "[encoded data removed]",
      "text/plain": [
       "<Figure size 640x480 with 1 Axes>"
      ]
     },
     "metadata": {},
     "output_type": "display_data"
    }
   ],
   "source": [
    "H = mode.tem*(mode.cp-cv)/mode.gz\n",
    "plt.plot(mode.z, H, label='H', c='k')\n",
    "plt.plot(mode.z, cs/(2*HH), ls='-', label=r'$\\omega_c$')\n",
    "plt.plot(mode.z, mode.gz/(2*cs), ls='--', label=r'$\\omega_c$')\n",
    "plt.xlabel(r\"$grid (z)$\")"
   ]
  },
  {
   "cell_type": "code",
   "execution_count": 16,
   "metadata": {},
   "outputs": [],
   "source": [
    "data = np.loadtxt('stratification.dat')"
   ]
  },
  {
   "cell_type": "code",
   "execution_count": 17,
   "metadata": {},
   "outputs": [],
   "source": [
    "tem0 = mode.xyaver.xy.TTmz[0,:]\n",
    "tem10 = mode.xyaver.xy.TTmz[10,:]\n",
    "tem100 = mode.xyaver.xy.TTmz[100,:]\n",
    "# tem400 = mode.xyaver.xy.TTmz[400,:]"
   ]
  },
  {
   "cell_type": "code",
   "execution_count": 18,
   "metadata": {},
   "outputs": [
    {
     "data": {
      "text/plain": [
       "(2.008, 3.14159)"
      ]
     },
     "execution_count": 18,
     "metadata": {},
     "output_type": "execute_result"
    }
   ],
   "source": [
    "mode.L0, mode.lz"
   ]
  },
  {
   "cell_type": "markdown",
   "metadata": {},
   "source": [
    "## Variation of Thermodynamic Variables along z"
   ]
  },
  {
   "cell_type": "code",
   "execution_count": 19,
   "metadata": {},
   "outputs": [
    {
     "data": {
      "image/png": "[encoded data removed]",
      "text/plain": [
       "<Figure size 700x500 with 3 Axes>"
      ]
     },
     "metadata": {},
     "output_type": "display_data"
    }
   ],
   "source": [
    "fig, axs = plt.subplots(3,1, figsize=(7,5), sharex=True)\n",
    "\n",
    "axs[0].plot(mode.z/mode.L0, mode.rho, color='k')\n",
    "# axs[0].plot(data[:,0], data[:,1], color='k', ls=':')\n",
    "# axs[1].plot(grid.z, pressure, color='k')\n",
    "axs[1].plot(mode.z/mode.L0, mode.pre, color='k')\n",
    "axs[2].plot(mode.z/mode.L0, mode.tem, color='k')\n",
    "\n",
    "# axs[2].plot(mode.z, tem0, color='r')\n",
    "# axs[2].plot(mode.z, tem10, color='k')\n",
    "# axs[2].plot(mode.z, tem100, color='k')\n",
    "# axs[2].plot(data[:,0], data[:,2], color='b')\n",
    "\n",
    "#axs[2].plot(grid.z, xya.xy.TTmz[-1], color='k')\n",
    "\n",
    "axs[0].set_yscale(\"log\")\n",
    "axs[1].set_yscale(\"log\")\n",
    "axs[2].set_yscale(\"log\")\n",
    "\n",
    "# axs[0].set_xlim(z[0], z[-1])\n",
    "# axs[1].set_xlim(z[0], z[-1])\n",
    "axs[2].set_xlim(mode.z[0]/mode.L0, mode.z[-1]/mode.L0)\n",
    "\n",
    "axs[0].set_ylabel(r\"$\\rho(z)$\")\n",
    "axs[1].set_ylabel(r\"$P(z)$\")\n",
    "axs[2].set_ylabel(r\"$T(z)$\")\n",
    "\n",
    "# xticks = (np.pi/10)*np.array([-9, -7, -5, -3, -1, 0, 1])\n",
    "# axs[2].set_xticks(xticks)\n",
    "# axs[2].set_xticklabels([r'$-\\frac{9\\pi}{10}$', r'$-\\frac{7\\pi}{10}$', r'$-\\frac{5\\pi}{10}$', \\\n",
    "#                      r'$-\\frac{3\\pi}{10}$', r'$-\\frac{\\pi}{10}$', r'$0$', r'$\\frac{\\pi}{10}$'])\n",
    "plt.xlabel(r\"$z/L_0$\")\n",
    "plt.tight_layout()\n",
    "plt.savefig(\"variation.jpg\")"
   ]
  },
  {
   "cell_type": "code",
   "execution_count": 20,
   "metadata": {},
   "outputs": [
    {
     "data": {
      "image/png": "[encoded data removed]",
      "text/plain": [
       "<Figure size 400x250 with 2 Axes>"
      ]
     },
     "metadata": {},
     "output_type": "display_data"
    }
   ],
   "source": [
    "fig, axs = plt.subplots(2,1, figsize=(4,2.5), sharex=True)\n",
    "# plt.style.use('dark_background')\n",
    "\n",
    "axs[0].plot(mode.z/mode.L0, mode.rho, color='k')\n",
    "axs[0].axvline(x=0, c='r', ls=':')\n",
    "# axs[0].plot(data[:,0], data[:,1], color='k', ls=':')\n",
    "# axs[1].plot(grid.z, pressure, color='k')\n",
    "# axs[1].plot(mode.z, mode.pre, color='k')\n",
    "axs[1].plot(mode.z/mode.L0, mode.tem, color='k')\n",
    "axs[1].axvline(x=0, c='r', ls=':')\n",
    "\n",
    "# axs[1].plot(mode.z, tem0, color='r')\n",
    "# axs[1].plot(mode.z, tem10, color='k')\n",
    "# axs[1].plot(mode.z, tem100, color='k')\n",
    "# axs[1].plot(data[:,0], data[:,1], color='b')\n",
    "\n",
    "#axs[1].plot(grid.z, xya.xy.TTmz[-1], color='k')\n",
    "\n",
    "axs[0].set_yscale(\"log\")\n",
    "# axs[1].set_yscale(\"log\")\n",
    "# axs[1].set_yscale(\"log\")\n",
    "\n",
    "# axs[0].set_xlim(z[0], z[-1])\n",
    "# axs[1].set_xlim(z[0], z[-1])\n",
    "axs[1].set_xlim(mode.z[0]/mode.L0, mode.z[-1]/mode.L0)\n",
    "\n",
    "axs[0].set_ylabel(r\"$\\rho(z)$\")\n",
    "# axs[1].set_ylabel(r\"$P(z)$\")\n",
    "axs[1].set_ylabel(r\"$T(z)$\")\n",
    "\n",
    "# xticks = (np.pi/10)*np.array([-9, -7, -5, -3, -1, 0, 1])\n",
    "# axs[1].set_xticks(xticks)\n",
    "# axs[1].set_xticklabels([r'$-\\frac{9\\pi}{10}$', r'$-\\frac{7\\pi}{10}$', r'$-\\frac{5\\pi}{10}$', \\\n",
    "#                      r'$-\\frac{3\\pi}{10}$', r'$-\\frac{\\pi}{10}$', r'$0$', r'$\\frac{\\pi}{10}$'])\n",
    "plt.xlabel(r\"$z/L_0$\")\n",
    "plt.tight_layout()\n",
    "# plt.savefig(\"./plots/variation.png\", dpi=300)"
   ]
  },
  {
   "cell_type": "code",
   "execution_count": 21,
   "metadata": {},
   "outputs": [],
   "source": [
    "# var = pc.read.var(var_file='VAR0', trimall=True)"
   ]
  },
  {
   "cell_type": "code",
   "execution_count": 22,
   "metadata": {},
   "outputs": [],
   "source": [
    "# plt.plot(sim.grid.z, var.lnrho[:,0,0])"
   ]
  },
  {
   "cell_type": "code",
   "execution_count": 23,
   "metadata": {},
   "outputs": [
    {
     "data": {
      "text/plain": [
       "(2119, 256)"
      ]
     },
     "execution_count": 23,
     "metadata": {},
     "output_type": "execute_result"
    }
   ],
   "source": [
    "cs_sq0 = mode.gamma*mode.xyaver.xy.ppmz/mode.xyaver.xy.rhomz\n",
    "cs_sq0.shape"
   ]
  },
  {
   "cell_type": "code",
   "execution_count": 24,
   "metadata": {},
   "outputs": [],
   "source": [
    "def vari(d,u):\n",
    "    fig = plt.figure(figsize=(14,4))\n",
    "    # for i in range(len(cs_sq0[:,1])):\n",
    "    for i in range(np.size(cs_sq0[d:u,:],0)):\n",
    "        plt.plot(mode.z, cs_sq0[d+i,:], c='k')\n",
    "    plt.axhline(y=5, ls=':')\n",
    "    plt.axhline(y=1, ls=':')\n",
    "    plt.xlim(mode.z[0], mode.z[-1])\n",
    "    # plt.ylim(0,11)\n",
    "    plt.show()"
   ]
  },
  {
   "cell_type": "code",
   "execution_count": 25,
   "metadata": {},
   "outputs": [],
   "source": [
    "# mode.L0"
   ]
  },
  {
   "cell_type": "code",
   "execution_count": 26,
   "metadata": {},
   "outputs": [
    {
     "data": {
      "image/png": "[encoded data removed]",
      "text/plain": [
       "<Figure size 1400x400 with 1 Axes>"
      ]
     },
     "metadata": {},
     "output_type": "display_data"
    }
   ],
   "source": [
    "vari(0,-1)"
   ]
  },
  {
   "cell_type": "code",
   "execution_count": 27,
   "metadata": {},
   "outputs": [
    {
     "data": {
      "text/plain": [
       "(2.346, 0.4001, 1.667)"
      ]
     },
     "execution_count": 27,
     "metadata": {},
     "output_type": "execute_result"
    }
   ],
   "source": [
    "mode.cs_u, mode.R, mode.gamma"
   ]
  },
  {
   "cell_type": "code",
   "execution_count": 28,
   "metadata": {},
   "outputs": [
    {
     "data": {
      "image/png": "[encoded data removed]",
      "text/plain": [
       "<Figure size 1400x400 with 1 Axes>"
      ]
     },
     "metadata": {},
     "output_type": "display_data"
    }
   ],
   "source": [
    "cs_sq = mode.gamma*mode.pre/mode.rho\n",
    "fig = plt.figure(figsize=(14,4))\n",
    "plt.plot(mode.z, cs_sq, c='k')\n",
    "plt.xlim(mode.z[0], mode.z[-1])\n",
    "plt.show()"
   ]
  },
  {
   "cell_type": "code",
   "execution_count": 29,
   "metadata": {},
   "outputs": [],
   "source": [
    "cutoff = mode.gz/(2*np.sqrt(cs_sq))"
   ]
  },
  {
   "cell_type": "code",
   "execution_count": 30,
   "metadata": {},
   "outputs": [],
   "source": [
    "cutoff2 = np.sqrt(cs_sq)/(2*HH)"
   ]
  },
  {
   "cell_type": "code",
   "execution_count": 31,
   "metadata": {},
   "outputs": [
    {
     "data": {
      "text/plain": [
       "[<matplotlib.lines.Line2D at 0x15540f4e3750>]"
      ]
     },
     "execution_count": 31,
     "metadata": {},
     "output_type": "execute_result"
    },
    {
     "data": {
      "image/png": "[encoded data removed]",
      "text/plain": [
       "<Figure size 640x480 with 1 Axes>"
      ]
     },
     "metadata": {},
     "output_type": "display_data"
    }
   ],
   "source": [
    "plt.plot(cutoff)\n",
    "plt.plot(cutoff2)"
   ]
  },
  {
   "cell_type": "code",
   "execution_count": 32,
   "metadata": {},
   "outputs": [],
   "source": [
    "# fig, axs = plt.subplots(2,1, figsize=(12,6), sharex=True)\n",
    "\n",
    "# axs[0].plot(mode.z, mode.bxmz, color='k')\n",
    "# # axs[0].plot(mode.z, bxmz, color='k')\n",
    "# # axs[0].plot(data[:,0], np.exp(data[:,1]), color='k', ls=':')\n",
    "# # axs[1].plot(grid.z, pressure, color='k')\n",
    "# axs[1].plot(mode.z, mode.bymz, color='k')\n",
    "# # axs[1].plot(mode.z, bymz, color='k')\n",
    "# #axs[2].plot(grid.z, xya.xy.TTmz[-1], color='k')\n",
    "\n",
    "# # axs[0].set_yscale(\"log\")\n",
    "# # axs[1].set_yscale(\"log\")\n",
    "\n",
    "# # axs[0].set_xlim(z[0], z[-1])\n",
    "# # axs[1].set_xlim(z[0], z[-1])\n",
    "# axs[1].set_xlim(mode.z[0], mode.z[-1])\n",
    "\n",
    "# axs[0].set_ylabel(r\"$\\langle B_x\\rangle_{xy}(z)$\")\n",
    "# axs[1].set_ylabel(r\"$\\langle B_y\\rangle_{xy}(z)$\")\n",
    "\n",
    "# # xticks = (np.pi/10)*np.array([-9, -7, -5, -3, -1, 0, 1])\n",
    "# # axs[2].set_xticks(xticks)\n",
    "# # axs[2].set_xticklabels([r'$-\\frac{9\\pi}{10}$', r'$-\\frac{7\\pi}{10}$', r'$-\\frac{5\\pi}{10}$', \\\n",
    "# #                      r'$-\\frac{3\\pi}{10}$', r'$-\\frac{\\pi}{10}$', r'$0$', r'$\\frac{\\pi}{10}$'])\n",
    "# plt.xlabel(r\"$grid (z)$\")\n",
    "# plt.tight_layout()\n",
    "# #plt.savefig(\"variation.jpg\")"
   ]
  },
  {
   "cell_type": "code",
   "execution_count": 33,
   "metadata": {},
   "outputs": [],
   "source": [
    "bxmz = xyaver.xy.bxmz[-100,:]\n",
    "bymz = xyaver.xy.bymz[-100,:]"
   ]
  },
  {
   "cell_type": "code",
   "execution_count": null,
   "metadata": {},
   "outputs": [],
   "source": []
  },
  {
   "cell_type": "code",
   "execution_count": 34,
   "metadata": {},
   "outputs": [
    {
     "data": {
      "image/png": "[encoded data removed]",
      "text/plain": [
       "<Figure size 1600x400 with 1 Axes>"
      ]
     },
     "metadata": {},
     "output_type": "display_data"
    }
   ],
   "source": [
    "fig = plt.figure(figsize=(16,4))\n",
    "plt.plot(ts.t, ts.urms, alpha=0.6)\n",
    "# plt.plot(t_fit, u_fit, '--r')\n",
    "plt.yscale('log')\n",
    "plt.xlim(0,)\n",
    "plt.xlabel(\"t\")\n",
    "plt.ylabel(r\"$u_{rms}$\")\n",
    "plt.show()"
   ]
  },
  {
   "cell_type": "code",
   "execution_count": 35,
   "metadata": {},
   "outputs": [
    {
     "data": {
      "image/png": "[encoded data removed]",
      "text/plain": [
       "<Figure size 1600x400 with 1 Axes>"
      ]
     },
     "metadata": {},
     "output_type": "display_data"
    }
   ],
   "source": [
    "fig = plt.figure(figsize=(16,4))\n",
    "plt.semilogy(ts.t, ts.brms, alpha=0.6)\n",
    "# plt.plot(ts.t[t_low1:t_up1], brms_1)\n",
    "# plt.plot(ts.t[t_low2:t_up2], brms_2)\n",
    "# plt.axvline(x=yaver.t[indx_sat_d], c='k', ls=':')\n",
    "# plt.axvline(x=tt[kin_t_d])\n",
    "# plt.axvline(x=tt[kin_t_u])\n",
    "#plt.plot(t_fit, u_fit, '--r')\n",
    "plt.yscale('log')\n",
    "plt.xlim(0,ts.t[-1])\n",
    "plt.xlabel(\"t\")\n",
    "plt.ylabel(r\"$b_{rms}$\")\n",
    "plt.show()"
   ]
  },
  {
   "cell_type": "markdown",
   "metadata": {},
   "source": [
    "### Proposal"
   ]
  },
  {
   "cell_type": "code",
   "execution_count": 36,
   "metadata": {},
   "outputs": [],
   "source": [
    "t_low1 = np.argmin(np.abs(ts.t-20))\n",
    "t_up1 = np.argmin(np.abs(ts.t-1500))"
   ]
  },
  {
   "cell_type": "code",
   "execution_count": 37,
   "metadata": {},
   "outputs": [
    {
     "name": "stdout",
     "output_type": "stream",
     "text": [
      "[0.23542342 0.23554024 0.23565663 ... 1.7801838  1.78103079 1.78188181]\n"
     ]
    }
   ],
   "source": [
    "def growth(x, a, b):\n",
    "    return a*np.exp(b*x)\n",
    "\n",
    "para1, _ = curve_fit(growth, ts.t[t_low1:t_up1], ts.brms[t_low1:t_up1], [0,0.0016])\n",
    "brms_1 = growth(ts.t[t_low1:t_up1], *para1)\n",
    "print(brms_1)"
   ]
  },
  {
   "cell_type": "code",
   "execution_count": 38,
   "metadata": {},
   "outputs": [],
   "source": [
    "t_low2 = np.argmin(np.abs(ts.t-3000))\n",
    "t_up2 = np.argmin(np.abs(ts.t-4200))"
   ]
  },
  {
   "cell_type": "code",
   "execution_count": 39,
   "metadata": {},
   "outputs": [],
   "source": [
    "def linear(x, a, b):\n",
    "    return a*x+b\n",
    "\n",
    "# para2, _ = curve_fit(linear, ts.t[t_low2:t_up2], ts.brms[t_low2:t_up2], [0.001,0.1])\n",
    "# brms_2 = linear(ts.t[t_low2:t_up2], *para2)"
   ]
  },
  {
   "cell_type": "code",
   "execution_count": 40,
   "metadata": {},
   "outputs": [
    {
     "data": {
      "image/png": "[encoded data removed]",
      "text/plain": [
       "<Figure size 800x500 with 1 Axes>"
      ]
     },
     "metadata": {},
     "output_type": "display_data"
    }
   ],
   "source": [
    "fig = plt.figure(figsize=(8,5))\n",
    "plt.semilogy(ts.t, ts.brms, alpha=0.6)\n",
    "# plt.plot(ts.t[t_low1:t_up1], brms_1)\n",
    "# plt.plot(ts.t[t_low2:t_up2], brms_2)\n",
    "# plt.axvline(x=yaver.t[indx_sat_d], c='k', ls=':')\n",
    "# plt.axvline(x=tt[kin_t_d])\n",
    "# plt.axvline(x=tt[kin_t_u])\n",
    "#plt.plot(t_fit, u_fit, '--r')\n",
    "plt.yscale('log')\n",
    "plt.xlim(0,ts.t[-1])\n",
    "plt.xlabel(\"t\")\n",
    "plt.ylabel(r\"$b_{rms}$\")\n",
    "plt.show()"
   ]
  },
  {
   "cell_type": "markdown",
   "metadata": {},
   "source": [
    "## using total data"
   ]
  },
  {
   "cell_type": "code",
   "execution_count": 41,
   "metadata": {},
   "outputs": [],
   "source": [
    "uz_real = yaver.y.uzmxz"
   ]
  },
  {
   "cell_type": "code",
   "execution_count": 42,
   "metadata": {},
   "outputs": [
    {
     "data": {
      "text/plain": [
       "(2530, 512, 256)"
      ]
     },
     "execution_count": 42,
     "metadata": {},
     "output_type": "execute_result"
    }
   ],
   "source": [
    "uz_real.shape"
   ]
  },
  {
   "cell_type": "code",
   "execution_count": 43,
   "metadata": {},
   "outputs": [
    {
     "data": {
      "text/plain": [
       "(2530, 3)"
      ]
     },
     "execution_count": 43,
     "metadata": {},
     "output_type": "execute_result"
    }
   ],
   "source": [
    "uz_real[:,:3,3].shape"
   ]
  },
  {
   "cell_type": "markdown",
   "metadata": {},
   "source": [
    "### taking fourier transform of $u_z(t,x,z=0)$ to get $\\hat{u}_z(\\omega,k_x)$"
   ]
  },
  {
   "cell_type": "code",
   "execution_count": 44,
   "metadata": {},
   "outputs": [],
   "source": [
    "indx_t1 = np.argmin(np.abs(yaver.t - 20))  #to avoid the transient effects below t=170\n",
    "indx_t2 = -1"
   ]
  },
  {
   "cell_type": "code",
   "execution_count": 45,
   "metadata": {},
   "outputs": [
    {
     "data": {
      "text/plain": [
       "(229, 2304)"
      ]
     },
     "execution_count": 45,
     "metadata": {},
     "output_type": "execute_result"
    }
   ],
   "source": [
    "mode.indx_zref, 256*9"
   ]
  },
  {
   "cell_type": "code",
   "execution_count": 46,
   "metadata": {},
   "outputs": [
    {
     "data": {
      "text/plain": [
       "229"
      ]
     },
     "execution_count": 46,
     "metadata": {},
     "output_type": "execute_result"
    }
   ],
   "source": [
    "mode.indx_zref"
   ]
  },
  {
   "cell_type": "code",
   "execution_count": 47,
   "metadata": {},
   "outputs": [],
   "source": [
    "uz_fourier = mode.FT(uz_real[indx_t1:indx_t2,:,225], 'ortho')"
   ]
  },
  {
   "cell_type": "code",
   "execution_count": 48,
   "metadata": {},
   "outputs": [
    {
     "data": {
      "text/plain": [
       "(2479, 512)"
      ]
     },
     "execution_count": 48,
     "metadata": {},
     "output_type": "execute_result"
    }
   ],
   "source": [
    "uz_fourier.shape"
   ]
  },
  {
   "cell_type": "markdown",
   "metadata": {},
   "source": [
    "### we can construct the dimensionless quantity \n",
    "$$\\tilde{P}(\\omega,k_x)=\\frac{|\\hat{u}_z|}{D^2}$$"
   ]
  },
  {
   "cell_type": "code",
   "execution_count": 49,
   "metadata": {},
   "outputs": [],
   "source": [
    "logP = mode.logP(uz_fourier, mode.d)\n",
    "# logP"
   ]
  },
  {
   "cell_type": "code",
   "execution_count": 50,
   "metadata": {},
   "outputs": [
    {
     "data": {
      "text/plain": [
       "(2479, 512)"
      ]
     },
     "execution_count": 50,
     "metadata": {},
     "output_type": "execute_result"
    }
   ],
   "source": [
    "logP.shape"
   ]
  },
  {
   "cell_type": "code",
   "execution_count": 51,
   "metadata": {},
   "outputs": [],
   "source": [
    "aa = np.linspace(0, 10,200)"
   ]
  },
  {
   "cell_type": "code",
   "execution_count": 52,
   "metadata": {},
   "outputs": [],
   "source": [
    "k_tilde = mode.k_tilde()\n",
    "om_tilde = mode.omega_tilde(indx_t1, indx_t2)"
   ]
  },
  {
   "cell_type": "code",
   "execution_count": 53,
   "metadata": {},
   "outputs": [
    {
     "data": {
      "text/plain": [
       "(12.5663, 2.008)"
      ]
     },
     "execution_count": 53,
     "metadata": {},
     "output_type": "execute_result"
    }
   ],
   "source": [
    "mode.lx, mode.L0"
   ]
  },
  {
   "cell_type": "code",
   "execution_count": 54,
   "metadata": {},
   "outputs": [
    {
     "data": {
      "text/plain": [
       "(0.5000028096718673, 128.00071927599802)"
      ]
     },
     "execution_count": 54,
     "metadata": {},
     "output_type": "execute_result"
    }
   ],
   "source": [
    "k_tilde[1], np.max(k_tilde)"
   ]
  },
  {
   "cell_type": "code",
   "execution_count": 70,
   "metadata": {},
   "outputs": [
    {
     "name": "stderr",
     "output_type": "stream",
     "text": [
      "Locator attempting to generate 3430 ticks ([-16.614, ..., 3.960000000000001]), which exceeds Locator.MAXTICKS (1000).\n"
     ]
    },
    {
     "data": {
      "image/png": "[encoded data removed]",
      "text/plain": [
       "<Figure size 400x300 with 2 Axes>"
      ]
     },
     "metadata": {},
     "output_type": "display_data"
    }
   ],
   "source": [
    "fig = plt.figure(figsize=(4,3))#sharex=True,\n",
    "[X, Y] = np.meshgrid(k_tilde, om_tilde)\n",
    "#plt.contourf(X, Y, logP, 1500, cmap='inferno', vmin=np.min(logP), vmax=np.max(logP))\n",
    "plt.contourf(np.fft.fftshift(X), np.fft.fftshift(Y), np.fft.fftshift(logP), 4000, cmap='afmhot_r', vmin=np.min(logP), vmax=np.max(logP))\n",
    "# plt.plot(aa, np.sqrt(mode.gz*aa/(mode.omega0**2*mode.L0)), 'k')\n",
    "plt.plot(aa, np.sqrt(mode.gz*aa/(mode.omega0**2*mode.L0)*(1-mode.q)/(1+mode.q)), ls='dotted', c='k')\n",
    "plt.plot(k_tilde, mode.cs_d*k_tilde/(mode.omega0*mode.L0), ls='--', c='k', lw='1')\n",
    "plt.plot(k_tilde, mode.cs_u*k_tilde/(mode.omega0*mode.L0), ls=':', c='k', lw='1')\n",
    "plt.xlim(-2*np.pi,2*np.pi)\n",
    "plt.xlim(-10, 10)\n",
    "plt.ylim(-2*np.pi,2*np.pi)\n",
    "# plt.ylim(0,10)\n",
    "plt.colorbar()\n",
    "plt.xlabel(r\"$\\tilde{k_x}$\")\n",
    "plt.ylabel(r\"$\\tilde{\\omega}$\")\n",
    "plt.savefig('k_om.png')\n",
    "plt.show()"
   ]
  },
  {
   "cell_type": "markdown",
   "metadata": {},
   "source": [
    "## kinematic Phase"
   ]
  },
  {
   "cell_type": "code",
   "execution_count": 56,
   "metadata": {},
   "outputs": [
    {
     "data": {
      "text/plain": [
       "array([0.000000e+00, 1.860000e-01, 3.810000e-01, ..., 1.011215e+03,\n",
       "       1.011449e+03, 1.011683e+03])"
      ]
     },
     "execution_count": 56,
     "metadata": {},
     "output_type": "execute_result"
    }
   ],
   "source": [
    "ts.t"
   ]
  },
  {
   "cell_type": "code",
   "execution_count": 57,
   "metadata": {},
   "outputs": [
    {
     "data": {
      "text/plain": [
       "array([0.00000000e+00, 4.00797158e-01, 8.00029993e-01, ...,\n",
       "       1.01080096e+03, 1.01120148e+03, 1.01160132e+03], dtype=float32)"
      ]
     },
     "execution_count": 57,
     "metadata": {},
     "output_type": "execute_result"
    }
   ],
   "source": [
    "tt = yaver.t\n",
    "tt"
   ]
  },
  {
   "cell_type": "code",
   "execution_count": 58,
   "metadata": {},
   "outputs": [],
   "source": [
    "indx_kin_d = np.argmin(np.abs(yaver.t-100))\n",
    "indx_kin_u = np.argmin(np.abs(yaver.t-1500))"
   ]
  },
  {
   "cell_type": "code",
   "execution_count": 59,
   "metadata": {},
   "outputs": [
    {
     "data": {
      "image/png": "[encoded data removed]",
      "text/plain": [
       "<Figure size 1600x400 with 1 Axes>"
      ]
     },
     "metadata": {},
     "output_type": "display_data"
    }
   ],
   "source": [
    "fig = plt.figure(figsize=(16,4))\n",
    "plt.plot(ts.t, ts.urms, alpha=0.6)\n",
    "plt.axvline(x=yaver.t[indx_kin_d], c='k', ls=':')\n",
    "plt.axvline(x=yaver.t[indx_kin_u], c='k', ls=':')\n",
    "# plt.plot(t_fit, u_fit, '--r')\n",
    "plt.yscale('log')\n",
    "plt.xlim(0,)\n",
    "plt.xlabel(\"t\")\n",
    "plt.ylabel(r\"$u_{rms}$\")\n",
    "plt.show()"
   ]
  },
  {
   "cell_type": "code",
   "execution_count": 60,
   "metadata": {},
   "outputs": [
    {
     "data": {
      "text/plain": [
       "(2530, 512, 256)"
      ]
     },
     "execution_count": 60,
     "metadata": {},
     "output_type": "execute_result"
    }
   ],
   "source": [
    "uz_real.shape"
   ]
  },
  {
   "cell_type": "code",
   "execution_count": 61,
   "metadata": {},
   "outputs": [],
   "source": [
    "uz_fourier_kin = mode.FT(uz_real[indx_kin_d:indx_kin_u,:,212], 'ortho')\n",
    "logP_kin = mode.logP(uz_fourier_kin, mode.d)\n",
    "om_tilde_kin = mode.omega_tilde(indx_kin_d, indx_kin_u)"
   ]
  },
  {
   "cell_type": "code",
   "execution_count": 62,
   "metadata": {},
   "outputs": [],
   "source": [
    "# uz_fourier_kin"
   ]
  },
  {
   "cell_type": "code",
   "execution_count": 63,
   "metadata": {},
   "outputs": [
    {
     "data": {
      "text/plain": [
       "2279"
      ]
     },
     "execution_count": 63,
     "metadata": {},
     "output_type": "execute_result"
    }
   ],
   "source": [
    "kin_len = uz_real[indx_kin_d:indx_kin_u,:,225].shape[0]\n",
    "kin_len"
   ]
  },
  {
   "cell_type": "markdown",
   "metadata": {},
   "source": [
    "## saturated phase"
   ]
  },
  {
   "cell_type": "code",
   "execution_count": 64,
   "metadata": {},
   "outputs": [],
   "source": [
    "indx_sat_d = np.argmin(np.abs(tt-2550))\n",
    "indx_sat_u = -889"
   ]
  },
  {
   "cell_type": "code",
   "execution_count": 65,
   "metadata": {},
   "outputs": [
    {
     "data": {
      "text/plain": [
       "656.40015"
      ]
     },
     "execution_count": 65,
     "metadata": {},
     "output_type": "execute_result"
    }
   ],
   "source": [
    "len(tt)-889\n",
    "tt[-889]"
   ]
  },
  {
   "cell_type": "code",
   "execution_count": 66,
   "metadata": {},
   "outputs": [
    {
     "data": {
      "text/plain": [
       "0"
      ]
     },
     "execution_count": 66,
     "metadata": {},
     "output_type": "execute_result"
    }
   ],
   "source": [
    "sat_len = uz_real[indx_sat_d:indx_sat_u,:,225].shape[0]\n",
    "sat_len"
   ]
  },
  {
   "cell_type": "markdown",
   "metadata": {},
   "source": [
    "### we need to select data of same length from kinematic and saturated phase"
   ]
  },
  {
   "cell_type": "code",
   "execution_count": 67,
   "metadata": {},
   "outputs": [
    {
     "data": {
      "text/plain": [
       "False"
      ]
     },
     "execution_count": 67,
     "metadata": {},
     "output_type": "execute_result"
    }
   ],
   "source": [
    "kin_len == sat_len"
   ]
  },
  {
   "cell_type": "code",
   "execution_count": 68,
   "metadata": {},
   "outputs": [
    {
     "data": {
      "image/png": "[encoded data removed]",
      "text/plain": [
       "<Figure size 1600x400 with 1 Axes>"
      ]
     },
     "metadata": {},
     "output_type": "display_data"
    }
   ],
   "source": [
    "fig = plt.figure(figsize=(16,4))\n",
    "plt.plot(ts.t, ts.urms, alpha=0.6)\n",
    "plt.axvline(x=yaver.t[indx_sat_d], c='k', ls=':')\n",
    "plt.axvline(x=yaver.t[indx_sat_u], c='k', ls=':')\n",
    "# plt.plot(t_fit, u_fit, '--r')\n",
    "plt.yscale('log')\n",
    "plt.xlim(0,)\n",
    "plt.xlabel(\"t\")\n",
    "plt.ylabel(r\"$u_{rms}$\")\n",
    "plt.show()"
   ]
  },
  {
   "cell_type": "code",
   "execution_count": 69,
   "metadata": {},
   "outputs": [
    {
     "ename": "ValueError",
     "evalue": "Invalid number of FFT data points (0) specified.",
     "output_type": "error",
     "traceback": [
      "\u001b[0;31m---------------------------------------------------------------------------\u001b[0m",
      "\u001b[0;31mValueError\u001b[0m                                Traceback (most recent call last)",
      "Cell \u001b[0;32mIn[69], line 1\u001b[0m\n\u001b[0;32m----> 1\u001b[0m uz_fourier_sat \u001b[38;5;241m=\u001b[39m \u001b[43mmode\u001b[49m\u001b[38;5;241;43m.\u001b[39;49m\u001b[43mFT\u001b[49m\u001b[43m(\u001b[49m\u001b[43muz_real\u001b[49m\u001b[43m[\u001b[49m\u001b[43mindx_sat_d\u001b[49m\u001b[43m:\u001b[49m\u001b[43mindx_sat_u\u001b[49m\u001b[43m,\u001b[49m\u001b[43m:\u001b[49m\u001b[43m,\u001b[49m\u001b[38;5;241;43m225\u001b[39;49m\u001b[43m]\u001b[49m\u001b[43m,\u001b[49m\u001b[43m \u001b[49m\u001b[38;5;124;43m'\u001b[39;49m\u001b[38;5;124;43mortho\u001b[39;49m\u001b[38;5;124;43m'\u001b[39;49m\u001b[43m)\u001b[49m\n\u001b[1;32m      2\u001b[0m logP_sat \u001b[38;5;241m=\u001b[39m mode\u001b[38;5;241m.\u001b[39mlogP(uz_fourier_sat, mode\u001b[38;5;241m.\u001b[39md)\n\u001b[1;32m      3\u001b[0m om_tilde_sat \u001b[38;5;241m=\u001b[39m mode\u001b[38;5;241m.\u001b[39momega_tilde(indx_sat_d, indx_sat_u)\n",
      "File \u001b[0;32m/scratch/cmondal/pc_data/dynamo_modes/test_dir/dyn_modes_2l/modes.py:162\u001b[0m, in \u001b[0;36mModes.FT\u001b[0;34m(self, uz_real, norm)\u001b[0m\n\u001b[1;32m    157\u001b[0m \u001b[38;5;28;01mdef\u001b[39;00m \u001b[38;5;21mFT\u001b[39m(\u001b[38;5;28mself\u001b[39m, uz_real, norm: \u001b[38;5;28mstr\u001b[39m):\n\u001b[1;32m    158\u001b[0m \u001b[38;5;250m    \u001b[39m\u001b[38;5;124;03m\"\"\"\u001b[39;00m\n\u001b[1;32m    159\u001b[0m \u001b[38;5;124;03m    Calculate the fourier transform of u_z along the last\u001b[39;00m\n\u001b[1;32m    160\u001b[0m \u001b[38;5;124;03m    two axis i.e., axes=(-2,-1)\u001b[39;00m\n\u001b[1;32m    161\u001b[0m \u001b[38;5;124;03m    \"\"\"\u001b[39;00m\n\u001b[0;32m--> 162\u001b[0m     \u001b[38;5;28;01mreturn\u001b[39;00m \u001b[43mnp\u001b[49m\u001b[38;5;241;43m.\u001b[39;49m\u001b[43mfft\u001b[49m\u001b[38;5;241;43m.\u001b[39;49m\u001b[43mfftn\u001b[49m\u001b[43m(\u001b[49m\u001b[43muz_real\u001b[49m\u001b[43m,\u001b[49m\u001b[43m \u001b[49m\u001b[43ms\u001b[49m\u001b[38;5;241;43m=\u001b[39;49m\u001b[38;5;28;43;01mNone\u001b[39;49;00m\u001b[43m,\u001b[49m\u001b[43m \u001b[49m\u001b[43maxes\u001b[49m\u001b[38;5;241;43m=\u001b[39;49m\u001b[43m(\u001b[49m\u001b[38;5;241;43m-\u001b[39;49m\u001b[38;5;241;43m2\u001b[39;49m\u001b[43m,\u001b[49m\u001b[43m \u001b[49m\u001b[38;5;241;43m-\u001b[39;49m\u001b[38;5;241;43m1\u001b[39;49m\u001b[43m)\u001b[49m\u001b[43m,\u001b[49m\u001b[43m \u001b[49m\u001b[43mnorm\u001b[49m\u001b[38;5;241;43m=\u001b[39;49m\u001b[43mnorm\u001b[49m\u001b[43m)\u001b[49m\n",
      "File \u001b[0;32m~/miniconda3/envs/env_pencil/lib/python3.11/site-packages/numpy/fft/_pocketfft.py:815\u001b[0m, in \u001b[0;36mfftn\u001b[0;34m(a, s, axes, norm)\u001b[0m\n\u001b[1;32m    715\u001b[0m \u001b[38;5;129m@array_function_dispatch\u001b[39m(_fftn_dispatcher)\n\u001b[1;32m    716\u001b[0m \u001b[38;5;28;01mdef\u001b[39;00m \u001b[38;5;21mfftn\u001b[39m(a, s\u001b[38;5;241m=\u001b[39m\u001b[38;5;28;01mNone\u001b[39;00m, axes\u001b[38;5;241m=\u001b[39m\u001b[38;5;28;01mNone\u001b[39;00m, norm\u001b[38;5;241m=\u001b[39m\u001b[38;5;28;01mNone\u001b[39;00m):\n\u001b[1;32m    717\u001b[0m \u001b[38;5;250m    \u001b[39m\u001b[38;5;124;03m\"\"\"\u001b[39;00m\n\u001b[1;32m    718\u001b[0m \u001b[38;5;124;03m    Compute the N-dimensional discrete Fourier Transform.\u001b[39;00m\n\u001b[1;32m    719\u001b[0m \n\u001b[0;32m   (...)\u001b[0m\n\u001b[1;32m    813\u001b[0m \n\u001b[1;32m    814\u001b[0m \u001b[38;5;124;03m    \"\"\"\u001b[39;00m\n\u001b[0;32m--> 815\u001b[0m     \u001b[38;5;28;01mreturn\u001b[39;00m \u001b[43m_raw_fftnd\u001b[49m\u001b[43m(\u001b[49m\u001b[43ma\u001b[49m\u001b[43m,\u001b[49m\u001b[43m \u001b[49m\u001b[43ms\u001b[49m\u001b[43m,\u001b[49m\u001b[43m \u001b[49m\u001b[43maxes\u001b[49m\u001b[43m,\u001b[49m\u001b[43m \u001b[49m\u001b[43mfft\u001b[49m\u001b[43m,\u001b[49m\u001b[43m \u001b[49m\u001b[43mnorm\u001b[49m\u001b[43m)\u001b[49m\n",
      "File \u001b[0;32m~/miniconda3/envs/env_pencil/lib/python3.11/site-packages/numpy/fft/_pocketfft.py:707\u001b[0m, in \u001b[0;36m_raw_fftnd\u001b[0;34m(a, s, axes, function, norm)\u001b[0m\n\u001b[1;32m    705\u001b[0m itl\u001b[38;5;241m.\u001b[39mreverse()\n\u001b[1;32m    706\u001b[0m \u001b[38;5;28;01mfor\u001b[39;00m ii \u001b[38;5;129;01min\u001b[39;00m itl:\n\u001b[0;32m--> 707\u001b[0m     a \u001b[38;5;241m=\u001b[39m \u001b[43mfunction\u001b[49m\u001b[43m(\u001b[49m\u001b[43ma\u001b[49m\u001b[43m,\u001b[49m\u001b[43m \u001b[49m\u001b[43mn\u001b[49m\u001b[38;5;241;43m=\u001b[39;49m\u001b[43ms\u001b[49m\u001b[43m[\u001b[49m\u001b[43mii\u001b[49m\u001b[43m]\u001b[49m\u001b[43m,\u001b[49m\u001b[43m \u001b[49m\u001b[43maxis\u001b[49m\u001b[38;5;241;43m=\u001b[39;49m\u001b[43maxes\u001b[49m\u001b[43m[\u001b[49m\u001b[43mii\u001b[49m\u001b[43m]\u001b[49m\u001b[43m,\u001b[49m\u001b[43m \u001b[49m\u001b[43mnorm\u001b[49m\u001b[38;5;241;43m=\u001b[39;49m\u001b[43mnorm\u001b[49m\u001b[43m)\u001b[49m\n\u001b[1;32m    708\u001b[0m \u001b[38;5;28;01mreturn\u001b[39;00m a\n",
      "File \u001b[0;32m~/miniconda3/envs/env_pencil/lib/python3.11/site-packages/numpy/fft/_pocketfft.py:214\u001b[0m, in \u001b[0;36mfft\u001b[0;34m(a, n, axis, norm)\u001b[0m\n\u001b[1;32m    212\u001b[0m \u001b[38;5;28;01mif\u001b[39;00m n \u001b[38;5;129;01mis\u001b[39;00m \u001b[38;5;28;01mNone\u001b[39;00m:\n\u001b[1;32m    213\u001b[0m     n \u001b[38;5;241m=\u001b[39m a\u001b[38;5;241m.\u001b[39mshape[axis]\n\u001b[0;32m--> 214\u001b[0m inv_norm \u001b[38;5;241m=\u001b[39m \u001b[43m_get_forward_norm\u001b[49m\u001b[43m(\u001b[49m\u001b[43mn\u001b[49m\u001b[43m,\u001b[49m\u001b[43m \u001b[49m\u001b[43mnorm\u001b[49m\u001b[43m)\u001b[49m\n\u001b[1;32m    215\u001b[0m output \u001b[38;5;241m=\u001b[39m _raw_fft(a, n, axis, \u001b[38;5;28;01mFalse\u001b[39;00m, \u001b[38;5;28;01mTrue\u001b[39;00m, inv_norm)\n\u001b[1;32m    216\u001b[0m \u001b[38;5;28;01mreturn\u001b[39;00m output\n",
      "File \u001b[0;32m~/miniconda3/envs/env_pencil/lib/python3.11/site-packages/numpy/fft/_pocketfft.py:80\u001b[0m, in \u001b[0;36m_get_forward_norm\u001b[0;34m(n, norm)\u001b[0m\n\u001b[1;32m     78\u001b[0m \u001b[38;5;28;01mdef\u001b[39;00m \u001b[38;5;21m_get_forward_norm\u001b[39m(n, norm):\n\u001b[1;32m     79\u001b[0m     \u001b[38;5;28;01mif\u001b[39;00m n \u001b[38;5;241m<\u001b[39m \u001b[38;5;241m1\u001b[39m:\n\u001b[0;32m---> 80\u001b[0m         \u001b[38;5;28;01mraise\u001b[39;00m \u001b[38;5;167;01mValueError\u001b[39;00m(\u001b[38;5;124mf\u001b[39m\u001b[38;5;124m\"\u001b[39m\u001b[38;5;124mInvalid number of FFT data points (\u001b[39m\u001b[38;5;132;01m{\u001b[39;00mn\u001b[38;5;132;01m}\u001b[39;00m\u001b[38;5;124m) specified.\u001b[39m\u001b[38;5;124m\"\u001b[39m)\n\u001b[1;32m     82\u001b[0m     \u001b[38;5;28;01mif\u001b[39;00m norm \u001b[38;5;129;01mis\u001b[39;00m \u001b[38;5;28;01mNone\u001b[39;00m \u001b[38;5;129;01mor\u001b[39;00m norm \u001b[38;5;241m==\u001b[39m \u001b[38;5;124m\"\u001b[39m\u001b[38;5;124mbackward\u001b[39m\u001b[38;5;124m\"\u001b[39m:\n\u001b[1;32m     83\u001b[0m         \u001b[38;5;28;01mreturn\u001b[39;00m \u001b[38;5;241m1\u001b[39m\n",
      "\u001b[0;31mValueError\u001b[0m: Invalid number of FFT data points (0) specified."
     ]
    }
   ],
   "source": [
    "uz_fourier_sat = mode.FT(uz_real[indx_sat_d:indx_sat_u,:,225], 'ortho')\n",
    "logP_sat = mode.logP(uz_fourier_sat, mode.d)\n",
    "om_tilde_sat = mode.omega_tilde(indx_sat_d, indx_sat_u)"
   ]
  },
  {
   "cell_type": "code",
   "execution_count": null,
   "metadata": {},
   "outputs": [
    {
     "ename": "",
     "evalue": "",
     "output_type": "error",
     "traceback": [
      "\u001b[1;31mFailed to start the Kernel. \n",
      "\u001b[1;31mzmq.error.ZMQError: Address already in use (addr='tcp://127.0.0.1:9052'). \n",
      "\u001b[1;31mView Jupyter <a href='command:jupyter.viewOutput'>log</a> for further details."
     ]
    }
   ],
   "source": [
    "indx_k_1 = np.argmin(np.abs(k_tilde - 1))"
   ]
  },
  {
   "cell_type": "markdown",
   "metadata": {},
   "source": [
    "### finding $\\tilde{P}(\\tilde{\\omega},\\tilde{k}_x=2)$"
   ]
  },
  {
   "cell_type": "code",
   "execution_count": null,
   "metadata": {},
   "outputs": [
    {
     "ename": "",
     "evalue": "",
     "output_type": "error",
     "traceback": [
      "\u001b[1;31mFailed to start the Kernel. \n",
      "\u001b[1;31mzmq.error.ZMQError: Address already in use (addr='tcp://127.0.0.1:9052'). \n",
      "\u001b[1;31mView Jupyter <a href='command:jupyter.viewOutput'>log</a> for further details."
     ]
    }
   ],
   "source": [
    "indx_k_1 = np.argmin(np.abs(k_tilde - 1))\n",
    "k_1 = round(k_tilde[indx_k_1],3)"
   ]
  },
  {
   "cell_type": "code",
   "execution_count": null,
   "metadata": {},
   "outputs": [
    {
     "ename": "",
     "evalue": "",
     "output_type": "error",
     "traceback": [
      "\u001b[1;31mFailed to start the Kernel. \n",
      "\u001b[1;31mzmq.error.ZMQError: Address already in use (addr='tcp://127.0.0.1:9052'). \n",
      "\u001b[1;31mView Jupyter <a href='command:jupyter.viewOutput'>log</a> for further details."
     ]
    }
   ],
   "source": [
    "k_1, indx_k_1"
   ]
  },
  {
   "cell_type": "code",
   "execution_count": null,
   "metadata": {},
   "outputs": [
    {
     "ename": "",
     "evalue": "",
     "output_type": "error",
     "traceback": [
      "\u001b[1;31mFailed to start the Kernel. \n",
      "\u001b[1;31mzmq.error.ZMQError: Address already in use (addr='tcp://127.0.0.1:9052'). \n",
      "\u001b[1;31mView Jupyter <a href='command:jupyter.viewOutput'>log</a> for further details."
     ]
    }
   ],
   "source": [
    "k_tilde[indx_k_1]"
   ]
  },
  {
   "cell_type": "code",
   "execution_count": null,
   "metadata": {},
   "outputs": [
    {
     "ename": "",
     "evalue": "",
     "output_type": "error",
     "traceback": [
      "\u001b[1;31mFailed to start the Kernel. \n",
      "\u001b[1;31mzmq.error.ZMQError: Address already in use (addr='tcp://127.0.0.1:9052'). \n",
      "\u001b[1;31mView Jupyter <a href='command:jupyter.viewOutput'>log</a> for further details."
     ]
    }
   ],
   "source": [
    "indx_kin = mode.upto(indx_kin_d, indx_kin_u)\n",
    "indx_sat = mode.upto(indx_sat_d, indx_sat_u)"
   ]
  },
  {
   "cell_type": "code",
   "execution_count": null,
   "metadata": {},
   "outputs": [
    {
     "ename": "",
     "evalue": "",
     "output_type": "error",
     "traceback": [
      "\u001b[1;31mFailed to start the Kernel. \n",
      "\u001b[1;31mzmq.error.ZMQError: Address already in use (addr='tcp://127.0.0.1:9052'). \n",
      "\u001b[1;31mView Jupyter <a href='command:jupyter.viewOutput'>log</a> for further details."
     ]
    }
   ],
   "source": [
    "indx_kin"
   ]
  },
  {
   "cell_type": "code",
   "execution_count": null,
   "metadata": {},
   "outputs": [
    {
     "ename": "",
     "evalue": "",
     "output_type": "error",
     "traceback": [
      "\u001b[1;31mFailed to start the Kernel. \n",
      "\u001b[1;31mzmq.error.ZMQError: Address already in use (addr='tcp://127.0.0.1:9052'). \n",
      "\u001b[1;31mView Jupyter <a href='command:jupyter.viewOutput'>log</a> for further details."
     ]
    }
   ],
   "source": [
    "P_k1_kin = np.exp(logP_kin[:indx_kin,indx_k_1])\n",
    "P_k1_sat = np.exp(logP_sat[:indx_sat,indx_k_1])"
   ]
  },
  {
   "cell_type": "markdown",
   "metadata": {},
   "source": [
    "### plotting $\\tilde{P}(\\tilde{\\omega},\\tilde{k}_x=2.36)$ as a function of $\\tilde{\\omega}$"
   ]
  },
  {
   "cell_type": "code",
   "execution_count": null,
   "metadata": {},
   "outputs": [
    {
     "ename": "",
     "evalue": "",
     "output_type": "error",
     "traceback": [
      "\u001b[1;31mFailed to start the Kernel. \n",
      "\u001b[1;31mzmq.error.ZMQError: Address already in use (addr='tcp://127.0.0.1:9052'). \n",
      "\u001b[1;31mView Jupyter <a href='command:jupyter.viewOutput'>log</a> for further details."
     ]
    }
   ],
   "source": [
    "fig, axs = plt.subplots(2,1, sharex=True, sharey=True, figsize=(16,8))#sharex=True,\n",
    "\n",
    "axs[0].plot(om_tilde_kin[:indx_kin], P_k1_kin[:], label='kinematic')\n",
    "axs[0].grid()\n",
    "# axs[0].set_xlim(0, 6)\n",
    "axs[0].set_ylim(0,)\n",
    "axs[0].legend()\n",
    "\n",
    "axs[1].plot(om_tilde_sat[:indx_sat], P_k1_sat[:], label='saturated')\n",
    "axs[1].grid()\n",
    "axs[1].set_xlim(0, om_tilde_sat[indx_sat-1])\n",
    "axs[1].set_ylim(0,)\n",
    "axs[1].legend()\n",
    "\n",
    "# plt.axvline(x=idl_f_kin)\n",
    "# plt.axvline(x=idu_f_kin)\n",
    "plt.xlabel(r\"$\\tilde{\\omega}$\")\n",
    "fig.supylabel(r\"$\\tilde{P}(\\tilde{\\omega})$\")\n",
    "plt.suptitle(fr\"for $\\tilde{{k}}_x={k_1}$\")\n",
    "plt.tight_layout()\n",
    "plt.show()"
   ]
  },
  {
   "cell_type": "markdown",
   "metadata": {},
   "source": [
    "### smoothing data"
   ]
  },
  {
   "cell_type": "code",
   "execution_count": null,
   "metadata": {},
   "outputs": [
    {
     "ename": "",
     "evalue": "",
     "output_type": "error",
     "traceback": [
      "\u001b[1;31mFailed to start the Kernel. \n",
      "\u001b[1;31mzmq.error.ZMQError: Address already in use (addr='tcp://127.0.0.1:9052'). \n",
      "\u001b[1;31mView Jupyter <a href='command:jupyter.viewOutput'>log</a> for further details."
     ]
    }
   ],
   "source": [
    "mode.L0"
   ]
  },
  {
   "cell_type": "code",
   "execution_count": null,
   "metadata": {},
   "outputs": [
    {
     "ename": "",
     "evalue": "",
     "output_type": "error",
     "traceback": [
      "\u001b[1;31mFailed to start the Kernel. \n",
      "\u001b[1;31mzmq.error.ZMQError: Address already in use (addr='tcp://127.0.0.1:9052'). \n",
      "\u001b[1;31mView Jupyter <a href='command:jupyter.viewOutput'>log</a> for further details."
     ]
    }
   ],
   "source": [
    "P_k1_kin_filt = gaussian_filter(P_k1_kin[:indx_kin],3)\n",
    "P_k1_sat_filt = gaussian_filter(P_k1_sat[:indx_sat],3)"
   ]
  },
  {
   "cell_type": "code",
   "execution_count": null,
   "metadata": {},
   "outputs": [
    {
     "ename": "",
     "evalue": "",
     "output_type": "error",
     "traceback": [
      "\u001b[1;31mFailed to start the Kernel. \n",
      "\u001b[1;31mzmq.error.ZMQError: Address already in use (addr='tcp://127.0.0.1:9052'). \n",
      "\u001b[1;31mView Jupyter <a href='command:jupyter.viewOutput'>log</a> for further details."
     ]
    }
   ],
   "source": [
    "fig, axs = plt.subplots(2,1, sharex=True, sharey=True, figsize=(16,8))#sharex=True,\n",
    "\n",
    "axs[0].plot(om_tilde_kin[:indx_kin], P_k1_kin, alpha=0.6, label='kinematic')\n",
    "axs[0].plot(om_tilde_kin[:indx_kin], P_k1_kin_filt, label='filtered')\n",
    "axs[0].grid()\n",
    "# axs[0].set_xlim(0, 6)\n",
    "axs[0].set_ylim(0,)\n",
    "axs[0].legend()\n",
    "\n",
    "axs[1].plot(om_tilde_sat[:indx_sat], P_k1_sat, alpha=0.6, label='saturated')\n",
    "axs[1].plot(om_tilde_sat[:indx_sat], P_k1_sat_filt, label='filtered')\n",
    "axs[1].grid()\n",
    "axs[1].set_xlim(0, om_tilde_sat[indx_sat-1])\n",
    "axs[1].set_ylim(0,)\n",
    "axs[1].legend()\n",
    "\n",
    "plt.xlabel(r\"$\\tilde{\\omega}$\")\n",
    "fig.supylabel(r\"$\\tilde{P}(\\tilde{\\omega})$\")\n",
    "plt.suptitle(fr\"for $\\tilde{{k}}_x={k_1}$\")\n",
    "plt.tight_layout()\n",
    "plt.show()"
   ]
  },
  {
   "cell_type": "code",
   "execution_count": null,
   "metadata": {},
   "outputs": [
    {
     "ename": "",
     "evalue": "",
     "output_type": "error",
     "traceback": [
      "\u001b[1;31mFailed to start the Kernel. \n",
      "\u001b[1;31mzmq.error.ZMQError: Address already in use (addr='tcp://127.0.0.1:9052'). \n",
      "\u001b[1;31mView Jupyter <a href='command:jupyter.viewOutput'>log</a> for further details."
     ]
    }
   ],
   "source": [
    "mode.q"
   ]
  },
  {
   "cell_type": "code",
   "execution_count": null,
   "metadata": {},
   "outputs": [
    {
     "ename": "",
     "evalue": "",
     "output_type": "error",
     "traceback": [
      "\u001b[1;31mFailed to start the Kernel. \n",
      "\u001b[1;31mzmq.error.ZMQError: Address already in use (addr='tcp://127.0.0.1:9052'). \n",
      "\u001b[1;31mView Jupyter <a href='command:jupyter.viewOutput'>log</a> for further details."
     ]
    }
   ],
   "source": [
    "f_om = round(mode.fmodes(k_1),3)\n",
    "p_om_0 = round(mode.pmodes(k_1,0),3)\n",
    "p_om_1 = round(mode.pmodes(k_1,1),3)\n",
    "p_om_2 = round(mode.pmodes(k_1,2),3)\n",
    "p_om_3 = round(mode.pmodes(k_1,3),3)\n",
    "p_om_4 = round(mode.pmodes(k_1,4),3)\n",
    "p_om = []\n",
    "for i in range(5):\n",
    "    exec(f'p_om.append(p_om_{i})')"
   ]
  },
  {
   "cell_type": "code",
   "execution_count": null,
   "metadata": {},
   "outputs": [
    {
     "ename": "",
     "evalue": "",
     "output_type": "error",
     "traceback": [
      "\u001b[1;31mFailed to start the Kernel. \n",
      "\u001b[1;31mzmq.error.ZMQError: Address already in use (addr='tcp://127.0.0.1:9052'). \n",
      "\u001b[1;31mView Jupyter <a href='command:jupyter.viewOutput'>log</a> for further details."
     ]
    }
   ],
   "source": [
    "# f_om = round(mode.fmodes(0.392),3)\n",
    "# p_om_0 = round(mode.pmodes_test(0.392,0),3)\n",
    "# p_om_1 = round(mode.pmodes(0.392,1),3)\n",
    "# p_om_2 = round(mode.pmodes(0.392,2),3)\n",
    "# p_om_3 = round(mode.pmodes(0.392,3),3)\n",
    "# p_om_4 = round(mode.pmodes(0.392,4),3)\n",
    "# p_om = []\n",
    "# for i in range(5):\n",
    "#     exec(f'p_om.append(p_om_{i})')"
   ]
  },
  {
   "cell_type": "code",
   "execution_count": null,
   "metadata": {},
   "outputs": [
    {
     "ename": "",
     "evalue": "",
     "output_type": "error",
     "traceback": [
      "\u001b[1;31mFailed to start the Kernel. \n",
      "\u001b[1;31mzmq.error.ZMQError: Address already in use (addr='tcp://127.0.0.1:9052'). \n",
      "\u001b[1;31mView Jupyter <a href='command:jupyter.viewOutput'>log</a> for further details."
     ]
    }
   ],
   "source": [
    "mode.pmodes_test(k_1,0)"
   ]
  },
  {
   "cell_type": "code",
   "execution_count": null,
   "metadata": {},
   "outputs": [
    {
     "ename": "",
     "evalue": "",
     "output_type": "error",
     "traceback": [
      "\u001b[1;31mFailed to start the Kernel. \n",
      "\u001b[1;31mzmq.error.ZMQError: Address already in use (addr='tcp://127.0.0.1:9052'). \n",
      "\u001b[1;31mView Jupyter <a href='command:jupyter.viewOutput'>log</a> for further details."
     ]
    }
   ],
   "source": [
    "mode.pmodes(k_1,0), mode.pmodes(0.392,0)"
   ]
  },
  {
   "cell_type": "code",
   "execution_count": null,
   "metadata": {},
   "outputs": [
    {
     "ename": "",
     "evalue": "",
     "output_type": "error",
     "traceback": [
      "\u001b[1;31mFailed to start the Kernel. \n",
      "\u001b[1;31mzmq.error.ZMQError: Address already in use (addr='tcp://127.0.0.1:9052'). \n",
      "\u001b[1;31mView Jupyter <a href='command:jupyter.viewOutput'>log</a> for further details."
     ]
    }
   ],
   "source": [
    "display(Latex(fr'$\\omega_f$ = {f_om}'))\n",
    "display(Latex(fr'$\\omega_{{p0}}$ = {p_om_0}'))\n",
    "display(Latex(fr'$\\omega_{{p1}}$ = {p_om_1}'))\n",
    "display(Latex(fr'$\\omega_{{p2}}$ = {p_om_2}'))\n",
    "display(Latex(fr'$\\omega_{{p3}}$ = {p_om_3}'))\n",
    "display(Latex(fr'$\\omega_{{p4}}$ = {p_om_4}'))"
   ]
  },
  {
   "cell_type": "code",
   "execution_count": null,
   "metadata": {},
   "outputs": [
    {
     "ename": "",
     "evalue": "",
     "output_type": "error",
     "traceback": [
      "\u001b[1;31mFailed to start the Kernel. \n",
      "\u001b[1;31mzmq.error.ZMQError: Address already in use (addr='tcp://127.0.0.1:9052'). \n",
      "\u001b[1;31mView Jupyter <a href='command:jupyter.viewOutput'>log</a> for further details."
     ]
    }
   ],
   "source": []
  },
  {
   "cell_type": "code",
   "execution_count": null,
   "metadata": {},
   "outputs": [
    {
     "ename": "",
     "evalue": "",
     "output_type": "error",
     "traceback": [
      "\u001b[1;31mFailed to start the Kernel. \n",
      "\u001b[1;31mzmq.error.ZMQError: Address already in use (addr='tcp://127.0.0.1:9052'). \n",
      "\u001b[1;31mView Jupyter <a href='command:jupyter.viewOutput'>log</a> for further details."
     ]
    }
   ],
   "source": [
    "mode.omega0, mode.gz, mode.cs_d"
   ]
  },
  {
   "cell_type": "code",
   "execution_count": null,
   "metadata": {},
   "outputs": [
    {
     "ename": "",
     "evalue": "",
     "output_type": "error",
     "traceback": [
      "\u001b[1;31mFailed to start the Kernel. \n",
      "\u001b[1;31mzmq.error.ZMQError: Address already in use (addr='tcp://127.0.0.1:9052'). \n",
      "\u001b[1;31mView Jupyter <a href='command:jupyter.viewOutput'>log</a> for further details."
     ]
    }
   ],
   "source": [
    "mode.cs_d, mode.gz"
   ]
  },
  {
   "cell_type": "code",
   "execution_count": null,
   "metadata": {},
   "outputs": [
    {
     "ename": "",
     "evalue": "",
     "output_type": "error",
     "traceback": [
      "\u001b[1;31mFailed to start the Kernel. \n",
      "\u001b[1;31mzmq.error.ZMQError: Address already in use (addr='tcp://127.0.0.1:9052'). \n",
      "\u001b[1;31mView Jupyter <a href='command:jupyter.viewOutput'>log</a> for further details."
     ]
    }
   ],
   "source": [
    "mode.lz"
   ]
  },
  {
   "cell_type": "code",
   "execution_count": null,
   "metadata": {},
   "outputs": [
    {
     "ename": "",
     "evalue": "",
     "output_type": "error",
     "traceback": [
      "\u001b[1;31mFailed to start the Kernel. \n",
      "\u001b[1;31mzmq.error.ZMQError: Address already in use (addr='tcp://127.0.0.1:9052'). \n",
      "\u001b[1;31mView Jupyter <a href='command:jupyter.viewOutput'>log</a> for further details."
     ]
    }
   ],
   "source": [
    "fig, axs = plt.subplots(2,1, sharex=True, sharey=True, figsize=(16,8))#sharex=True,\n",
    "\n",
    "# axs[0].plot(om_tilde_kin[:indx_kin], P_k1_kin, c='k', alpha=0.4, label='kinematic')\n",
    "axs[0].plot(om_tilde_kin[:indx_kin], P_k1_kin_filt, c='C1', label='filtered')\n",
    "axs[0].axvline(x=f_om, ls=':', c='b')\n",
    "for i in range(5):\n",
    "    axs[0].axvline(x=p_om[i], ls=':', c='r')\n",
    "# axs[0].axvline(x=mode.cs_u*k_1/(mode.L0*mode.omega0), ls='--', c='g')\n",
    "axs[0].axvline(x=mode.cs_u*k_1/(mode.L0*mode.omega0), ls='--', c='g')\n",
    "# axs[0].grid()\n",
    "# axs[0].set_xlim(0, 6)\n",
    "axs[0].set_ylim(0,)\n",
    "axs[0].legend()\n",
    "\n",
    "# axs[1].plot(om_tilde_sat[:indx_sat], P_k1_sat, c='k', alpha=0.4, label='saturated')\n",
    "axs[1].plot(om_tilde_sat[:indx_sat], P_k1_sat_filt, c='C1', label='filtered')\n",
    "axs[1].axvline(x=f_om, ls=':', c='b')\n",
    "for i in range(5):\n",
    "    axs[1].axvline(x=p_om[i], ls=':', c='r')\n",
    "axs[1].axvline(x=mode.cs_u*k_1/(mode.L0*mode.omega0), ls='--', c='g')\n",
    "# axs[1].grid()\n",
    "axs[1].set_xlim(0, om_tilde_sat[indx_sat-1])\n",
    "axs[1].set_ylim(0,)\n",
    "axs[1].legend()\n",
    "\n",
    "plt.xlabel(r\"$\\tilde{\\omega}$\")\n",
    "fig.supylabel(r\"$\\tilde{P}(\\tilde{\\omega})$\")\n",
    "plt.suptitle(fr\"for $\\tilde{{k}}_x={k_1}$\")\n",
    "#plt.yscale('log')\n",
    "plt.tight_layout()\n",
    "plt.show()"
   ]
  },
  {
   "cell_type": "markdown",
   "metadata": {},
   "source": [
    "## P-modes"
   ]
  },
  {
   "cell_type": "markdown",
   "metadata": {},
   "source": [
    "### for kinematic phase"
   ]
  },
  {
   "cell_type": "markdown",
   "metadata": {},
   "source": [
    "index of p-modes"
   ]
  },
  {
   "cell_type": "code",
   "execution_count": null,
   "metadata": {},
   "outputs": [
    {
     "ename": "",
     "evalue": "",
     "output_type": "error",
     "traceback": [
      "\u001b[1;31mFailed to start the Kernel. \n",
      "\u001b[1;31mzmq.error.ZMQError: Address already in use (addr='tcp://127.0.0.1:9052'). \n",
      "\u001b[1;31mView Jupyter <a href='command:jupyter.viewOutput'>log</a> for further details."
     ]
    }
   ],
   "source": [
    "index_kin = mode.mode_finder(om_tilde_kin[:indx_kin], P_k1_kin, False, thres=0.2, min_dist=200)\n",
    "mode_index_kin = np.array([])\n",
    "# for i in range(len(index_kin)):\n",
    "i = 0\n",
    "while index_kin[i]<300:\n",
    "        index_kin = np.delete(index_kin, i)\n",
    "        # i += i+1\n",
    "mode_index_kin = index_kin\n",
    "        \n",
    "lb_kin = [130, 130, 130, 130, 120]\n",
    "ub_kin = [130, 130, 130, 130, 120]\n",
    "\n",
    "indx_list_kin = []\n",
    "om_mode_kin = []\n",
    "for i in range(0,len(mode_index_kin)-2):\n",
    "    indx_list_kin.append(mode.mode_indx(mode_index_kin[i], lb_kin[i], ub_kin[i]))\n",
    "    om_mode_kin.append(om_tilde_kin[indx_list_kin[i]['lb']:indx_list_kin[i]['ub']])\n",
    "# lb[0], lb[-1], mode_index"
   ]
  },
  {
   "cell_type": "code",
   "execution_count": null,
   "metadata": {},
   "outputs": [
    {
     "ename": "",
     "evalue": "",
     "output_type": "error",
     "traceback": [
      "\u001b[1;31mFailed to start the Kernel. \n",
      "\u001b[1;31mzmq.error.ZMQError: Address already in use (addr='tcp://127.0.0.1:9052'). \n",
      "\u001b[1;31mView Jupyter <a href='command:jupyter.viewOutput'>log</a> for further details."
     ]
    }
   ],
   "source": [
    "# p_mode = []\n",
    "# for i in range(5):\n",
    "#     p_mode.append(mode.mode_data1(P_k1_kin, om_tilde_kin[:indx_kin], mode_index[i],130,130))"
   ]
  },
  {
   "cell_type": "code",
   "execution_count": null,
   "metadata": {},
   "outputs": [
    {
     "ename": "",
     "evalue": "",
     "output_type": "error",
     "traceback": [
      "\u001b[1;31mFailed to start the Kernel. \n",
      "\u001b[1;31mzmq.error.ZMQError: Address already in use (addr='tcp://127.0.0.1:9052'). \n",
      "\u001b[1;31mView Jupyter <a href='command:jupyter.viewOutput'>log</a> for further details."
     ]
    }
   ],
   "source": [
    "p_mode_kin = []\n",
    "for i in range(len(mode_index_kin)-2):\n",
    "    p_mode_kin.append(mode.mode_data(P_k1_kin, om_tilde_kin[:indx_kin], indx_list_kin[i]))"
   ]
  },
  {
   "cell_type": "code",
   "execution_count": null,
   "metadata": {},
   "outputs": [
    {
     "ename": "",
     "evalue": "",
     "output_type": "error",
     "traceback": [
      "\u001b[1;31mFailed to start the Kernel. \n",
      "\u001b[1;31mzmq.error.ZMQError: Address already in use (addr='tcp://127.0.0.1:9052'). \n",
      "\u001b[1;31mView Jupyter <a href='command:jupyter.viewOutput'>log</a> for further details."
     ]
    }
   ],
   "source": [
    "i = 0\n",
    "fig, axs = plt.subplots(2,2, sharey=True, figsize=(16,8))\n",
    "\n",
    "axs[0,0].plot(p_mode_kin[i]['x'], p_mode_kin[i]['y'], alpha=0.6, label=fr\"$\\tilde{{\\omega}}={p_om[i]}$\")\n",
    "axs[0,0].plot(om_mode_kin[i], P_k1_kin_filt[indx_list_kin[i]['lb']:indx_list_kin[i]['ub']], label='filttered')\n",
    "# axs[0,0].axvline(x = om_tilde_kin[mode_index_kin[1]])\n",
    "axs[0,0].legend()\n",
    "axs[0,1].plot(p_mode_kin[i+1]['x'], p_mode_kin[i+1]['y'], alpha=0.6, label=fr\"$\\tilde{{\\omega}}={p_om[i+1]}$\")\n",
    "axs[0,1].plot(om_mode_kin[i+1], P_k1_kin_filt[indx_list_kin[i+1]['lb']:indx_list_kin[i+1]['ub']], label='filttered')\n",
    "axs[0,1].legend()\n",
    "axs[1,0].plot(p_mode_kin[i+2]['x'], p_mode_kin[i+2]['y'], alpha=0.6, label=fr\"$\\tilde{{\\omega}}={p_om[i+2]}$\")\n",
    "axs[1,0].plot(om_mode_kin[i+2], P_k1_kin_filt[indx_list_kin[i+2]['lb']:indx_list_kin[i+2]['ub']], label='filttered')\n",
    "axs[1,0].legend()\n",
    "axs[1,1].plot(p_mode_kin[i+3]['x'], p_mode_kin[i+3]['y'], alpha=0.6, label=fr\"$\\tilde{{\\omega}}={p_om[i+3]}$\")\n",
    "axs[1,1].plot(om_mode_kin[i+3], P_k1_kin_filt[indx_list_kin[i+3]['lb']:indx_list_kin[i+3]['ub']], label='filttered')\n",
    "axs[1,1].legend()\n",
    "\n",
    "plt.suptitle('p-modes for kinetic phase')\n",
    "fig.supxlabel(r\"$\\tilde{\\omega}$\")\n",
    "fig.supylabel(r\"$\\tilde{P}(\\tilde{\\omega})$\")\n",
    "plt.tight_layout()\n",
    "plt.show()"
   ]
  },
  {
   "cell_type": "markdown",
   "metadata": {},
   "source": [
    "### fitting"
   ]
  },
  {
   "cell_type": "code",
   "execution_count": null,
   "metadata": {},
   "outputs": [
    {
     "ename": "",
     "evalue": "",
     "output_type": "error",
     "traceback": [
      "\u001b[1;31mFailed to start the Kernel. \n",
      "\u001b[1;31mzmq.error.ZMQError: Address already in use (addr='tcp://127.0.0.1:9052'). \n",
      "\u001b[1;31mView Jupyter <a href='command:jupyter.viewOutput'>log</a> for further details."
     ]
    }
   ],
   "source": [
    "def lorentzian(x, a, b, c, d, e):\n",
    "    y = a/((x-b)**2+np.exp(c))+d+e*x\n",
    "    return y"
   ]
  },
  {
   "cell_type": "code",
   "execution_count": null,
   "metadata": {},
   "outputs": [
    {
     "ename": "",
     "evalue": "",
     "output_type": "error",
     "traceback": [
      "\u001b[1;31mFailed to start the Kernel. \n",
      "\u001b[1;31mzmq.error.ZMQError: Address already in use (addr='tcp://127.0.0.1:9052'). \n",
      "\u001b[1;31mView Jupyter <a href='command:jupyter.viewOutput'>log</a> for further details."
     ]
    }
   ],
   "source": [
    "sig_kin = []\n",
    "sig_kin_p = []\n",
    "for i in range(0,len(mode_index_kin)-2):\n",
    "    sig_kin.append(mode.sigma(p_mode_kin[i]['y'], P_k1_kin_filt[indx_list_kin[i]['lb']:indx_list_kin[i]['ub']]))\n",
    "    sig_kin_p.append(sig_kin[i]*np.ones(len(p_mode_kin[i]['y'])))"
   ]
  },
  {
   "cell_type": "code",
   "execution_count": null,
   "metadata": {},
   "outputs": [
    {
     "ename": "",
     "evalue": "",
     "output_type": "error",
     "traceback": [
      "\u001b[1;31mFailed to start the Kernel. \n",
      "\u001b[1;31mzmq.error.ZMQError: Address already in use (addr='tcp://127.0.0.1:9052'). \n",
      "\u001b[1;31mView Jupyter <a href='command:jupyter.viewOutput'>log</a> for further details."
     ]
    }
   ],
   "source": [
    "p0_kin = []\n",
    "fitted_kin_p = []\n",
    "for i in range(0,len(mode_index_kin)-2):\n",
    "    p0_kin.append(np.array([2,om_tilde_kin[mode_index_kin[i]],-2,100,0.1]))\n",
    "    fitted_kin_p.append(mode.mode_fit(lorentzian,om_tilde_kin[indx_list_kin[i]['lb']:indx_list_kin[i]['ub']],p_mode_kin[i]['y'], base=True, p0=p0_kin[i]))"
   ]
  },
  {
   "cell_type": "code",
   "execution_count": null,
   "metadata": {},
   "outputs": [
    {
     "ename": "",
     "evalue": "",
     "output_type": "error",
     "traceback": [
      "\u001b[1;31mFailed to start the Kernel. \n",
      "\u001b[1;31mzmq.error.ZMQError: Address already in use (addr='tcp://127.0.0.1:9052'). \n",
      "\u001b[1;31mView Jupyter <a href='command:jupyter.viewOutput'>log</a> for further details."
     ]
    }
   ],
   "source": [
    "p_mode_om_kin = []\n",
    "for i in range(0,len(mode_index_kin)-1):\n",
    "    p_mode_om_kin.append(round(om_tilde_kin[mode_index_kin[i]],3))"
   ]
  },
  {
   "cell_type": "code",
   "execution_count": null,
   "metadata": {},
   "outputs": [
    {
     "ename": "",
     "evalue": "",
     "output_type": "error",
     "traceback": [
      "\u001b[1;31mFailed to start the Kernel. \n",
      "\u001b[1;31mzmq.error.ZMQError: Address already in use (addr='tcp://127.0.0.1:9052'). \n",
      "\u001b[1;31mView Jupyter <a href='command:jupyter.viewOutput'>log</a> for further details."
     ]
    }
   ],
   "source": [
    "i = 0\n",
    "fig, axs = plt.subplots(2,2, sharey=True, figsize=(14,10))\n",
    "\n",
    "axs[0,0].plot(p_mode_kin[i]['x'], p_mode_kin[i]['y'], ls=\":\", alpha=0.6, label=fr\"$\\tilde{{\\omega}}={p_mode_om_kin[i]}$\")\n",
    "axs[0,0].plot(om_mode_kin[i], P_k1_kin_filt[indx_list_kin[i]['lb']:indx_list_kin[i]['ub']], label='filttered')\n",
    "axs[0,0].plot(om_mode_kin[i], fitted_kin_p[i], color='k')\n",
    "# axes[0].plot(om_tilde_kin[idl_f_kin:idu_f_kin], fitted_f_kin_lor, color='k')\n",
    "axs[0,0].legend()\n",
    "\n",
    "axs[0,1].plot(p_mode_kin[i+1]['x'], p_mode_kin[i+1]['y'], ls=\":\", alpha=0.6, label=fr\"$\\tilde{{\\omega}}={p_mode_om_kin[i+1]}$\")\n",
    "axs[0,1].plot(om_mode_kin[i+1], P_k1_kin_filt[indx_list_kin[i+1]['lb']:indx_list_kin[i+1]['ub']], label='filttered')\n",
    "axs[0,1].plot(om_mode_kin[i+1], fitted_kin_p[i+1], color='k')\n",
    "# axes[0].plot(om_tilde_kin[idl_f_kin:idu_f_kin], fitted_f_kin_lor, color='k')\n",
    "axs[0,1].legend()\n",
    "\n",
    "axs[1,0].plot(p_mode_kin[i+2]['x'], p_mode_kin[i+2]['y'], ls=\":\", alpha=0.6, label=fr\"$\\tilde{{\\omega}}={p_mode_om_kin[i+2]}$\")\n",
    "axs[1,0].plot(om_mode_kin[i+2], P_k1_kin_filt[indx_list_kin[i+2]['lb']:indx_list_kin[i+2]['ub']], label='filttered')\n",
    "axs[1,0].plot(om_mode_kin[i+2], fitted_kin_p[i+2], color='k')\n",
    "# axes[0].plot(om_tilde_kin[idl_f_kin:idu_f_kin], fitted_f_kin_lor, color='k')\n",
    "axs[1,0].legend()\n",
    "\n",
    "axs[1,1].plot(p_mode_kin[i+3]['x'], p_mode_kin[i+3]['y'], ls=\":\", alpha=0.6, label=fr\"$\\tilde{{\\omega}}={p_mode_om_kin[i+3]}$\")\n",
    "axs[1,1].plot(om_mode_kin[i+3], P_k1_kin_filt[indx_list_kin[i+3]['lb']:indx_list_kin[i+3]['ub']], label='filttered')\n",
    "axs[1,1].plot(om_mode_kin[i+3], fitted_kin_p[i+3], color='k')\n",
    "# axes[0].plot(om_tilde_kin[idl_f_kin:idu_f_kin], fitted_f_kin_lor, color='k')\n",
    "axs[1,1].legend()\n",
    "\n",
    "plt.suptitle('p-modes for kinematic phase')\n",
    "fig.supxlabel(r\"$\\tilde{\\omega}$\")\n",
    "fig.supylabel(r\"$\\tilde{P}(\\tilde{\\omega})$\")\n",
    "plt.tight_layout()\n",
    "plt.show()"
   ]
  },
  {
   "cell_type": "markdown",
   "metadata": {},
   "source": [
    "### for saturated phase"
   ]
  },
  {
   "cell_type": "markdown",
   "metadata": {},
   "source": [
    "index of p-modes"
   ]
  },
  {
   "cell_type": "code",
   "execution_count": null,
   "metadata": {},
   "outputs": [
    {
     "ename": "",
     "evalue": "",
     "output_type": "error",
     "traceback": [
      "\u001b[1;31mFailed to start the Kernel. \n",
      "\u001b[1;31mzmq.error.ZMQError: Address already in use (addr='tcp://127.0.0.1:9052'). \n",
      "\u001b[1;31mView Jupyter <a href='command:jupyter.viewOutput'>log</a> for further details."
     ]
    }
   ],
   "source": [
    "index_sat = mode.mode_finder(om_tilde_sat[:indx_sat], P_k1_sat, False, thres=0.2, min_dist=200)\n",
    "mode_index_sat = np.array([])\n",
    "for i in range(len(index_sat)):\n",
    "    if index_sat[i]<80:\n",
    "        mode_index_sat = np.delete(index_sat, i)\n",
    "\n",
    "lb_sat = [130, 130, 130, 130, 120]\n",
    "ub_sat = [130, 130, 130, 130, 120]\n",
    "\n",
    "indx_list_sat = []\n",
    "om_mode_sat = []\n",
    "for i in range(0,len(mode_index_sat)-2):\n",
    "    indx_list_sat.append(mode.mode_indx(mode_index_sat[i], lb_sat[i], ub_sat[i]))\n",
    "    om_mode_sat.append(om_tilde_sat[indx_list_sat[i]['lb']:indx_list_sat[i]['ub']])\n",
    "# lb[0], lb[-1], mode_index"
   ]
  },
  {
   "cell_type": "code",
   "execution_count": null,
   "metadata": {},
   "outputs": [
    {
     "ename": "",
     "evalue": "",
     "output_type": "error",
     "traceback": [
      "\u001b[1;31mFailed to start the Kernel. \n",
      "\u001b[1;31mzmq.error.ZMQError: Address already in use (addr='tcp://127.0.0.1:9052'). \n",
      "\u001b[1;31mView Jupyter <a href='command:jupyter.viewOutput'>log</a> for further details."
     ]
    }
   ],
   "source": [
    "mode_index_sat"
   ]
  },
  {
   "cell_type": "code",
   "execution_count": null,
   "metadata": {},
   "outputs": [
    {
     "ename": "",
     "evalue": "",
     "output_type": "error",
     "traceback": [
      "\u001b[1;31mFailed to start the Kernel. \n",
      "\u001b[1;31mzmq.error.ZMQError: Address already in use (addr='tcp://127.0.0.1:9052'). \n",
      "\u001b[1;31mView Jupyter <a href='command:jupyter.viewOutput'>log</a> for further details."
     ]
    }
   ],
   "source": [
    "mode_index_kin"
   ]
  },
  {
   "cell_type": "code",
   "execution_count": null,
   "metadata": {},
   "outputs": [
    {
     "ename": "",
     "evalue": "",
     "output_type": "error",
     "traceback": [
      "\u001b[1;31mFailed to start the Kernel. \n",
      "\u001b[1;31mzmq.error.ZMQError: Address already in use (addr='tcp://127.0.0.1:9052'). \n",
      "\u001b[1;31mView Jupyter <a href='command:jupyter.viewOutput'>log</a> for further details."
     ]
    }
   ],
   "source": [
    "p_mode_sat = []\n",
    "for i in range(len(mode_index_sat)-2):\n",
    "    p_mode_sat.append(mode.mode_data(P_k1_sat, om_tilde_sat[:indx_sat], indx_list_sat[i]))"
   ]
  },
  {
   "cell_type": "code",
   "execution_count": null,
   "metadata": {},
   "outputs": [
    {
     "ename": "",
     "evalue": "",
     "output_type": "error",
     "traceback": [
      "\u001b[1;31mFailed to start the Kernel. \n",
      "\u001b[1;31mzmq.error.ZMQError: Address already in use (addr='tcp://127.0.0.1:9052'). \n",
      "\u001b[1;31mView Jupyter <a href='command:jupyter.viewOutput'>log</a> for further details."
     ]
    }
   ],
   "source": [
    "                i = 0\n",
    "fig, axs = plt.subplots(2,2, sharey=True, figsize=(16,8))\n",
    "\n",
    "axs[0,0].plot(p_mode_sat[i]['x'], p_mode_sat[i]['y'], alpha=0.6, label=fr\"$\\tilde{{\\omega}}={p_om[i]}$\")\n",
    "axs[0,0].plot(om_mode_sat[i], P_k1_sat_filt[indx_list_sat[i]['lb']:indx_list_sat[i]['ub']], label='filttered')\n",
    "# axs[0,0].axvline(x = om_tilde_sat[mode_index_sat[1]])\n",
    "axs[0,0].legend()\n",
    "axs[0,1].plot(p_mode_sat[i+1]['x'], p_mode_sat[i+1]['y'], alpha=0.6, label=fr\"$\\tilde{{\\omega}}={p_om[i+1]}$\")\n",
    "axs[0,1].plot(om_mode_sat[i+1], P_k1_sat_filt[indx_list_sat[i+1]['lb']:indx_list_sat[i+1]['ub']], label='filttered')\n",
    "axs[0,1].legend()\n",
    "axs[1,0].plot(p_mode_sat[i+2]['x'], p_mode_sat[i+2]['y'], alpha=0.6, label=fr\"$\\tilde{{\\omega}}={p_om[i+2]}$\")\n",
    "axs[1,0].plot(om_mode_sat[i+2], P_k1_sat_filt[indx_list_sat[i+2]['lb']:indx_list_sat[i+2]['ub']], label='filttered')\n",
    "axs[1,0].legend()\n",
    "axs[1,1].plot(p_mode_sat[i+3]['x'], p_mode_sat[i+3]['y'], alpha=0.6, label=fr\"$\\tilde{{\\omega}}={p_om[i+3]}$\")\n",
    "axs[1,1].plot(om_mode_sat[i+3], P_k1_sat_filt[indx_list_sat[i+3]['lb']:indx_list_sat[i+3]['ub']], label='filttered')\n",
    "axs[1,1].legend()\n",
    "\n",
    "plt.suptitle('p-modes for satetic phase')\n",
    "fig.supxlabel(r\"$\\tilde{\\omega}$\")\n",
    "fig.supylabel(r\"$\\tilde{P}(\\tilde{\\omega})$\")\n",
    "plt.tight_layout()\n",
    "plt.show()"
   ]
  },
  {
   "cell_type": "code",
   "execution_count": null,
   "metadata": {},
   "outputs": [
    {
     "ename": "",
     "evalue": "",
     "output_type": "error",
     "traceback": [
      "\u001b[1;31mFailed to start the Kernel. \n",
      "\u001b[1;31mzmq.error.ZMQError: Address already in use (addr='tcp://127.0.0.1:9052'). \n",
      "\u001b[1;31mView Jupyter <a href='command:jupyter.viewOutput'>log</a> for further details."
     ]
    }
   ],
   "source": [
    "sig_sat = []\n",
    "sig_sat_p = []\n",
    "for i in range(0,len(mode_index_sat)-2):\n",
    "    sig_sat.append(mode.sigma(p_mode_sat[i]['y'], P_k1_sat_filt[indx_list_sat[i]['lb']:indx_list_sat[i]['ub']]))\n",
    "    sig_sat_p.append(sig_sat[i]*np.ones(len(p_mode_sat[i]['y'])))"
   ]
  },
  {
   "cell_type": "code",
   "execution_count": null,
   "metadata": {},
   "outputs": [
    {
     "ename": "",
     "evalue": "",
     "output_type": "error",
     "traceback": [
      "\u001b[1;31mFailed to start the Kernel. \n",
      "\u001b[1;31mzmq.error.ZMQError: Address already in use (addr='tcp://127.0.0.1:9052'). \n",
      "\u001b[1;31mView Jupyter <a href='command:jupyter.viewOutput'>log</a> for further details."
     ]
    }
   ],
   "source": [
    "p0_sat = []\n",
    "fitted_sat_p = []\n",
    "for i in range(0,len(mode_index_sat)-2):\n",
    "    p0_sat.append(np.array([2,om_tilde_sat[mode_index_sat[i]],-2,100,0.1]))\n",
    "    fitted_sat_p.append(mode.mode_fit(lorentzian,om_tilde_sat[indx_list_sat[i]['lb']:indx_list_sat[i]['ub']],p_mode_sat[i]['y'],True, p0=p0_sat[i]))"
   ]
  },
  {
   "cell_type": "code",
   "execution_count": null,
   "metadata": {},
   "outputs": [
    {
     "ename": "",
     "evalue": "",
     "output_type": "error",
     "traceback": [
      "\u001b[1;31mFailed to start the Kernel. \n",
      "\u001b[1;31mzmq.error.ZMQError: Address already in use (addr='tcp://127.0.0.1:9052'). \n",
      "\u001b[1;31mView Jupyter <a href='command:jupyter.viewOutput'>log</a> for further details."
     ]
    }
   ],
   "source": [
    "p_mode_om_sat = []\n",
    "for i in range(0,len(mode_index_sat)-1):\n",
    "    p_mode_om_sat.append(round(om_tilde_sat[mode_index_sat[i]],3))"
   ]
  },
  {
   "cell_type": "code",
   "execution_count": null,
   "metadata": {},
   "outputs": [
    {
     "ename": "",
     "evalue": "",
     "output_type": "error",
     "traceback": [
      "\u001b[1;31mFailed to start the Kernel. \n",
      "\u001b[1;31mzmq.error.ZMQError: Address already in use (addr='tcp://127.0.0.1:9052'). \n",
      "\u001b[1;31mView Jupyter <a href='command:jupyter.viewOutput'>log</a> for further details."
     ]
    }
   ],
   "source": [
    "i = 0\n",
    "fig, axs = plt.subplots(2,2, sharey=True, figsize=(14,10))\n",
    "\n",
    "axs[0,0].plot(p_mode_sat[i]['x'], p_mode_sat[i]['y'], ls=\":\", alpha=0.6, label=fr\"$\\tilde{{\\omega}}={p_mode_om_sat[i]}$\")\n",
    "axs[0,0].plot(om_mode_sat[i], P_k1_sat_filt[indx_list_sat[i]['lb']:indx_list_sat[i]['ub']], label='filttered')\n",
    "axs[0,0].plot(om_mode_sat[i], fitted_sat_p[i], color='k')\n",
    "# axes[0].plot(om_tilde_sat[idl_f_sat:idu_f_sat], fitted_f_sat_lor, color='k')\n",
    "axs[0,0].legend()\n",
    "\n",
    "axs[0,1].plot(p_mode_sat[i+1]['x'], p_mode_sat[i+1]['y'], ls=\":\", alpha=0.6, label=fr\"$\\tilde{{\\omega}}={p_mode_om_sat[i+1]}$\")\n",
    "axs[0,1].plot(om_mode_sat[i+1], P_k1_sat_filt[indx_list_sat[i+1]['lb']:indx_list_sat[i+1]['ub']], label='filttered')\n",
    "axs[0,1].plot(om_mode_sat[i+1], fitted_sat_p[i+1], color='k')\n",
    "# axes[0].plot(om_tilde_sat[idl_f_sat:idu_f_sat], fitted_f_sat_lor, color='k')\n",
    "axs[0,1].legend()\n",
    "\n",
    "axs[1,0].plot(p_mode_sat[i+2]['x'], p_mode_sat[i+2]['y'], ls=\":\", alpha=0.6, label=fr\"$\\tilde{{\\omega}}={p_mode_om_sat[i+2]}$\")\n",
    "axs[1,0].plot(om_mode_sat[i+2], P_k1_sat_filt[indx_list_sat[i+2]['lb']:indx_list_sat[i+2]['ub']], label='filttered')\n",
    "axs[1,0].plot(om_mode_sat[i+2], fitted_sat_p[i+2], color='k')\n",
    "# axes[0].plot(om_tilde_sat[idl_f_sat:idu_f_sat], fitted_f_sat_lor, color='k')\n",
    "axs[1,0].legend()\n",
    "\n",
    "axs[1,1].plot(p_mode_sat[i+3]['x'], p_mode_sat[i+3]['y'], ls=\":\", alpha=0.6, label=fr\"$\\tilde{{\\omega}}={p_mode_om_sat[i+3]}$\")\n",
    "axs[1,1].plot(om_mode_sat[i+3], P_k1_sat_filt[indx_list_sat[i+3]['lb']:indx_list_sat[i+3]['ub']], label='filttered')\n",
    "axs[1,1].plot(om_mode_sat[i+3], fitted_sat_p[i+3], color='k')\n",
    "# axes[0].plot(om_tilde_sat[idl_f_sat:idu_f_sat], fitted_f_sat_lor, color='k')\n",
    "axs[1,1].legend()\n",
    "\n",
    "plt.suptitle('p-modes for saturated phase')\n",
    "fig.supxlabel(r\"$\\tilde{\\omega}$\")\n",
    "fig.supylabel(r\"$\\tilde{P}(\\tilde{\\omega})$\")\n",
    "plt.tight_layout()\n",
    "plt.show()"
   ]
  },
  {
   "cell_type": "markdown",
   "metadata": {},
   "source": [
    "## $k_x$ vs. mode parameters"
   ]
  },
  {
   "cell_type": "code",
   "execution_count": null,
   "metadata": {},
   "outputs": [
    {
     "ename": "",
     "evalue": "",
     "output_type": "error",
     "traceback": [
      "\u001b[1;31mFailed to start the Kernel. \n",
      "\u001b[1;31mzmq.error.ZMQError: Address already in use (addr='tcp://127.0.0.1:9052'). \n",
      "\u001b[1;31mView Jupyter <a href='command:jupyter.viewOutput'>log</a> for further details."
     ]
    }
   ],
   "source": [
    "indx_k = [1,2,3,4,5]"
   ]
  },
  {
   "cell_type": "markdown",
   "metadata": {},
   "source": [
    "### frequencies of f-modes for different $k_x$"
   ]
  },
  {
   "cell_type": "code",
   "execution_count": null,
   "metadata": {},
   "outputs": [
    {
     "ename": "",
     "evalue": "",
     "output_type": "error",
     "traceback": [
      "\u001b[1;31mFailed to start the Kernel. \n",
      "\u001b[1;31mzmq.error.ZMQError: Address already in use (addr='tcp://127.0.0.1:9052'). \n",
      "\u001b[1;31mView Jupyter <a href='command:jupyter.viewOutput'>log</a> for further details."
     ]
    }
   ],
   "source": [
    "f_mode_om = []\n",
    "for i in range(len(indx_k)):\n",
    "    f_mode_om.append(round(mode.fmodes(round(k_tilde[indx_k[i]],3)),3))"
   ]
  },
  {
   "cell_type": "markdown",
   "metadata": {},
   "source": [
    "### frequencies of p-modes for different $k_x$"
   ]
  },
  {
   "cell_type": "code",
   "execution_count": null,
   "metadata": {},
   "outputs": [
    {
     "ename": "",
     "evalue": "",
     "output_type": "error",
     "traceback": [
      "\u001b[1;31mFailed to start the Kernel. \n",
      "\u001b[1;31mzmq.error.ZMQError: Address already in use (addr='tcp://127.0.0.1:9052'). \n",
      "\u001b[1;31mView Jupyter <a href='command:jupyter.viewOutput'>log</a> for further details."
     ]
    }
   ],
   "source": [
    "p_mode_om = np.empty([len(indx_k),3])\n",
    "\n",
    "for i in range(len(indx_k)):\n",
    "    for j in range(3):\n",
    "        p_mode_om[i,j] = round(mode.pmodes(k_tilde[indx_k[i]],j),3)"
   ]
  },
  {
   "cell_type": "code",
   "execution_count": null,
   "metadata": {},
   "outputs": [
    {
     "ename": "",
     "evalue": "",
     "output_type": "error",
     "traceback": [
      "\u001b[1;31mFailed to start the Kernel. \n",
      "\u001b[1;31mzmq.error.ZMQError: Address already in use (addr='tcp://127.0.0.1:9052'). \n",
      "\u001b[1;31mView Jupyter <a href='command:jupyter.viewOutput'>log</a> for further details."
     ]
    }
   ],
   "source": [
    "p_mode_om.shape"
   ]
  },
  {
   "cell_type": "code",
   "execution_count": null,
   "metadata": {},
   "outputs": [
    {
     "ename": "",
     "evalue": "",
     "output_type": "error",
     "traceback": [
      "\u001b[1;31mFailed to start the Kernel. \n",
      "\u001b[1;31mzmq.error.ZMQError: Address already in use (addr='tcp://127.0.0.1:9052'). \n",
      "\u001b[1;31mView Jupyter <a href='command:jupyter.viewOutput'>log</a> for further details."
     ]
    }
   ],
   "source": [
    "P_k_kin = []\n",
    "P_k_sat = []\n",
    "\n",
    "P_k_kin_filt = []\n",
    "P_k_sat_filt = []\n",
    "\n",
    "for i in range(len(indx_k)):\n",
    "    P_k_kin.append(np.exp(logP_kin[:indx_kin,indx_k[i]]))\n",
    "    P_k_sat.append(np.exp(logP_sat[:indx_sat,indx_k[i]]))\n",
    "    P_k_kin_filt.append(gaussian_filter(P_k_kin[i],3))\n",
    "    P_k_sat_filt.append(gaussian_filter(P_k_sat[i],3))"
   ]
  },
  {
   "cell_type": "code",
   "execution_count": null,
   "metadata": {},
   "outputs": [
    {
     "ename": "",
     "evalue": "",
     "output_type": "error",
     "traceback": [
      "\u001b[1;31mFailed to start the Kernel. \n",
      "\u001b[1;31mzmq.error.ZMQError: Address already in use (addr='tcp://127.0.0.1:9052'). \n",
      "\u001b[1;31mView Jupyter <a href='command:jupyter.viewOutput'>log</a> for further details."
     ]
    }
   ],
   "source": [
    "fig, axs = plt.subplots(4,1, figsize=(16,12))#sharex=True,\n",
    "\n",
    "axs[0].plot(om_tilde_kin[:indx_kin], P_k_kin[0], c='k', ls=':', alpha=0.4, label=fr'$k_x={round(k_tilde[1],3)}$')\n",
    "axs[0].plot(om_tilde_kin[:indx_kin], P_k_kin_filt[0], c='C2', label=r'$filttered$')\n",
    "# axs[0].plot((om_tilde_kin[idl_p2_kin_1:idu_p2_kin_1]), fitted_p2_kin_lor_1, color='k', label=r'$fitted$')\n",
    "axs[0].axvline(x=f_mode_om[0], ls=':')\n",
    "for i in range(3):\n",
    "    axs[0].axvline(x=p_mode_om[0,i], c='r', ls=':')\n",
    "# axs[0].grid()\n",
    "axs[0].set_xlim(0, 6)\n",
    "axs[0].set_ylim(0,)\n",
    "axs[0].legend()\n",
    "\n",
    "axs[1].plot(om_tilde_kin[:indx_kin], P_k_kin[1], c='k', ls=':', alpha=0.4, label=fr'$k_x={round(k_tilde[2],3)}$')\n",
    "axs[1].plot(om_tilde_kin[:indx_kin], P_k_kin_filt[1], c='C2', label=r'$filttered$')\n",
    "# axs[1].plot((om_tilde_kin[idl_p2_kin_2:idu_p2_kin_2]), fitted_p2_kin_lor_2, color='k', label=r'$fitted$')\n",
    "axs[1].axvline(x=f_mode_om[1], ls=':')\n",
    "for i in range(3):\n",
    "    axs[1].axvline(x=p_mode_om[1,i], c='r', ls=':')\n",
    "# axs[1].grid()\n",
    "axs[1].set_xlim(0, 6)\n",
    "axs[1].set_ylim(0,)\n",
    "axs[1].legend()\n",
    "\n",
    "axs[2].plot(om_tilde_kin[:indx_kin], P_k_kin[2], c='k', ls=':', alpha=0.4, label=fr'$k_x={round(k_tilde[3],3)}$')\n",
    "axs[2].plot(om_tilde_kin[:indx_kin], P_k_kin_filt[2], c='C2', label=r'$filttered$')\n",
    "# axs[2].plot((om_tilde_kin[idl_p2_kin_3:idu_p2_kin_3]), fitted_p2_kin_lor_3, color='k', label=r'$fitted$')\n",
    "axs[2].axvline(x=f_mode_om[2], ls=':')\n",
    "for i in range(3):\n",
    "    axs[2].axvline(x=p_mode_om[2,i], c='r', ls=':')\n",
    "# axs[2].grid()\n",
    "axs[2].set_xlim(0, 6)\n",
    "axs[2].set_ylim(0,)\n",
    "axs[2].legend()\n",
    "\n",
    "axs[3].plot(om_tilde_kin[:indx_kin], P_k_kin[3], c='k', ls=':', alpha=0.4, label=fr'$k_x={round(k_tilde[4],3)}$')\n",
    "axs[3].plot(om_tilde_kin[:indx_kin], P_k_kin_filt[3], c='C2', label=r'$filttered$')\n",
    "axs[3].axvline(x=f_mode_om[3], ls=':')\n",
    "# axs[3].plot((om_tilde_kin[idl_p2_kin_4:idu_p2_kin_4]), fitted_p2_kin_lor_4, color='k', label=r'$fitted$')\n",
    "for i in range(3):\n",
    "    axs[3].axvline(x=p_mode_om[3,i], c='r', ls=':')\n",
    "# axs[3].grid()\n",
    "axs[3].set_xlim(0, 6)\n",
    "axs[3].set_ylim(0,)\n",
    "axs[3].legend()\n",
    "\n",
    "\n",
    "# plt.axvline(x=idl_f_kin)\n",
    "# plt.axvline(x=idu_f_kin)\n",
    "plt.xlabel(r\"$\\tilde{\\omega}$\")\n",
    "fig.supylabel(r\"$\\tilde{P}(\\tilde{\\omega})$\")\n",
    "# plt.suptitle(r\"for $\\tilde{k}_x=2$\")\n",
    "plt.tight_layout()\n",
    "plt.show()"
   ]
  },
  {
   "cell_type": "code",
   "execution_count": null,
   "metadata": {},
   "outputs": [
    {
     "ename": "",
     "evalue": "",
     "output_type": "error",
     "traceback": [
      "\u001b[1;31mFailed to start the Kernel. \n",
      "\u001b[1;31mzmq.error.ZMQError: Address already in use (addr='tcp://127.0.0.1:9052'). \n",
      "\u001b[1;31mView Jupyter <a href='command:jupyter.viewOutput'>log</a> for further details."
     ]
    }
   ],
   "source": []
  },
  {
   "cell_type": "code",
   "execution_count": null,
   "metadata": {},
   "outputs": [
    {
     "ename": "",
     "evalue": "",
     "output_type": "error",
     "traceback": [
      "\u001b[1;31mFailed to start the Kernel. \n",
      "\u001b[1;31mzmq.error.ZMQError: Address already in use (addr='tcp://127.0.0.1:9052'). \n",
      "\u001b[1;31mView Jupyter <a href='command:jupyter.viewOutput'>log</a> for further details."
     ]
    }
   ],
   "source": []
  },
  {
   "cell_type": "code",
   "execution_count": null,
   "metadata": {},
   "outputs": [
    {
     "ename": "",
     "evalue": "",
     "output_type": "error",
     "traceback": [
      "\u001b[1;31mFailed to start the Kernel. \n",
      "\u001b[1;31mzmq.error.ZMQError: Address already in use (addr='tcp://127.0.0.1:9052'). \n",
      "\u001b[1;31mView Jupyter <a href='command:jupyter.viewOutput'>log</a> for further details."
     ]
    }
   ],
   "source": [
    "f_om"
   ]
  },
  {
   "cell_type": "code",
   "execution_count": null,
   "metadata": {},
   "outputs": [
    {
     "ename": "",
     "evalue": "",
     "output_type": "error",
     "traceback": [
      "\u001b[1;31mFailed to start the Kernel. \n",
      "\u001b[1;31mzmq.error.ZMQError: Address already in use (addr='tcp://127.0.0.1:9052'). \n",
      "\u001b[1;31mView Jupyter <a href='command:jupyter.viewOutput'>log</a> for further details."
     ]
    }
   ],
   "source": []
  }
 ],
 "metadata": {
  "kernelspec": {
   "display_name": "base",
   "language": "python",
   "name": "python3"
  },
  "language_info": {
   "codemirror_mode": {
    "name": "ipython",
    "version": 3
   },
   "file_extension": ".py",
   "mimetype": "text/x-python",
   "name": "python",
   "nbconvert_exporter": "python",
   "pygments_lexer": "ipython3",
   "version": "3.11.8"
  }
 },
 "nbformat": 4,
 "nbformat_minor": 2
}
